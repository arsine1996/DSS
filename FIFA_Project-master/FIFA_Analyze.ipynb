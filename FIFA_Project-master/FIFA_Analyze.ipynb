{
 "cells": [
  {
   "cell_type": "code",
   "execution_count": 2,
   "metadata": {},
   "outputs": [],
   "source": [
    "import numpy as np\n",
    "import pandas as pd\n",
    "import matplotlib.pyplot as plt\n",
    "import seaborn as sns\n",
    "from sklearn.cross_decomposition import PLSRegression, PLSSVD\n",
    "from sklearn.metrics import mean_squared_error\n",
    "from sklearn.model_selection import train_test_split\n",
    "from statsmodels.discrete.discrete_model import Logit\n",
    "from sklearn.linear_model import LogisticRegression\n",
    "from sklearn.metrics import confusion_matrix, classification_report\n",
    "from sklearn.model_selection import GridSearchCV\n",
    "from sklearn.metrics import recall_score, roc_auc_score, roc_curve\n",
    "from sklearn.preprocessing import StandardScaler\n",
    "import statsmodels.api as sm\n",
    "from sklearn.preprocessing import scale \n",
    "from sklearn import model_selection\n",
    "from sklearn.linear_model import LinearRegression\n",
    "from sklearn.metrics import r2_score\n",
    "from sklearn.tree import DecisionTreeClassifier\n",
    "from sklearn.ensemble import RandomForestClassifier, GradientBoostingClassifier"
   ]
  },
  {
   "cell_type": "code",
   "execution_count": 3,
   "metadata": {},
   "outputs": [
    {
     "data": {
      "text/html": [
       "<div>\n",
       "<style scoped>\n",
       "    .dataframe tbody tr th:only-of-type {\n",
       "        vertical-align: middle;\n",
       "    }\n",
       "\n",
       "    .dataframe tbody tr th {\n",
       "        vertical-align: top;\n",
       "    }\n",
       "\n",
       "    .dataframe thead th {\n",
       "        text-align: right;\n",
       "    }\n",
       "</style>\n",
       "<table border=\"1\" class=\"dataframe\">\n",
       "  <thead>\n",
       "    <tr style=\"text-align: right;\">\n",
       "      <th></th>\n",
       "      <th>Acceleration</th>\n",
       "      <th>Aggression</th>\n",
       "      <th>Agility</th>\n",
       "      <th>Balance</th>\n",
       "      <th>Ball_control</th>\n",
       "      <th>Composure</th>\n",
       "      <th>Crossing</th>\n",
       "      <th>Curve</th>\n",
       "      <th>Dribbling</th>\n",
       "      <th>Finishing</th>\n",
       "      <th>...</th>\n",
       "      <th>Volleys</th>\n",
       "      <th>Name</th>\n",
       "      <th>Age</th>\n",
       "      <th>Nationality</th>\n",
       "      <th>Overall</th>\n",
       "      <th>Potential</th>\n",
       "      <th>Club</th>\n",
       "      <th>Value</th>\n",
       "      <th>Wage</th>\n",
       "      <th>Real</th>\n",
       "    </tr>\n",
       "  </thead>\n",
       "  <tbody>\n",
       "    <tr>\n",
       "      <th>0</th>\n",
       "      <td>89</td>\n",
       "      <td>63</td>\n",
       "      <td>89</td>\n",
       "      <td>63</td>\n",
       "      <td>93</td>\n",
       "      <td>95</td>\n",
       "      <td>85</td>\n",
       "      <td>81</td>\n",
       "      <td>91</td>\n",
       "      <td>94</td>\n",
       "      <td>...</td>\n",
       "      <td>88</td>\n",
       "      <td>Cristiano Ronaldo</td>\n",
       "      <td>32</td>\n",
       "      <td>Portugal</td>\n",
       "      <td>94</td>\n",
       "      <td>94</td>\n",
       "      <td>Real Madrid CF</td>\n",
       "      <td>95500</td>\n",
       "      <td>565</td>\n",
       "      <td>LS</td>\n",
       "    </tr>\n",
       "    <tr>\n",
       "      <th>1</th>\n",
       "      <td>92</td>\n",
       "      <td>48</td>\n",
       "      <td>90</td>\n",
       "      <td>95</td>\n",
       "      <td>95</td>\n",
       "      <td>96</td>\n",
       "      <td>77</td>\n",
       "      <td>89</td>\n",
       "      <td>97</td>\n",
       "      <td>95</td>\n",
       "      <td>...</td>\n",
       "      <td>85</td>\n",
       "      <td>L. Messi</td>\n",
       "      <td>30</td>\n",
       "      <td>Argentina</td>\n",
       "      <td>93</td>\n",
       "      <td>93</td>\n",
       "      <td>FC Barcelona</td>\n",
       "      <td>105000</td>\n",
       "      <td>565</td>\n",
       "      <td>CAM</td>\n",
       "    </tr>\n",
       "    <tr>\n",
       "      <th>2</th>\n",
       "      <td>94</td>\n",
       "      <td>56</td>\n",
       "      <td>96</td>\n",
       "      <td>82</td>\n",
       "      <td>95</td>\n",
       "      <td>92</td>\n",
       "      <td>75</td>\n",
       "      <td>81</td>\n",
       "      <td>96</td>\n",
       "      <td>89</td>\n",
       "      <td>...</td>\n",
       "      <td>83</td>\n",
       "      <td>Neymar</td>\n",
       "      <td>25</td>\n",
       "      <td>Brazil</td>\n",
       "      <td>92</td>\n",
       "      <td>94</td>\n",
       "      <td>Paris Saint-Germain</td>\n",
       "      <td>123000</td>\n",
       "      <td>280</td>\n",
       "      <td>LW</td>\n",
       "    </tr>\n",
       "    <tr>\n",
       "      <th>3</th>\n",
       "      <td>88</td>\n",
       "      <td>78</td>\n",
       "      <td>86</td>\n",
       "      <td>60</td>\n",
       "      <td>91</td>\n",
       "      <td>83</td>\n",
       "      <td>77</td>\n",
       "      <td>86</td>\n",
       "      <td>86</td>\n",
       "      <td>94</td>\n",
       "      <td>...</td>\n",
       "      <td>88</td>\n",
       "      <td>L. SuÌÁrez</td>\n",
       "      <td>30</td>\n",
       "      <td>Uruguay</td>\n",
       "      <td>92</td>\n",
       "      <td>92</td>\n",
       "      <td>FC Barcelona</td>\n",
       "      <td>97000</td>\n",
       "      <td>510</td>\n",
       "      <td>CF</td>\n",
       "    </tr>\n",
       "    <tr>\n",
       "      <th>4</th>\n",
       "      <td>79</td>\n",
       "      <td>80</td>\n",
       "      <td>78</td>\n",
       "      <td>80</td>\n",
       "      <td>89</td>\n",
       "      <td>87</td>\n",
       "      <td>62</td>\n",
       "      <td>77</td>\n",
       "      <td>85</td>\n",
       "      <td>91</td>\n",
       "      <td>...</td>\n",
       "      <td>87</td>\n",
       "      <td>R. Lewandowski</td>\n",
       "      <td>28</td>\n",
       "      <td>Poland</td>\n",
       "      <td>91</td>\n",
       "      <td>91</td>\n",
       "      <td>FC Bayern Munich</td>\n",
       "      <td>92000</td>\n",
       "      <td>355</td>\n",
       "      <td>LS</td>\n",
       "    </tr>\n",
       "  </tbody>\n",
       "</table>\n",
       "<p>5 rows × 43 columns</p>\n",
       "</div>"
      ],
      "text/plain": [
       "   Acceleration  Aggression  Agility  Balance  Ball_control  Composure  \\\n",
       "0            89          63       89       63            93         95   \n",
       "1            92          48       90       95            95         96   \n",
       "2            94          56       96       82            95         92   \n",
       "3            88          78       86       60            91         83   \n",
       "4            79          80       78       80            89         87   \n",
       "\n",
       "   Crossing  Curve  Dribbling  Finishing  ...   Volleys               Name  \\\n",
       "0        85     81         91         94  ...        88  Cristiano Ronaldo   \n",
       "1        77     89         97         95  ...        85           L. Messi   \n",
       "2        75     81         96         89  ...        83             Neymar   \n",
       "3        77     86         86         94  ...        88         L. SuÌÁrez   \n",
       "4        62     77         85         91  ...        87     R. Lewandowski   \n",
       "\n",
       "   Age  Nationality  Overall  Potential                 Club   Value  Wage  \\\n",
       "0   32     Portugal       94         94       Real Madrid CF   95500   565   \n",
       "1   30    Argentina       93         93         FC Barcelona  105000   565   \n",
       "2   25       Brazil       92         94  Paris Saint-Germain  123000   280   \n",
       "3   30      Uruguay       92         92         FC Barcelona   97000   510   \n",
       "4   28       Poland       91         91     FC Bayern Munich   92000   355   \n",
       "\n",
       "   Real  \n",
       "0    LS  \n",
       "1   CAM  \n",
       "2    LW  \n",
       "3    CF  \n",
       "4    LS  \n",
       "\n",
       "[5 rows x 43 columns]"
      ]
     },
     "execution_count": 3,
     "metadata": {},
     "output_type": "execute_result"
    }
   ],
   "source": [
    "data=pd.read_excel(\"FIFA7.xlsx\")\n",
    "data.head()"
   ]
  },
  {
   "cell_type": "code",
   "execution_count": 4,
   "metadata": {},
   "outputs": [
    {
     "name": "stdout",
     "output_type": "stream",
     "text": [
      "<class 'pandas.core.frame.DataFrame'>\n",
      "Int64Index: 15741 entries, 0 to 15740\n",
      "Data columns (total 43 columns):\n",
      "Acceleration          15741 non-null int64\n",
      "Aggression            15741 non-null int64\n",
      "Agility               15741 non-null int64\n",
      "Balance               15741 non-null int64\n",
      "Ball_control          15741 non-null int64\n",
      "Composure             15741 non-null int64\n",
      "Crossing              15741 non-null int64\n",
      "Curve                 15741 non-null int64\n",
      "Dribbling             15741 non-null int64\n",
      "Finishing             15741 non-null int64\n",
      "Free_kick_accuracy    15741 non-null int64\n",
      "GK_diving             15741 non-null int64\n",
      "GK_handling           15741 non-null int64\n",
      "GK_kicking            15741 non-null int64\n",
      "GK_positioning        15741 non-null int64\n",
      "GK_reflexes           15741 non-null int64\n",
      "Heading_accuracy      15741 non-null int64\n",
      "Interceptions         15741 non-null int64\n",
      "Jumping               15741 non-null int64\n",
      "Long_passing          15741 non-null int64\n",
      "Long_shots            15741 non-null int64\n",
      "Marking               15741 non-null int64\n",
      "Penalties             15741 non-null int64\n",
      "Positioning           15741 non-null int64\n",
      "Reactions             15741 non-null int64\n",
      "Short_passing         15741 non-null int64\n",
      "Shot_power            15741 non-null int64\n",
      "Sliding_tackle        15741 non-null int64\n",
      "Sprint_speed          15741 non-null int64\n",
      "Stamina               15741 non-null int64\n",
      "Standing_tackle       15741 non-null int64\n",
      "Strength              15741 non-null int64\n",
      "Vision                15741 non-null int64\n",
      "Volleys               15741 non-null int64\n",
      "Name                  15741 non-null object\n",
      "Age                   15741 non-null int64\n",
      "Nationality           15741 non-null object\n",
      "Overall               15741 non-null int64\n",
      "Potential             15741 non-null int64\n",
      "Club                  15741 non-null object\n",
      "Value                 15741 non-null int64\n",
      "Wage                  15741 non-null int64\n",
      "Real                  15741 non-null object\n",
      "dtypes: int64(39), object(4)\n",
      "memory usage: 5.3+ MB\n"
     ]
    }
   ],
   "source": [
    "data.info()"
   ]
  },
  {
   "cell_type": "code",
   "execution_count": 5,
   "metadata": {},
   "outputs": [
    {
     "data": {
      "text/plain": [
       "0"
      ]
     },
     "execution_count": 5,
     "metadata": {},
     "output_type": "execute_result"
    }
   ],
   "source": [
    "sum(data.isna().any())"
   ]
  },
  {
   "cell_type": "code",
   "execution_count": 6,
   "metadata": {},
   "outputs": [],
   "source": [
    "#drop non-important variables\n",
    "#drop wage & value as they do not affect rating, but rather are affected by it\n",
    "#drop positional column as it does not directly influence the rating\n",
    "data.drop([\"Club\",\"Nationality\",\"Name\",\"Wage\",\"Value\",\"Potential\",\"Real\"],axis=1,inplace=True)"
   ]
  },
  {
   "cell_type": "code",
   "execution_count": 7,
   "metadata": {},
   "outputs": [
    {
     "data": {
      "text/plain": [
       "0    94\n",
       "1    93\n",
       "2    92\n",
       "3    92\n",
       "4    91\n",
       "Name: Overall, dtype: int64"
      ]
     },
     "execution_count": 7,
     "metadata": {},
     "output_type": "execute_result"
    }
   ],
   "source": [
    "#create other column for classification of Y variables\n",
    "overall_clas=data.loc[:,\"Overall\"]\n",
    "overall_clas.head()"
   ]
  },
  {
   "cell_type": "code",
   "execution_count": 8,
   "metadata": {},
   "outputs": [
    {
     "data": {
      "image/png": "[encoded data removed]",
      "text/plain": [
       "<Figure size 432x288 with 1 Axes>"
      ]
     },
     "metadata": {},
     "output_type": "display_data"
    }
   ],
   "source": [
    "plt.boxplot(overall_clas)\n",
    "plt.title(\"overall_clas\")\n",
    "plt.show()"
   ]
  },
  {
   "cell_type": "code",
   "execution_count": 9,
   "metadata": {},
   "outputs": [
    {
     "name": "stdout",
     "output_type": "stream",
     "text": [
      "66.0\n"
     ]
    }
   ],
   "source": [
    "# as there are number of outliers, we decided to use median \n",
    "median = overall_clas.median()\n",
    "print(median)"
   ]
  },
  {
   "cell_type": "code",
   "execution_count": 10,
   "metadata": {},
   "outputs": [
    {
     "data": {
      "text/plain": [
       "0    1\n",
       "1    1\n",
       "2    1\n",
       "3    1\n",
       "4    1\n",
       "Name: Overall, dtype: int64"
      ]
     },
     "execution_count": 10,
     "metadata": {},
     "output_type": "execute_result"
    }
   ],
   "source": [
    "#classify Y into 0 & 1; 1-if rating is higher than the median & 0 if lower\n",
    "def classifier(x, limit):\n",
    "    if x > limit:\n",
    "        return 1\n",
    "    else:\n",
    "        return 0\n",
    "      \n",
    "overall_clas1 = overall_clas.apply(lambda x: classifier(x, median))\n",
    "overall_clas1.head()"
   ]
  },
  {
   "cell_type": "code",
   "execution_count": 11,
   "metadata": {},
   "outputs": [
    {
     "name": "stdout",
     "output_type": "stream",
     "text": [
      "<class 'pandas.core.frame.DataFrame'>\n",
      "Int64Index: 15741 entries, 0 to 15740\n",
      "Data columns (total 36 columns):\n",
      "Acceleration          15741 non-null int64\n",
      "Aggression            15741 non-null int64\n",
      "Agility               15741 non-null int64\n",
      "Balance               15741 non-null int64\n",
      "Ball_control          15741 non-null int64\n",
      "Composure             15741 non-null int64\n",
      "Crossing              15741 non-null int64\n",
      "Curve                 15741 non-null int64\n",
      "Dribbling             15741 non-null int64\n",
      "Finishing             15741 non-null int64\n",
      "Free_kick_accuracy    15741 non-null int64\n",
      "GK_diving             15741 non-null int64\n",
      "GK_handling           15741 non-null int64\n",
      "GK_kicking            15741 non-null int64\n",
      "GK_positioning        15741 non-null int64\n",
      "GK_reflexes           15741 non-null int64\n",
      "Heading_accuracy      15741 non-null int64\n",
      "Interceptions         15741 non-null int64\n",
      "Jumping               15741 non-null int64\n",
      "Long_passing          15741 non-null int64\n",
      "Long_shots            15741 non-null int64\n",
      "Marking               15741 non-null int64\n",
      "Penalties             15741 non-null int64\n",
      "Positioning           15741 non-null int64\n",
      "Reactions             15741 non-null int64\n",
      "Short_passing         15741 non-null int64\n",
      "Shot_power            15741 non-null int64\n",
      "Sliding_tackle        15741 non-null int64\n",
      "Sprint_speed          15741 non-null int64\n",
      "Stamina               15741 non-null int64\n",
      "Standing_tackle       15741 non-null int64\n",
      "Strength              15741 non-null int64\n",
      "Vision                15741 non-null int64\n",
      "Volleys               15741 non-null int64\n",
      "Age                   15741 non-null int64\n",
      "Overall               15741 non-null int64\n",
      "dtypes: int64(36)\n",
      "memory usage: 4.4 MB\n"
     ]
    }
   ],
   "source": [
    "data.info()\n",
    "#only numeric variables"
   ]
  },
  {
   "cell_type": "code",
   "execution_count": 12,
   "metadata": {},
   "outputs": [
    {
     "data": {
      "text/html": [
       "<div>\n",
       "<style scoped>\n",
       "    .dataframe tbody tr th:only-of-type {\n",
       "        vertical-align: middle;\n",
       "    }\n",
       "\n",
       "    .dataframe tbody tr th {\n",
       "        vertical-align: top;\n",
       "    }\n",
       "\n",
       "    .dataframe thead th {\n",
       "        text-align: right;\n",
       "    }\n",
       "</style>\n",
       "<table border=\"1\" class=\"dataframe\">\n",
       "  <thead>\n",
       "    <tr style=\"text-align: right;\">\n",
       "      <th></th>\n",
       "      <th>Acceleration</th>\n",
       "      <th>Aggression</th>\n",
       "      <th>Agility</th>\n",
       "      <th>Balance</th>\n",
       "      <th>Ball_control</th>\n",
       "      <th>Composure</th>\n",
       "      <th>Crossing</th>\n",
       "      <th>Curve</th>\n",
       "      <th>Dribbling</th>\n",
       "      <th>Finishing</th>\n",
       "      <th>...</th>\n",
       "      <th>Shot_power</th>\n",
       "      <th>Sliding_tackle</th>\n",
       "      <th>Sprint_speed</th>\n",
       "      <th>Stamina</th>\n",
       "      <th>Standing_tackle</th>\n",
       "      <th>Strength</th>\n",
       "      <th>Vision</th>\n",
       "      <th>Volleys</th>\n",
       "      <th>Age</th>\n",
       "      <th>Overall</th>\n",
       "    </tr>\n",
       "  </thead>\n",
       "  <tbody>\n",
       "    <tr>\n",
       "      <th>0</th>\n",
       "      <td>89</td>\n",
       "      <td>63</td>\n",
       "      <td>89</td>\n",
       "      <td>63</td>\n",
       "      <td>93</td>\n",
       "      <td>95</td>\n",
       "      <td>85</td>\n",
       "      <td>81</td>\n",
       "      <td>91</td>\n",
       "      <td>94</td>\n",
       "      <td>...</td>\n",
       "      <td>94</td>\n",
       "      <td>23</td>\n",
       "      <td>91</td>\n",
       "      <td>92</td>\n",
       "      <td>31</td>\n",
       "      <td>80</td>\n",
       "      <td>85</td>\n",
       "      <td>88</td>\n",
       "      <td>32</td>\n",
       "      <td>94</td>\n",
       "    </tr>\n",
       "    <tr>\n",
       "      <th>1</th>\n",
       "      <td>92</td>\n",
       "      <td>48</td>\n",
       "      <td>90</td>\n",
       "      <td>95</td>\n",
       "      <td>95</td>\n",
       "      <td>96</td>\n",
       "      <td>77</td>\n",
       "      <td>89</td>\n",
       "      <td>97</td>\n",
       "      <td>95</td>\n",
       "      <td>...</td>\n",
       "      <td>85</td>\n",
       "      <td>26</td>\n",
       "      <td>87</td>\n",
       "      <td>73</td>\n",
       "      <td>28</td>\n",
       "      <td>59</td>\n",
       "      <td>90</td>\n",
       "      <td>85</td>\n",
       "      <td>30</td>\n",
       "      <td>93</td>\n",
       "    </tr>\n",
       "    <tr>\n",
       "      <th>2</th>\n",
       "      <td>94</td>\n",
       "      <td>56</td>\n",
       "      <td>96</td>\n",
       "      <td>82</td>\n",
       "      <td>95</td>\n",
       "      <td>92</td>\n",
       "      <td>75</td>\n",
       "      <td>81</td>\n",
       "      <td>96</td>\n",
       "      <td>89</td>\n",
       "      <td>...</td>\n",
       "      <td>80</td>\n",
       "      <td>33</td>\n",
       "      <td>90</td>\n",
       "      <td>78</td>\n",
       "      <td>24</td>\n",
       "      <td>53</td>\n",
       "      <td>80</td>\n",
       "      <td>83</td>\n",
       "      <td>25</td>\n",
       "      <td>92</td>\n",
       "    </tr>\n",
       "    <tr>\n",
       "      <th>3</th>\n",
       "      <td>88</td>\n",
       "      <td>78</td>\n",
       "      <td>86</td>\n",
       "      <td>60</td>\n",
       "      <td>91</td>\n",
       "      <td>83</td>\n",
       "      <td>77</td>\n",
       "      <td>86</td>\n",
       "      <td>86</td>\n",
       "      <td>94</td>\n",
       "      <td>...</td>\n",
       "      <td>87</td>\n",
       "      <td>38</td>\n",
       "      <td>77</td>\n",
       "      <td>89</td>\n",
       "      <td>45</td>\n",
       "      <td>80</td>\n",
       "      <td>84</td>\n",
       "      <td>88</td>\n",
       "      <td>30</td>\n",
       "      <td>92</td>\n",
       "    </tr>\n",
       "    <tr>\n",
       "      <th>4</th>\n",
       "      <td>79</td>\n",
       "      <td>80</td>\n",
       "      <td>78</td>\n",
       "      <td>80</td>\n",
       "      <td>89</td>\n",
       "      <td>87</td>\n",
       "      <td>62</td>\n",
       "      <td>77</td>\n",
       "      <td>85</td>\n",
       "      <td>91</td>\n",
       "      <td>...</td>\n",
       "      <td>88</td>\n",
       "      <td>19</td>\n",
       "      <td>83</td>\n",
       "      <td>79</td>\n",
       "      <td>42</td>\n",
       "      <td>84</td>\n",
       "      <td>78</td>\n",
       "      <td>87</td>\n",
       "      <td>28</td>\n",
       "      <td>91</td>\n",
       "    </tr>\n",
       "  </tbody>\n",
       "</table>\n",
       "<p>5 rows × 36 columns</p>\n",
       "</div>"
      ],
      "text/plain": [
       "   Acceleration  Aggression  Agility  Balance  Ball_control  Composure  \\\n",
       "0            89          63       89       63            93         95   \n",
       "1            92          48       90       95            95         96   \n",
       "2            94          56       96       82            95         92   \n",
       "3            88          78       86       60            91         83   \n",
       "4            79          80       78       80            89         87   \n",
       "\n",
       "   Crossing  Curve  Dribbling  Finishing   ...     Shot_power  Sliding_tackle  \\\n",
       "0        85     81         91         94   ...             94              23   \n",
       "1        77     89         97         95   ...             85              26   \n",
       "2        75     81         96         89   ...             80              33   \n",
       "3        77     86         86         94   ...             87              38   \n",
       "4        62     77         85         91   ...             88              19   \n",
       "\n",
       "   Sprint_speed  Stamina  Standing_tackle  Strength  Vision  Volleys  Age  \\\n",
       "0            91       92               31        80      85       88   32   \n",
       "1            87       73               28        59      90       85   30   \n",
       "2            90       78               24        53      80       83   25   \n",
       "3            77       89               45        80      84       88   30   \n",
       "4            83       79               42        84      78       87   28   \n",
       "\n",
       "   Overall  \n",
       "0       94  \n",
       "1       93  \n",
       "2       92  \n",
       "3       92  \n",
       "4       91  \n",
       "\n",
       "[5 rows x 36 columns]"
      ]
     },
     "execution_count": 12,
     "metadata": {},
     "output_type": "execute_result"
    }
   ],
   "source": [
    "#create new dataset for droping highly correlated variables\n",
    "data_num=data.copy()\n",
    "data_num.head()"
   ]
  },
  {
   "cell_type": "code",
   "execution_count": 13,
   "metadata": {},
   "outputs": [
    {
     "data": {
      "text/plain": [
       "<matplotlib.axes._subplots.AxesSubplot at 0x1c15b89e48>"
      ]
     },
     "execution_count": 13,
     "metadata": {},
     "output_type": "execute_result"
    },
    {
     "data": {
      "image/png": "[encoded data removed]",
      "text/plain": [
       "<Figure size 1080x576 with 2 Axes>"
      ]
     },
     "metadata": {},
     "output_type": "display_data"
    }
   ],
   "source": [
    "#check for multicollinearity\n",
    "plt.figure(figsize=(15,8))\n",
    "sns.heatmap(data_num.corr().abs().round(2)>=0.75)"
   ]
  },
  {
   "cell_type": "code",
   "execution_count": 14,
   "metadata": {},
   "outputs": [],
   "source": [
    "data_num.drop([\"Long_shots\",\"Marking\",\"Sliding_tackle\",\"Long_passing\"],axis=1,inplace=True)"
   ]
  },
  {
   "cell_type": "code",
   "execution_count": 15,
   "metadata": {},
   "outputs": [
    {
     "data": {
      "text/plain": [
       "<matplotlib.axes._subplots.AxesSubplot at 0x1c16032438>"
      ]
     },
     "execution_count": 15,
     "metadata": {},
     "output_type": "execute_result"
    },
    {
     "data": {
      "image/png": "[encoded data removed]",
      "text/plain": [
       "<Figure size 1080x576 with 2 Axes>"
      ]
     },
     "metadata": {},
     "output_type": "display_data"
    }
   ],
   "source": [
    "plt.figure(figsize=(15,8))\n",
    "sns.heatmap(data_num.corr().abs().round(2)>=0.75)"
   ]
  },
  {
   "cell_type": "code",
   "execution_count": 16,
   "metadata": {},
   "outputs": [],
   "source": [
    "data_num.drop([\"Ball_control\",\"Positioning\",\"Volleys\"],axis=1,inplace=True)"
   ]
  },
  {
   "cell_type": "code",
   "execution_count": 17,
   "metadata": {},
   "outputs": [
    {
     "data": {
      "text/plain": [
       "<matplotlib.axes._subplots.AxesSubplot at 0x1c16183e48>"
      ]
     },
     "execution_count": 17,
     "metadata": {},
     "output_type": "execute_result"
    },
    {
     "data": {
      "image/png": "[encoded data removed]",
      "text/plain": [
       "<Figure size 1080x576 with 2 Axes>"
      ]
     },
     "metadata": {},
     "output_type": "display_data"
    }
   ],
   "source": [
    "plt.figure(figsize=(15,8))\n",
    "sns.heatmap(data_num.corr().abs().round(2)>=0.75)"
   ]
  },
  {
   "cell_type": "code",
   "execution_count": 18,
   "metadata": {},
   "outputs": [],
   "source": [
    "data_num.drop([\"Curve\",\"Interceptions\",\"Standing_tackle\",\"Free_kick_accuracy\"], axis=1,inplace=True)"
   ]
  },
  {
   "cell_type": "code",
   "execution_count": 19,
   "metadata": {},
   "outputs": [
    {
     "data": {
      "text/plain": [
       "<matplotlib.axes._subplots.AxesSubplot at 0x1c16256eb8>"
      ]
     },
     "execution_count": 19,
     "metadata": {},
     "output_type": "execute_result"
    },
    {
     "data": {
      "image/png": "[encoded data removed]",
      "text/plain": [
       "<Figure size 1080x576 with 2 Axes>"
      ]
     },
     "metadata": {},
     "output_type": "display_data"
    }
   ],
   "source": [
    "plt.figure(figsize=(15,8))\n",
    "sns.heatmap(data_num.corr().abs().round(2)>=0.75)"
   ]
  },
  {
   "cell_type": "code",
   "execution_count": 20,
   "metadata": {},
   "outputs": [],
   "source": [
    "data_num.drop([\"Sprint_speed\",\"Composure\",\"Reactions\"], axis=1,inplace=True)"
   ]
  },
  {
   "cell_type": "code",
   "execution_count": 21,
   "metadata": {},
   "outputs": [
    {
     "data": {
      "text/plain": [
       "<matplotlib.axes._subplots.AxesSubplot at 0x1c1631fa20>"
      ]
     },
     "execution_count": 21,
     "metadata": {},
     "output_type": "execute_result"
    },
    {
     "data": {
      "image/png": "[encoded data removed]",
      "text/plain": [
       "<Figure size 1080x576 with 2 Axes>"
      ]
     },
     "metadata": {},
     "output_type": "display_data"
    }
   ],
   "source": [
    "plt.figure(figsize=(15,8))\n",
    "sns.heatmap(data_num.corr().abs().round(2)>=0.75)"
   ]
  },
  {
   "cell_type": "code",
   "execution_count": 22,
   "metadata": {},
   "outputs": [],
   "source": [
    "# dropped 14 variables for solving multicollinearity problem"
   ]
  },
  {
   "cell_type": "code",
   "execution_count": 23,
   "metadata": {
    "scrolled": true
   },
   "outputs": [],
   "source": [
    "# data_clean is free from multicollinearity for model analyzes, except PLS\n",
    "data_clean = data_num"
   ]
  },
  {
   "cell_type": "code",
   "execution_count": 24,
   "metadata": {},
   "outputs": [
    {
     "data": {
      "text/plain": [
       "Index(['Acceleration', 'Aggression', 'Agility', 'Balance', 'Crossing',\n",
       "       'Dribbling', 'Finishing', 'GK_diving', 'GK_handling', 'GK_kicking',\n",
       "       'GK_positioning', 'GK_reflexes', 'Heading_accuracy', 'Jumping',\n",
       "       'Penalties', 'Short_passing', 'Shot_power', 'Stamina', 'Strength',\n",
       "       'Vision', 'Age', 'Overall'],\n",
       "      dtype='object')"
      ]
     },
     "execution_count": 24,
     "metadata": {},
     "output_type": "execute_result"
    }
   ],
   "source": [
    "data_clean.columns"
   ]
  },
  {
   "cell_type": "code",
   "execution_count": 25,
   "metadata": {},
   "outputs": [],
   "source": [
    "Y=data_clean.Overall\n",
    "X=scale(data_clean.drop(columns=\"Overall\"))\n",
    "X=pd.DataFrame(X)\n",
    "X.columns=['Acceleration', 'Aggression', 'Agility', 'Balance', 'Crossing',\n",
    "       'Dribbling', 'Finishing', 'GK_diving', 'GK_handling', 'GK_kicking',\n",
    "       'GK_positioning', 'GK_reflexes', 'Heading_accuracy', 'Jumping',\n",
    "       'Penalties', 'Short_passing', 'Shot_power', 'Stamina', 'Strength',\n",
    "       'Vision', 'Age']\n",
    "x_train, x_test, y_train, y_test = train_test_split(X,Y,test_size=0.25,random_state=42)"
   ]
  },
  {
   "cell_type": "code",
   "execution_count": 26,
   "metadata": {},
   "outputs": [
    {
     "data": {
      "text/html": [
       "<div>\n",
       "<style scoped>\n",
       "    .dataframe tbody tr th:only-of-type {\n",
       "        vertical-align: middle;\n",
       "    }\n",
       "\n",
       "    .dataframe tbody tr th {\n",
       "        vertical-align: top;\n",
       "    }\n",
       "\n",
       "    .dataframe thead th {\n",
       "        text-align: right;\n",
       "    }\n",
       "</style>\n",
       "<table border=\"1\" class=\"dataframe\">\n",
       "  <thead>\n",
       "    <tr style=\"text-align: right;\">\n",
       "      <th></th>\n",
       "      <th>Acceleration</th>\n",
       "      <th>Aggression</th>\n",
       "      <th>Agility</th>\n",
       "      <th>Balance</th>\n",
       "      <th>Crossing</th>\n",
       "      <th>Dribbling</th>\n",
       "      <th>Finishing</th>\n",
       "      <th>GK_diving</th>\n",
       "      <th>GK_handling</th>\n",
       "      <th>GK_kicking</th>\n",
       "      <th>...</th>\n",
       "      <th>GK_reflexes</th>\n",
       "      <th>Heading_accuracy</th>\n",
       "      <th>Jumping</th>\n",
       "      <th>Penalties</th>\n",
       "      <th>Short_passing</th>\n",
       "      <th>Shot_power</th>\n",
       "      <th>Stamina</th>\n",
       "      <th>Strength</th>\n",
       "      <th>Vision</th>\n",
       "      <th>Age</th>\n",
       "    </tr>\n",
       "  </thead>\n",
       "  <tbody>\n",
       "    <tr>\n",
       "      <th>0</th>\n",
       "      <td>1.777536</td>\n",
       "      <td>0.237013</td>\n",
       "      <td>1.819261</td>\n",
       "      <td>-0.280427</td>\n",
       "      <td>2.157787</td>\n",
       "      <td>2.406053</td>\n",
       "      <td>2.707366</td>\n",
       "      <td>-1.134021</td>\n",
       "      <td>0.123694</td>\n",
       "      <td>1.355807</td>\n",
       "      <td>...</td>\n",
       "      <td>0.130840</td>\n",
       "      <td>2.653676</td>\n",
       "      <td>2.499661</td>\n",
       "      <td>2.572488</td>\n",
       "      <td>2.043788</td>\n",
       "      <td>2.561898</td>\n",
       "      <td>2.180542</td>\n",
       "      <td>1.116149</td>\n",
       "      <td>2.283902</td>\n",
       "      <td>1.564276</td>\n",
       "    </tr>\n",
       "    <tr>\n",
       "      <th>1</th>\n",
       "      <td>2.030004</td>\n",
       "      <td>-0.785932</td>\n",
       "      <td>1.899263</td>\n",
       "      <td>2.340639</td>\n",
       "      <td>1.595761</td>\n",
       "      <td>2.876630</td>\n",
       "      <td>2.768226</td>\n",
       "      <td>-1.453427</td>\n",
       "      <td>0.123694</td>\n",
       "      <td>1.355807</td>\n",
       "      <td>...</td>\n",
       "      <td>-0.823685</td>\n",
       "      <td>1.192632</td>\n",
       "      <td>0.189159</td>\n",
       "      <td>1.698980</td>\n",
       "      <td>2.537843</td>\n",
       "      <td>1.885685</td>\n",
       "      <td>0.495837</td>\n",
       "      <td>-0.540685</td>\n",
       "      <td>2.666969</td>\n",
       "      <td>1.117907</td>\n",
       "    </tr>\n",
       "    <tr>\n",
       "      <th>2</th>\n",
       "      <td>2.198316</td>\n",
       "      <td>-0.240362</td>\n",
       "      <td>2.379272</td>\n",
       "      <td>1.275831</td>\n",
       "      <td>1.455255</td>\n",
       "      <td>2.798201</td>\n",
       "      <td>2.403062</td>\n",
       "      <td>-0.495210</td>\n",
       "      <td>-0.518797</td>\n",
       "      <td>1.355807</td>\n",
       "      <td>...</td>\n",
       "      <td>0.130840</td>\n",
       "      <td>0.419138</td>\n",
       "      <td>-0.409860</td>\n",
       "      <td>2.254848</td>\n",
       "      <td>1.846166</td>\n",
       "      <td>1.510012</td>\n",
       "      <td>0.939181</td>\n",
       "      <td>-1.014065</td>\n",
       "      <td>1.900835</td>\n",
       "      <td>0.001985</td>\n",
       "    </tr>\n",
       "    <tr>\n",
       "      <th>3</th>\n",
       "      <td>1.693380</td>\n",
       "      <td>1.259958</td>\n",
       "      <td>1.579256</td>\n",
       "      <td>-0.526152</td>\n",
       "      <td>1.595761</td>\n",
       "      <td>2.013904</td>\n",
       "      <td>2.707366</td>\n",
       "      <td>5.254093</td>\n",
       "      <td>4.621128</td>\n",
       "      <td>6.338196</td>\n",
       "      <td>...</td>\n",
       "      <td>8.403390</td>\n",
       "      <td>1.708295</td>\n",
       "      <td>0.274733</td>\n",
       "      <td>2.572488</td>\n",
       "      <td>2.043788</td>\n",
       "      <td>2.035955</td>\n",
       "      <td>1.914536</td>\n",
       "      <td>1.116149</td>\n",
       "      <td>2.207289</td>\n",
       "      <td>1.117907</td>\n",
       "    </tr>\n",
       "    <tr>\n",
       "      <th>4</th>\n",
       "      <td>0.935976</td>\n",
       "      <td>1.396351</td>\n",
       "      <td>0.939243</td>\n",
       "      <td>1.112014</td>\n",
       "      <td>0.541964</td>\n",
       "      <td>1.935475</td>\n",
       "      <td>2.524784</td>\n",
       "      <td>1.421225</td>\n",
       "      <td>-1.482532</td>\n",
       "      <td>0.421609</td>\n",
       "      <td>...</td>\n",
       "      <td>-0.187335</td>\n",
       "      <td>2.395845</td>\n",
       "      <td>1.558346</td>\n",
       "      <td>2.254848</td>\n",
       "      <td>2.043788</td>\n",
       "      <td>2.111089</td>\n",
       "      <td>1.027849</td>\n",
       "      <td>1.431736</td>\n",
       "      <td>1.747609</td>\n",
       "      <td>0.671538</td>\n",
       "    </tr>\n",
       "  </tbody>\n",
       "</table>\n",
       "<p>5 rows × 21 columns</p>\n",
       "</div>"
      ],
      "text/plain": [
       "   Acceleration  Aggression   Agility   Balance  Crossing  Dribbling  \\\n",
       "0      1.777536    0.237013  1.819261 -0.280427  2.157787   2.406053   \n",
       "1      2.030004   -0.785932  1.899263  2.340639  1.595761   2.876630   \n",
       "2      2.198316   -0.240362  2.379272  1.275831  1.455255   2.798201   \n",
       "3      1.693380    1.259958  1.579256 -0.526152  1.595761   2.013904   \n",
       "4      0.935976    1.396351  0.939243  1.112014  0.541964   1.935475   \n",
       "\n",
       "   Finishing  GK_diving  GK_handling  GK_kicking    ...     GK_reflexes  \\\n",
       "0   2.707366  -1.134021     0.123694    1.355807    ...        0.130840   \n",
       "1   2.768226  -1.453427     0.123694    1.355807    ...       -0.823685   \n",
       "2   2.403062  -0.495210    -0.518797    1.355807    ...        0.130840   \n",
       "3   2.707366   5.254093     4.621128    6.338196    ...        8.403390   \n",
       "4   2.524784   1.421225    -1.482532    0.421609    ...       -0.187335   \n",
       "\n",
       "   Heading_accuracy   Jumping  Penalties  Short_passing  Shot_power   Stamina  \\\n",
       "0          2.653676  2.499661   2.572488       2.043788    2.561898  2.180542   \n",
       "1          1.192632  0.189159   1.698980       2.537843    1.885685  0.495837   \n",
       "2          0.419138 -0.409860   2.254848       1.846166    1.510012  0.939181   \n",
       "3          1.708295  0.274733   2.572488       2.043788    2.035955  1.914536   \n",
       "4          2.395845  1.558346   2.254848       2.043788    2.111089  1.027849   \n",
       "\n",
       "   Strength    Vision       Age  \n",
       "0  1.116149  2.283902  1.564276  \n",
       "1 -0.540685  2.666969  1.117907  \n",
       "2 -1.014065  1.900835  0.001985  \n",
       "3  1.116149  2.207289  1.117907  \n",
       "4  1.431736  1.747609  0.671538  \n",
       "\n",
       "[5 rows x 21 columns]"
      ]
     },
     "execution_count": 26,
     "metadata": {},
     "output_type": "execute_result"
    }
   ],
   "source": [
    "X.head()"
   ]
  },
  {
   "cell_type": "markdown",
   "metadata": {},
   "source": [
    "# PLS Regression"
   ]
  },
  {
   "cell_type": "code",
   "execution_count": 27,
   "metadata": {},
   "outputs": [
    {
     "data": {
      "text/plain": [
       "<matplotlib.axes._subplots.AxesSubplot at 0x1c1652dfd0>"
      ]
     },
     "execution_count": 27,
     "metadata": {},
     "output_type": "execute_result"
    },
    {
     "data": {
      "image/png": "[encoded data removed]",
      "text/plain": [
       "<Figure size 1080x576 with 2 Axes>"
      ]
     },
     "metadata": {},
     "output_type": "display_data"
    }
   ],
   "source": [
    "# full data set with multicollinearity\n",
    "plt.figure(figsize=(15,8))\n",
    "sns.heatmap(data.corr().abs().round(2)>=0.75)"
   ]
  },
  {
   "cell_type": "code",
   "execution_count": 28,
   "metadata": {},
   "outputs": [],
   "source": [
    "Y1=data.Overall\n",
    "X1=data.drop(columns=\"Overall\")\n",
    "x1_train, x1_test, y1_train, y1_test = train_test_split(X1,Y1,test_size=0.25,random_state=42)"
   ]
  },
  {
   "cell_type": "code",
   "execution_count": 29,
   "metadata": {},
   "outputs": [],
   "source": [
    "scaler=StandardScaler()\n",
    "scaler.fit(x1_train)\n",
    "\n",
    "x1_train=pd.DataFrame(scaler.transform(x1_train),columns=x1_train.columns.tolist())\n",
    "x1_test=pd.DataFrame(scaler.transform(x1_test),columns=x1_test.columns.tolist())"
   ]
  },
  {
   "cell_type": "code",
   "execution_count": 30,
   "metadata": {},
   "outputs": [],
   "source": [
    "# 5-fold CV, with shuffle for finding optimal number of latent variables\n",
    "n = len(x1_train)\n",
    "kf_5 = model_selection.KFold(n_splits=5, shuffle=True, random_state=1)\n",
    "mse = []\n",
    "#X has 47 variables\n",
    "for i in np.arange(1, 21):\n",
    "    pls = PLSRegression(n_components=i)\n",
    "    score = model_selection.cross_val_score(pls, x1_train, y1_train, cv=kf_5, scoring='neg_mean_squared_error').mean()\n",
    "    mse.append(-score)"
   ]
  },
  {
   "cell_type": "code",
   "execution_count": 31,
   "metadata": {},
   "outputs": [
    {
     "data": {
      "text/plain": [
       "(-1, 20.95)"
      ]
     },
     "execution_count": 31,
     "metadata": {},
     "output_type": "execute_result"
    },
    {
     "data": {
      "image/png": "[encoded data removed]",
      "text/plain": [
       "<Figure size 432x288 with 1 Axes>"
      ]
     },
     "metadata": {},
     "output_type": "display_data"
    }
   ],
   "source": [
    "# Plot results\n",
    "plt.plot(np.arange(1, 21), np.array(mse), '-v')\n",
    "plt.xlabel('Number of principal components in regression')\n",
    "plt.ylabel('Overall')\n",
    "plt.title('FIFA')\n",
    "plt.xlim(xmin=-1)"
   ]
  },
  {
   "cell_type": "code",
   "execution_count": 32,
   "metadata": {},
   "outputs": [
    {
     "name": "stdout",
     "output_type": "stream",
     "text": [
      "MSE: 6.629832954718345\n"
     ]
    }
   ],
   "source": [
    "# as after 8 components MSE is almost the same we choose it as number of latent variables\n",
    "pls = PLSRegression(n_components=7)\n",
    "pls.fit(scale(x1_train), y1_train)\n",
    "print(\"MSE:\",mean_squared_error(y1_test, pls.predict(scale(x1_test))))"
   ]
  },
  {
   "cell_type": "code",
   "execution_count": 33,
   "metadata": {},
   "outputs": [
    {
     "name": "stdout",
     "output_type": "stream",
     "text": [
      "R-square: 0.8592721732997934\n"
     ]
    }
   ],
   "source": [
    "pred=pls.predict(x1_test)\n",
    "\n",
    "#R-square\n",
    "pls_r2=pls.score(x1_test,y1_test)\n",
    "print(\"R-square:\",pls_r2)\n",
    "\n",
    "#coefficients\n",
    "coef=pd.DataFrame(pls.coef_)\n",
    "\n",
    "#scores of latent variables\n",
    "sc=pd.DataFrame(pls.x_scores_)\n"
   ]
  },
  {
   "cell_type": "code",
   "execution_count": 34,
   "metadata": {},
   "outputs": [
    {
     "name": "stdout",
     "output_type": "stream",
     "text": [
      "   Latent_Factors  X_Variance  Cummulative_X_Variance\n",
      "0               0       0.271                   0.271\n",
      "1               1       0.179                   0.450\n",
      "2               2       0.043                   0.493\n",
      "3               3       0.038                   0.531\n",
      "4               4       0.043                   0.574\n",
      "5               5       0.014                   0.588\n",
      "6               6       0.021                   0.609\n"
     ]
    }
   ],
   "source": [
    "var_xcores=np.var(pls.x_scores_,axis=0)\n",
    "total_var=np.sum(np.var(x1_train,axis=0))\n",
    "X_Variance=pd.DataFrame((var_xcores/total_var).round(3), columns={\"X_Variance\"}).reset_index()\n",
    "X_Variance = X_Variance.rename(columns={'index': 'Latent_Factors'})\n",
    "X_Variance['Cummulative_X_Variance'] = X_Variance['X_Variance'].cumsum().round(3) #calculates cummulative variance\n",
    "print(X_Variance)"
   ]
  },
  {
   "cell_type": "code",
   "execution_count": 35,
   "metadata": {},
   "outputs": [
    {
     "data": {
      "image/png": "[encoded data removed]",
      "text/plain": [
       "<Figure size 432x288 with 1 Axes>"
      ]
     },
     "metadata": {},
     "output_type": "display_data"
    }
   ],
   "source": [
    "#see visually from which latent variable the variance changes very slightly\n",
    "plt.plot(X_Variance.Latent_Factors,X_Variance.Cummulative_X_Variance)\n",
    "plt.show()"
   ]
  },
  {
   "cell_type": "markdown",
   "metadata": {},
   "source": [
    "\n",
    "# Linear Regression"
   ]
  },
  {
   "cell_type": "code",
   "execution_count": 36,
   "metadata": {},
   "outputs": [
    {
     "name": "stdout",
     "output_type": "stream",
     "text": [
      "0.7470155064654739\n"
     ]
    }
   ],
   "source": [
    "#linear regression and R-square\n",
    "lin_reg=LinearRegression().fit(X,Y)\n",
    "pr_2=lin_reg.predict(x_test)\n",
    "Linear_r2=r2_score(y_test,pr_2)\n",
    "print(Linear_r2)"
   ]
  },
  {
   "cell_type": "code",
   "execution_count": 37,
   "metadata": {},
   "outputs": [
    {
     "name": "stdout",
     "output_type": "stream",
     "text": [
      "0.8592721732997934 0.7470155064654739\n"
     ]
    }
   ],
   "source": [
    "#comparison of R-Square of pls and linear regression\n",
    "print(pls_r2,Linear_r2)"
   ]
  },
  {
   "cell_type": "markdown",
   "metadata": {},
   "source": [
    "# Decision Tree"
   ]
  },
  {
   "cell_type": "code",
   "execution_count": 38,
   "metadata": {},
   "outputs": [],
   "source": [
    "Y3=overall_clas1\n",
    "X3=data_clean.drop(columns=\"Overall\")"
   ]
  },
  {
   "cell_type": "code",
   "execution_count": 39,
   "metadata": {},
   "outputs": [],
   "source": [
    "#create new tran & test sets based on classified Y\n",
    "x2_train,x2_test,y2_train,y2_test=train_test_split(X3,Y3,test_size=0.25,random_state=42)"
   ]
  },
  {
   "cell_type": "code",
   "execution_count": 40,
   "metadata": {},
   "outputs": [
    {
     "data": {
      "text/plain": [
       "GridSearchCV(cv=5, error_score='raise',\n",
       "       estimator=DecisionTreeClassifier(class_weight='balanced', criterion='gini',\n",
       "            max_depth=None, max_features=None, max_leaf_nodes=None,\n",
       "            min_impurity_decrease=0.0, min_impurity_split=None,\n",
       "            min_samples_leaf=1, min_samples_split=2,\n",
       "            min_weight_fraction_leaf=0.0, presort=False, random_state=42,\n",
       "            splitter='best'),\n",
       "       fit_params=None, iid=True, n_jobs=-1,\n",
       "       param_grid={'max_depth': range(5, 35), 'min_samples_leaf': range(10, 200, 10)},\n",
       "       pre_dispatch='2*n_jobs', refit=True, return_train_score='warn',\n",
       "       scoring='roc_auc', verbose=0)"
      ]
     },
     "execution_count": 40,
     "metadata": {},
     "output_type": "execute_result"
    }
   ],
   "source": [
    "tree1=DecisionTreeClassifier(class_weight=\"balanced\",random_state=42)\n",
    "grid_search=GridSearchCV(tree1,param_grid={\"max_depth\":range(5,35),\"min_samples_leaf\":range(10,200,10)},scoring=\"roc_auc\",cv=5,n_jobs=-1)\n",
    "grid_search.fit(X3,Y3)"
   ]
  },
  {
   "cell_type": "code",
   "execution_count": 41,
   "metadata": {},
   "outputs": [
    {
     "name": "stdout",
     "output_type": "stream",
     "text": [
      "Best parameters: {'max_depth': 11, 'min_samples_leaf': 120}\n",
      "Best score: 0.97\n"
     ]
    }
   ],
   "source": [
    "#best parameters and best score\n",
    "print(\"Best parameters:\",grid_search.best_params_)\n",
    "print(\"Best score:\",grid_search.best_score_.round(2))"
   ]
  },
  {
   "cell_type": "code",
   "execution_count": 42,
   "metadata": {},
   "outputs": [
    {
     "data": {
      "text/plain": [
       "DecisionTreeClassifier(class_weight='balanced', criterion='gini',\n",
       "            max_depth=11, max_features=None, max_leaf_nodes=None,\n",
       "            min_impurity_decrease=0.0, min_impurity_split=None,\n",
       "            min_samples_leaf=120, min_samples_split=2,\n",
       "            min_weight_fraction_leaf=0.0, presort=False, random_state=42,\n",
       "            splitter='best')"
      ]
     },
     "execution_count": 42,
     "metadata": {},
     "output_type": "execute_result"
    }
   ],
   "source": [
    "tree1=DecisionTreeClassifier(max_depth=11,min_samples_leaf=120,class_weight=\"balanced\",random_state=42)\n",
    "tree1.fit(x2_train,y2_train)"
   ]
  },
  {
   "cell_type": "code",
   "execution_count": 43,
   "metadata": {},
   "outputs": [
    {
     "name": "stdout",
     "output_type": "stream",
     "text": [
      "Accuracy Test: 87.0\n",
      "DT Recall Test: 87.0\n",
      "ROC_AUC Test: 87.0\n",
      "classification_report test:              precision    recall  f1-score   support\n",
      "\n",
      "          0       0.87      0.86      0.87      1941\n",
      "          1       0.87      0.87      0.87      1995\n",
      "\n",
      "avg / total       0.87      0.87      0.87      3936\n",
      "\n",
      "Accuracy Train: 87.0\n",
      "DT Recall Train: 88.0\n",
      "ROC_AUC Train: 87.0\n",
      "classification_report Train:              precision    recall  f1-score   support\n",
      "\n",
      "          0       0.88      0.87      0.87      5972\n",
      "          1       0.87      0.88      0.87      5833\n",
      "\n",
      "avg / total       0.87      0.87      0.87     11805\n",
      "\n"
     ]
    }
   ],
   "source": [
    "ypred2=tree1.predict(x2_test)\n",
    "recall_DT1=recall_score(y2_test,ypred2)\n",
    "print(\"Accuracy Test:\",tree1.score(x2_test,y2_test).round(2)*100)\n",
    "print(\"DT Recall Test:\",recall_DT1.round(2)*100)\n",
    "roc_auc1=roc_auc_score(y2_test,ypred2).round(2)*100\n",
    "print(\"ROC_AUC Test:\",roc_auc1)\n",
    "print(\"classification_report test:\",classification_report(y2_test,ypred2))\n",
    "ypred_tr1=tree1.predict(x2_train)\n",
    "recall_DT2=recall_score(y2_train,ypred_tr1)\n",
    "print(\"Accuracy Train:\",tree1.score(x2_train,y2_train).round(2)*100)\n",
    "print(\"DT Recall Train:\",recall_DT2.round(2)*100)\n",
    "roc_auc_tr1=roc_auc_score(y2_train,ypred_tr1).round(2)*100\n",
    "print(\"ROC_AUC Train:\",roc_auc_tr1)\n",
    "print(\"classification_report Train:\",classification_report(y2_train,ypred_tr1))"
   ]
  },
  {
   "cell_type": "code",
   "execution_count": 45,
   "metadata": {},
   "outputs": [
    {
     "name": "stdout",
     "output_type": "stream",
     "text": [
      "          0         1\n",
      "0  0.999103  0.000897\n",
      "1  0.084769  0.915231\n",
      "2  0.999103  0.000897\n",
      "3  0.000000  1.000000\n",
      "4  0.983222  0.016778\n",
      "5  0.203231  0.796769\n"
     ]
    }
   ],
   "source": [
    "print(pd.DataFrame(tree1.predict_proba(x2_test)[:6,:]))"
   ]
  },
  {
   "cell_type": "code",
   "execution_count": 46,
   "metadata": {},
   "outputs": [
    {
     "name": "stdout",
     "output_type": "stream",
     "text": [
      "[0.         0.00257599 0.00309119 0.00309119 0.00360639 0.00515198\n",
      " 0.00618238 0.00978877 0.01236476 0.01391036 0.01597115 0.01700155\n",
      " 0.01957754 0.02575992 0.03451829 0.04224626 0.04739825 0.05564142\n",
      " 0.0638846  0.07109737 0.08294693 0.08912931 0.09788769 0.10149408\n",
      " 0.11282844 0.12004122 0.13652756 0.1571355  0.16950026 0.18495621\n",
      " 0.20453375 0.22359608 0.24317362 0.26069037 0.28284389 0.30087584\n",
      " 0.31839258 0.33848532 0.35651726 0.37712519 0.39567233 0.41009789\n",
      " 0.43173622 0.45801133 0.47552808 0.49459042 0.52653272 0.55692942\n",
      " 0.58629572 0.60278207 0.63369397 1.        ] [0.         0.32030075 0.34586466 0.36240602 0.39899749 0.4235589\n",
      " 0.44711779 0.4716792  0.49373434 0.51528822 0.53233083 0.5518797\n",
      " 0.57493734 0.5924812  0.61102757 0.64210526 0.67769424 0.69724311\n",
      " 0.71829574 0.73934837 0.76090226 0.77593985 0.80701754 0.82756892\n",
      " 0.84761905 0.86516291 0.87468672 0.89373434 0.90877193 0.91629073\n",
      " 0.92130326 0.93132832 0.93934837 0.94736842 0.95739348 0.96190476\n",
      " 0.96340852 0.97443609 0.97694236 0.97944862 0.98095238 0.98446115\n",
      " 0.98646617 0.98696742 0.98746867 0.98897243 0.98997494 0.9924812\n",
      " 0.99548872 0.99548872 0.99548872 1.        ]\n"
     ]
    }
   ],
   "source": [
    "#ROC curve\n",
    "FPR,TPR,tresholds=roc_curve(y2_test,tree1.predict_proba(x2_test)[:,1])\n",
    "print(FPR,TPR)"
   ]
  },
  {
   "cell_type": "code",
   "execution_count": 49,
   "metadata": {},
   "outputs": [
    {
     "data": {
      "image/png": "[encoded data removed]",
      "text/plain": [
       "<Figure size 432x288 with 1 Axes>"
      ]
     },
     "metadata": {},
     "output_type": "display_data"
    }
   ],
   "source": [
    "#Plotting ROC curve\n",
    "plt.plot(FPR,TPR,label=\"ROC AUC=%f\"%roc_auc_score(y2_test,ypred2))\n",
    "plt.plot([0,1],[0,1])\n",
    "plt.legend(loc=\"lower right\")\n",
    "plt.xlabel(\"FPR\")\n",
    "plt.ylabel(\"TPR\")\n",
    "plt.show()"
   ]
  },
  {
   "cell_type": "code",
   "execution_count": 50,
   "metadata": {},
   "outputs": [
    {
     "data": {
      "text/html": [
       "<div>\n",
       "<style scoped>\n",
       "    .dataframe tbody tr th:only-of-type {\n",
       "        vertical-align: middle;\n",
       "    }\n",
       "\n",
       "    .dataframe tbody tr th {\n",
       "        vertical-align: top;\n",
       "    }\n",
       "\n",
       "    .dataframe thead th {\n",
       "        text-align: right;\n",
       "    }\n",
       "</style>\n",
       "<table border=\"1\" class=\"dataframe\">\n",
       "  <thead>\n",
       "    <tr style=\"text-align: right;\">\n",
       "      <th></th>\n",
       "      <th>importances</th>\n",
       "    </tr>\n",
       "  </thead>\n",
       "  <tbody>\n",
       "    <tr>\n",
       "      <th>Short_passing</th>\n",
       "      <td>0.477831</td>\n",
       "    </tr>\n",
       "    <tr>\n",
       "      <th>Heading_accuracy</th>\n",
       "      <td>0.236418</td>\n",
       "    </tr>\n",
       "    <tr>\n",
       "      <th>Dribbling</th>\n",
       "      <td>0.085541</td>\n",
       "    </tr>\n",
       "    <tr>\n",
       "      <th>Crossing</th>\n",
       "      <td>0.071616</td>\n",
       "    </tr>\n",
       "    <tr>\n",
       "      <th>Stamina</th>\n",
       "      <td>0.043994</td>\n",
       "    </tr>\n",
       "  </tbody>\n",
       "</table>\n",
       "</div>"
      ],
      "text/plain": [
       "                  importances\n",
       "Short_passing        0.477831\n",
       "Heading_accuracy     0.236418\n",
       "Dribbling            0.085541\n",
       "Crossing             0.071616\n",
       "Stamina              0.043994"
      ]
     },
     "execution_count": 50,
     "metadata": {},
     "output_type": "execute_result"
    }
   ],
   "source": [
    "imp=tree1.feature_importances_\n",
    "imp=pd.DataFrame(data=imp, index=X.columns, columns=['importances'])\n",
    "imp=imp.sort_values(by=\"importances\", ascending=False)\n",
    "imp.head()"
   ]
  },
  {
   "cell_type": "markdown",
   "metadata": {},
   "source": [
    "# Random Forest"
   ]
  },
  {
   "cell_type": "code",
   "execution_count": 46,
   "metadata": {},
   "outputs": [
    {
     "data": {
      "text/plain": [
       "RandomForestClassifier(bootstrap=True, class_weight='balanced',\n",
       "            criterion='gini', max_depth=11, max_features='auto',\n",
       "            max_leaf_nodes=None, min_impurity_decrease=0.0,\n",
       "            min_impurity_split=None, min_samples_leaf=1,\n",
       "            min_samples_split=2, min_weight_fraction_leaf=0.0,\n",
       "            n_estimators=300, n_jobs=1, oob_score=False, random_state=42,\n",
       "            verbose=0, warm_start=False)"
      ]
     },
     "execution_count": 46,
     "metadata": {},
     "output_type": "execute_result"
    }
   ],
   "source": [
    "RF=RandomForestClassifier(random_state=42,class_weight=\"balanced\",max_depth=11,n_estimators=300)\n",
    "RF.fit(x2_train,y2_train)"
   ]
  },
  {
   "cell_type": "code",
   "execution_count": 77,
   "metadata": {},
   "outputs": [
    {
     "name": "stdout",
     "output_type": "stream",
     "text": [
      "Accuracy Test: 91.0\n",
      "Recall Test: 91.0\n",
      "ROC_AUC Test: 91.0\n",
      "Classification report Test:              precision    recall  f1-score   support\n",
      "\n",
      "          0       0.91      0.91      0.91      1941\n",
      "          1       0.91      0.91      0.91      1995\n",
      "\n",
      "avg / total       0.91      0.91      0.91      3936\n",
      "\n",
      "Accuracy Train: 98.0\n",
      "Recall Train: 96.0\n",
      "ROC_AUC Train: 98.0\n",
      "classification_report Train:              precision    recall  f1-score   support\n",
      "\n",
      "          0       0.97      0.99      0.98      5972\n",
      "          1       0.99      0.96      0.98      5833\n",
      "\n",
      "avg / total       0.98      0.98      0.98     11805\n",
      "\n"
     ]
    }
   ],
   "source": [
    "ypred3=RF.predict(x2_test)\n",
    "recall_RF=recall_score(y2_test,ypred3)\n",
    "print(\"Accuracy Test:\",RF.score(x2_test,y2_test).round(2)*100)\n",
    "print(\"Recall Test:\",recall_RF.round(2)*100)\n",
    "roc_auc3=roc_auc_score(y2_test,ypred3).round(2)*100\n",
    "print(\"ROC_AUC Test:\",roc_auc3)\n",
    "print(\"Classification report Test:\",classification_report(y2_test,ypred3))\n",
    "ypred_tr3=RF.predict(x2_train)\n",
    "recall_RF3=recall_score(y2_train,ypred_tr3)\n",
    "print(\"Accuracy Train:\",RF.score(x2_train,y2_train).round(2)*100)\n",
    "print(\"Recall Train:\",recall_RF3.round(2)*100)\n",
    "roc_auc_tr2=roc_auc_score(y2_train,ypred_tr3).round(2)*100\n",
    "print(\"ROC_AUC Train:\",roc_auc_tr2)\n",
    "print(\"classification_report Train:\",classification_report(y2_train,ypred_tr3))"
   ]
  },
  {
   "cell_type": "markdown",
   "metadata": {},
   "source": [
    "# Logit  from statsmodel"
   ]
  },
  {
   "cell_type": "code",
   "execution_count": 48,
   "metadata": {},
   "outputs": [
    {
     "data": {
      "text/plain": [
       "'overall_clas1~Acceleration+Aggression+Agility+Balance+Crossing+Dribbling+Finishing+GK_diving+GK_handling+GK_kicking+GK_positioning+GK_reflexes+Heading_accuracy+Jumping+Penalties+Short_passing+Shot_power+Stamina+Strength+Vision+Age'"
      ]
     },
     "execution_count": 48,
     "metadata": {},
     "output_type": "execute_result"
    }
   ],
   "source": [
    "formula='overall_clas1~'+'+'.join(X.columns.tolist())\n",
    "formula"
   ]
  },
  {
   "cell_type": "code",
   "execution_count": 49,
   "metadata": {},
   "outputs": [
    {
     "data": {
      "text/html": [
       "<div>\n",
       "<style scoped>\n",
       "    .dataframe tbody tr th:only-of-type {\n",
       "        vertical-align: middle;\n",
       "    }\n",
       "\n",
       "    .dataframe tbody tr th {\n",
       "        vertical-align: top;\n",
       "    }\n",
       "\n",
       "    .dataframe thead th {\n",
       "        text-align: right;\n",
       "    }\n",
       "</style>\n",
       "<table border=\"1\" class=\"dataframe\">\n",
       "  <thead>\n",
       "    <tr style=\"text-align: right;\">\n",
       "      <th></th>\n",
       "      <th>Overall</th>\n",
       "      <th>Acceleration</th>\n",
       "      <th>Aggression</th>\n",
       "      <th>Agility</th>\n",
       "      <th>Balance</th>\n",
       "      <th>Crossing</th>\n",
       "      <th>Dribbling</th>\n",
       "      <th>Finishing</th>\n",
       "      <th>GK_diving</th>\n",
       "      <th>GK_handling</th>\n",
       "      <th>...</th>\n",
       "      <th>GK_reflexes</th>\n",
       "      <th>Heading_accuracy</th>\n",
       "      <th>Jumping</th>\n",
       "      <th>Penalties</th>\n",
       "      <th>Short_passing</th>\n",
       "      <th>Shot_power</th>\n",
       "      <th>Stamina</th>\n",
       "      <th>Strength</th>\n",
       "      <th>Vision</th>\n",
       "      <th>Age</th>\n",
       "    </tr>\n",
       "  </thead>\n",
       "  <tbody>\n",
       "    <tr>\n",
       "      <th>0</th>\n",
       "      <td>1</td>\n",
       "      <td>89</td>\n",
       "      <td>63</td>\n",
       "      <td>89</td>\n",
       "      <td>63</td>\n",
       "      <td>85</td>\n",
       "      <td>91</td>\n",
       "      <td>94</td>\n",
       "      <td>7</td>\n",
       "      <td>11</td>\n",
       "      <td>...</td>\n",
       "      <td>11</td>\n",
       "      <td>88</td>\n",
       "      <td>95</td>\n",
       "      <td>85</td>\n",
       "      <td>83</td>\n",
       "      <td>94</td>\n",
       "      <td>92</td>\n",
       "      <td>80</td>\n",
       "      <td>85</td>\n",
       "      <td>32</td>\n",
       "    </tr>\n",
       "    <tr>\n",
       "      <th>1</th>\n",
       "      <td>1</td>\n",
       "      <td>92</td>\n",
       "      <td>48</td>\n",
       "      <td>90</td>\n",
       "      <td>95</td>\n",
       "      <td>77</td>\n",
       "      <td>97</td>\n",
       "      <td>95</td>\n",
       "      <td>6</td>\n",
       "      <td>11</td>\n",
       "      <td>...</td>\n",
       "      <td>8</td>\n",
       "      <td>71</td>\n",
       "      <td>68</td>\n",
       "      <td>74</td>\n",
       "      <td>88</td>\n",
       "      <td>85</td>\n",
       "      <td>73</td>\n",
       "      <td>59</td>\n",
       "      <td>90</td>\n",
       "      <td>30</td>\n",
       "    </tr>\n",
       "    <tr>\n",
       "      <th>2</th>\n",
       "      <td>1</td>\n",
       "      <td>94</td>\n",
       "      <td>56</td>\n",
       "      <td>96</td>\n",
       "      <td>82</td>\n",
       "      <td>75</td>\n",
       "      <td>96</td>\n",
       "      <td>89</td>\n",
       "      <td>9</td>\n",
       "      <td>9</td>\n",
       "      <td>...</td>\n",
       "      <td>11</td>\n",
       "      <td>62</td>\n",
       "      <td>61</td>\n",
       "      <td>81</td>\n",
       "      <td>81</td>\n",
       "      <td>80</td>\n",
       "      <td>78</td>\n",
       "      <td>53</td>\n",
       "      <td>80</td>\n",
       "      <td>25</td>\n",
       "    </tr>\n",
       "    <tr>\n",
       "      <th>3</th>\n",
       "      <td>1</td>\n",
       "      <td>88</td>\n",
       "      <td>78</td>\n",
       "      <td>86</td>\n",
       "      <td>60</td>\n",
       "      <td>77</td>\n",
       "      <td>86</td>\n",
       "      <td>94</td>\n",
       "      <td>27</td>\n",
       "      <td>25</td>\n",
       "      <td>...</td>\n",
       "      <td>37</td>\n",
       "      <td>77</td>\n",
       "      <td>69</td>\n",
       "      <td>85</td>\n",
       "      <td>83</td>\n",
       "      <td>87</td>\n",
       "      <td>89</td>\n",
       "      <td>80</td>\n",
       "      <td>84</td>\n",
       "      <td>30</td>\n",
       "    </tr>\n",
       "    <tr>\n",
       "      <th>4</th>\n",
       "      <td>1</td>\n",
       "      <td>79</td>\n",
       "      <td>80</td>\n",
       "      <td>78</td>\n",
       "      <td>80</td>\n",
       "      <td>62</td>\n",
       "      <td>85</td>\n",
       "      <td>91</td>\n",
       "      <td>15</td>\n",
       "      <td>6</td>\n",
       "      <td>...</td>\n",
       "      <td>10</td>\n",
       "      <td>85</td>\n",
       "      <td>84</td>\n",
       "      <td>81</td>\n",
       "      <td>83</td>\n",
       "      <td>88</td>\n",
       "      <td>79</td>\n",
       "      <td>84</td>\n",
       "      <td>78</td>\n",
       "      <td>28</td>\n",
       "    </tr>\n",
       "  </tbody>\n",
       "</table>\n",
       "<p>5 rows × 22 columns</p>\n",
       "</div>"
      ],
      "text/plain": [
       "   Overall  Acceleration  Aggression  Agility  Balance  Crossing  Dribbling  \\\n",
       "0        1            89          63       89       63        85         91   \n",
       "1        1            92          48       90       95        77         97   \n",
       "2        1            94          56       96       82        75         96   \n",
       "3        1            88          78       86       60        77         86   \n",
       "4        1            79          80       78       80        62         85   \n",
       "\n",
       "   Finishing  GK_diving  GK_handling ...   GK_reflexes  Heading_accuracy  \\\n",
       "0         94          7           11 ...            11                88   \n",
       "1         95          6           11 ...             8                71   \n",
       "2         89          9            9 ...            11                62   \n",
       "3         94         27           25 ...            37                77   \n",
       "4         91         15            6 ...            10                85   \n",
       "\n",
       "   Jumping  Penalties  Short_passing  Shot_power  Stamina  Strength  Vision  \\\n",
       "0       95         85             83          94       92        80      85   \n",
       "1       68         74             88          85       73        59      90   \n",
       "2       61         81             81          80       78        53      80   \n",
       "3       69         85             83          87       89        80      84   \n",
       "4       84         81             83          88       79        84      78   \n",
       "\n",
       "   Age  \n",
       "0   32  \n",
       "1   30  \n",
       "2   25  \n",
       "3   30  \n",
       "4   28  \n",
       "\n",
       "[5 rows x 22 columns]"
      ]
     },
     "execution_count": 49,
     "metadata": {},
     "output_type": "execute_result"
    }
   ],
   "source": [
    "Y3=pd.DataFrame(Y3)\n",
    "data_final=Y3.join(X3)\n",
    "data_final.head()"
   ]
  },
  {
   "cell_type": "code",
   "execution_count": 50,
   "metadata": {
    "scrolled": true
   },
   "outputs": [
    {
     "name": "stdout",
     "output_type": "stream",
     "text": [
      "Optimization terminated successfully.\n",
      "         Current function value: 0.356868\n",
      "         Iterations 8\n"
     ]
    },
    {
     "data": {
      "text/html": [
       "<table class=\"simpletable\">\n",
       "<caption>Logit Regression Results</caption>\n",
       "<tr>\n",
       "  <th>Dep. Variable:</th>   <td>overall_clas1</td>  <th>  No. Observations:  </th>  <td> 15741</td> \n",
       "</tr>\n",
       "<tr>\n",
       "  <th>Model:</th>               <td>Logit</td>      <th>  Df Residuals:      </th>  <td> 15719</td> \n",
       "</tr>\n",
       "<tr>\n",
       "  <th>Method:</th>               <td>MLE</td>       <th>  Df Model:          </th>  <td>    21</td> \n",
       "</tr>\n",
       "<tr>\n",
       "  <th>Date:</th>          <td>Tue, 11 Dec 2018</td> <th>  Pseudo R-squ.:     </th>  <td>0.4851</td> \n",
       "</tr>\n",
       "<tr>\n",
       "  <th>Time:</th>              <td>00:07:34</td>     <th>  Log-Likelihood:    </th> <td> -5617.5</td>\n",
       "</tr>\n",
       "<tr>\n",
       "  <th>converged:</th>           <td>True</td>       <th>  LL-Null:           </th> <td> -10911.</td>\n",
       "</tr>\n",
       "<tr>\n",
       "  <th> </th>                      <td> </td>        <th>  LLR p-value:       </th>  <td> 0.000</td> \n",
       "</tr>\n",
       "</table>\n",
       "<table class=\"simpletable\">\n",
       "<tr>\n",
       "          <td></td>            <th>coef</th>     <th>std err</th>      <th>z</th>      <th>P>|z|</th>  <th>[0.025</th>    <th>0.975]</th>  \n",
       "</tr>\n",
       "<tr>\n",
       "  <th>Intercept</th>        <td>  -27.9846</td> <td>    0.533</td> <td>  -52.480</td> <td> 0.000</td> <td>  -29.030</td> <td>  -26.939</td>\n",
       "</tr>\n",
       "<tr>\n",
       "  <th>Acceleration</th>     <td>    0.0367</td> <td>    0.003</td> <td>   11.132</td> <td> 0.000</td> <td>    0.030</td> <td>    0.043</td>\n",
       "</tr>\n",
       "<tr>\n",
       "  <th>Aggression</th>       <td>    0.0200</td> <td>    0.002</td> <td>    8.829</td> <td> 0.000</td> <td>    0.016</td> <td>    0.024</td>\n",
       "</tr>\n",
       "<tr>\n",
       "  <th>Agility</th>          <td>    0.0106</td> <td>    0.004</td> <td>    2.958</td> <td> 0.003</td> <td>    0.004</td> <td>    0.018</td>\n",
       "</tr>\n",
       "<tr>\n",
       "  <th>Balance</th>          <td>   -0.0099</td> <td>    0.003</td> <td>   -2.936</td> <td> 0.003</td> <td>   -0.016</td> <td>   -0.003</td>\n",
       "</tr>\n",
       "<tr>\n",
       "  <th>Crossing</th>         <td>    0.0094</td> <td>    0.003</td> <td>    3.485</td> <td> 0.000</td> <td>    0.004</td> <td>    0.015</td>\n",
       "</tr>\n",
       "<tr>\n",
       "  <th>Dribbling</th>        <td>    0.0392</td> <td>    0.004</td> <td>    9.397</td> <td> 0.000</td> <td>    0.031</td> <td>    0.047</td>\n",
       "</tr>\n",
       "<tr>\n",
       "  <th>Finishing</th>        <td>   -0.0059</td> <td>    0.003</td> <td>   -2.088</td> <td> 0.037</td> <td>   -0.012</td> <td>   -0.000</td>\n",
       "</tr>\n",
       "<tr>\n",
       "  <th>GK_diving</th>        <td>   -0.0031</td> <td>    0.008</td> <td>   -0.398</td> <td> 0.690</td> <td>   -0.018</td> <td>    0.012</td>\n",
       "</tr>\n",
       "<tr>\n",
       "  <th>GK_handling</th>      <td>   -0.0083</td> <td>    0.008</td> <td>   -1.075</td> <td> 0.283</td> <td>   -0.023</td> <td>    0.007</td>\n",
       "</tr>\n",
       "<tr>\n",
       "  <th>GK_kicking</th>       <td>    0.0055</td> <td>    0.008</td> <td>    0.730</td> <td> 0.465</td> <td>   -0.009</td> <td>    0.020</td>\n",
       "</tr>\n",
       "<tr>\n",
       "  <th>GK_positioning</th>   <td>   -0.0011</td> <td>    0.008</td> <td>   -0.142</td> <td> 0.887</td> <td>   -0.016</td> <td>    0.014</td>\n",
       "</tr>\n",
       "<tr>\n",
       "  <th>GK_reflexes</th>      <td>  -1.2e-05</td> <td>    0.008</td> <td>   -0.002</td> <td> 0.999</td> <td>   -0.015</td> <td>    0.015</td>\n",
       "</tr>\n",
       "<tr>\n",
       "  <th>Heading_accuracy</th> <td>    0.0832</td> <td>    0.003</td> <td>   26.076</td> <td> 0.000</td> <td>    0.077</td> <td>    0.089</td>\n",
       "</tr>\n",
       "<tr>\n",
       "  <th>Jumping</th>          <td>    0.0062</td> <td>    0.002</td> <td>    2.579</td> <td> 0.010</td> <td>    0.001</td> <td>    0.011</td>\n",
       "</tr>\n",
       "<tr>\n",
       "  <th>Penalties</th>        <td>    0.0072</td> <td>    0.003</td> <td>    2.444</td> <td> 0.015</td> <td>    0.001</td> <td>    0.013</td>\n",
       "</tr>\n",
       "<tr>\n",
       "  <th>Short_passing</th>    <td>    0.1613</td> <td>    0.005</td> <td>   31.830</td> <td> 0.000</td> <td>    0.151</td> <td>    0.171</td>\n",
       "</tr>\n",
       "<tr>\n",
       "  <th>Shot_power</th>       <td>    0.0242</td> <td>    0.003</td> <td>    8.455</td> <td> 0.000</td> <td>    0.019</td> <td>    0.030</td>\n",
       "</tr>\n",
       "<tr>\n",
       "  <th>Stamina</th>          <td>    0.0090</td> <td>    0.003</td> <td>    3.435</td> <td> 0.001</td> <td>    0.004</td> <td>    0.014</td>\n",
       "</tr>\n",
       "<tr>\n",
       "  <th>Strength</th>         <td>    0.0282</td> <td>    0.003</td> <td>    8.989</td> <td> 0.000</td> <td>    0.022</td> <td>    0.034</td>\n",
       "</tr>\n",
       "<tr>\n",
       "  <th>Vision</th>           <td>   -0.0133</td> <td>    0.003</td> <td>   -3.921</td> <td> 0.000</td> <td>   -0.020</td> <td>   -0.007</td>\n",
       "</tr>\n",
       "<tr>\n",
       "  <th>Age</th>              <td>    0.1113</td> <td>    0.007</td> <td>   16.702</td> <td> 0.000</td> <td>    0.098</td> <td>    0.124</td>\n",
       "</tr>\n",
       "</table>"
      ],
      "text/plain": [
       "<class 'statsmodels.iolib.summary.Summary'>\n",
       "\"\"\"\n",
       "                           Logit Regression Results                           \n",
       "==============================================================================\n",
       "Dep. Variable:          overall_clas1   No. Observations:                15741\n",
       "Model:                          Logit   Df Residuals:                    15719\n",
       "Method:                           MLE   Df Model:                           21\n",
       "Date:                Tue, 11 Dec 2018   Pseudo R-squ.:                  0.4851\n",
       "Time:                        00:07:34   Log-Likelihood:                -5617.5\n",
       "converged:                       True   LL-Null:                       -10911.\n",
       "                                        LLR p-value:                     0.000\n",
       "====================================================================================\n",
       "                       coef    std err          z      P>|z|      [0.025      0.975]\n",
       "------------------------------------------------------------------------------------\n",
       "Intercept          -27.9846      0.533    -52.480      0.000     -29.030     -26.939\n",
       "Acceleration         0.0367      0.003     11.132      0.000       0.030       0.043\n",
       "Aggression           0.0200      0.002      8.829      0.000       0.016       0.024\n",
       "Agility              0.0106      0.004      2.958      0.003       0.004       0.018\n",
       "Balance             -0.0099      0.003     -2.936      0.003      -0.016      -0.003\n",
       "Crossing             0.0094      0.003      3.485      0.000       0.004       0.015\n",
       "Dribbling            0.0392      0.004      9.397      0.000       0.031       0.047\n",
       "Finishing           -0.0059      0.003     -2.088      0.037      -0.012      -0.000\n",
       "GK_diving           -0.0031      0.008     -0.398      0.690      -0.018       0.012\n",
       "GK_handling         -0.0083      0.008     -1.075      0.283      -0.023       0.007\n",
       "GK_kicking           0.0055      0.008      0.730      0.465      -0.009       0.020\n",
       "GK_positioning      -0.0011      0.008     -0.142      0.887      -0.016       0.014\n",
       "GK_reflexes        -1.2e-05      0.008     -0.002      0.999      -0.015       0.015\n",
       "Heading_accuracy     0.0832      0.003     26.076      0.000       0.077       0.089\n",
       "Jumping              0.0062      0.002      2.579      0.010       0.001       0.011\n",
       "Penalties            0.0072      0.003      2.444      0.015       0.001       0.013\n",
       "Short_passing        0.1613      0.005     31.830      0.000       0.151       0.171\n",
       "Shot_power           0.0242      0.003      8.455      0.000       0.019       0.030\n",
       "Stamina              0.0090      0.003      3.435      0.001       0.004       0.014\n",
       "Strength             0.0282      0.003      8.989      0.000       0.022       0.034\n",
       "Vision              -0.0133      0.003     -3.921      0.000      -0.020      -0.007\n",
       "Age                  0.1113      0.007     16.702      0.000       0.098       0.124\n",
       "====================================================================================\n",
       "\"\"\""
      ]
     },
     "execution_count": 50,
     "metadata": {},
     "output_type": "execute_result"
    }
   ],
   "source": [
    "logit1=Logit.from_formula(formula=formula,data=data_final).fit()\n",
    "logit1.summary()"
   ]
  },
  {
   "cell_type": "code",
   "execution_count": 51,
   "metadata": {
    "scrolled": true
   },
   "outputs": [
    {
     "data": {
      "text/html": [
       "<table class=\"simpletable\">\n",
       "<caption>Logit Marginal Effects</caption>\n",
       "<tr>\n",
       "  <th>Dep. Variable:</th> <td>overall_clas1</td>\n",
       "</tr>\n",
       "<tr>\n",
       "  <th>Method:</th>            <td>dydx</td>     \n",
       "</tr>\n",
       "<tr>\n",
       "  <th>At:</th>               <td>overall</td>   \n",
       "</tr>\n",
       "</table>\n",
       "<table class=\"simpletable\">\n",
       "<tr>\n",
       "          <th></th>            <th>dy/dx</th>    <th>std err</th>      <th>z</th>      <th>P>|z|</th>  <th>[0.025</th>    <th>0.975]</th>  \n",
       "</tr>\n",
       "<tr>\n",
       "  <th>Acceleration</th>     <td>    0.0042</td> <td>    0.000</td> <td>   11.301</td> <td> 0.000</td> <td>    0.003</td> <td>    0.005</td>\n",
       "</tr>\n",
       "<tr>\n",
       "  <th>Aggression</th>       <td>    0.0023</td> <td>    0.000</td> <td>    8.917</td> <td> 0.000</td> <td>    0.002</td> <td>    0.003</td>\n",
       "</tr>\n",
       "<tr>\n",
       "  <th>Agility</th>          <td>    0.0012</td> <td>    0.000</td> <td>    2.961</td> <td> 0.003</td> <td>    0.000</td> <td>    0.002</td>\n",
       "</tr>\n",
       "<tr>\n",
       "  <th>Balance</th>          <td>   -0.0011</td> <td>    0.000</td> <td>   -2.940</td> <td> 0.003</td> <td>   -0.002</td> <td>   -0.000</td>\n",
       "</tr>\n",
       "<tr>\n",
       "  <th>Crossing</th>         <td>    0.0011</td> <td>    0.000</td> <td>    3.490</td> <td> 0.000</td> <td>    0.000</td> <td>    0.002</td>\n",
       "</tr>\n",
       "<tr>\n",
       "  <th>Dribbling</th>        <td>    0.0045</td> <td>    0.000</td> <td>    9.501</td> <td> 0.000</td> <td>    0.004</td> <td>    0.005</td>\n",
       "</tr>\n",
       "<tr>\n",
       "  <th>Finishing</th>        <td>   -0.0007</td> <td>    0.000</td> <td>   -2.089</td> <td> 0.037</td> <td>   -0.001</td> <td>-4.16e-05</td>\n",
       "</tr>\n",
       "<tr>\n",
       "  <th>GK_diving</th>        <td>   -0.0003</td> <td>    0.001</td> <td>   -0.398</td> <td> 0.690</td> <td>   -0.002</td> <td>    0.001</td>\n",
       "</tr>\n",
       "<tr>\n",
       "  <th>GK_handling</th>      <td>   -0.0009</td> <td>    0.001</td> <td>   -1.075</td> <td> 0.283</td> <td>   -0.003</td> <td>    0.001</td>\n",
       "</tr>\n",
       "<tr>\n",
       "  <th>GK_kicking</th>       <td>    0.0006</td> <td>    0.001</td> <td>    0.730</td> <td> 0.465</td> <td>   -0.001</td> <td>    0.002</td>\n",
       "</tr>\n",
       "<tr>\n",
       "  <th>GK_positioning</th>   <td>   -0.0001</td> <td>    0.001</td> <td>   -0.142</td> <td> 0.887</td> <td>   -0.002</td> <td>    0.002</td>\n",
       "</tr>\n",
       "<tr>\n",
       "  <th>GK_reflexes</th>      <td>-1.364e-06</td> <td>    0.001</td> <td>   -0.002</td> <td> 0.999</td> <td>   -0.002</td> <td>    0.002</td>\n",
       "</tr>\n",
       "<tr>\n",
       "  <th>Heading_accuracy</th> <td>    0.0095</td> <td>    0.000</td> <td>   28.537</td> <td> 0.000</td> <td>    0.009</td> <td>    0.010</td>\n",
       "</tr>\n",
       "<tr>\n",
       "  <th>Jumping</th>          <td>    0.0007</td> <td>    0.000</td> <td>    2.581</td> <td> 0.010</td> <td>    0.000</td> <td>    0.001</td>\n",
       "</tr>\n",
       "<tr>\n",
       "  <th>Penalties</th>        <td>    0.0008</td> <td>    0.000</td> <td>    2.446</td> <td> 0.014</td> <td>    0.000</td> <td>    0.001</td>\n",
       "</tr>\n",
       "<tr>\n",
       "  <th>Short_passing</th>    <td>    0.0183</td> <td>    0.001</td> <td>   36.432</td> <td> 0.000</td> <td>    0.017</td> <td>    0.019</td>\n",
       "</tr>\n",
       "<tr>\n",
       "  <th>Shot_power</th>       <td>    0.0028</td> <td>    0.000</td> <td>    8.527</td> <td> 0.000</td> <td>    0.002</td> <td>    0.003</td>\n",
       "</tr>\n",
       "<tr>\n",
       "  <th>Stamina</th>          <td>    0.0010</td> <td>    0.000</td> <td>    3.440</td> <td> 0.001</td> <td>    0.000</td> <td>    0.002</td>\n",
       "</tr>\n",
       "<tr>\n",
       "  <th>Strength</th>         <td>    0.0032</td> <td>    0.000</td> <td>    9.072</td> <td> 0.000</td> <td>    0.003</td> <td>    0.004</td>\n",
       "</tr>\n",
       "<tr>\n",
       "  <th>Vision</th>           <td>   -0.0015</td> <td>    0.000</td> <td>   -3.928</td> <td> 0.000</td> <td>   -0.002</td> <td>   -0.001</td>\n",
       "</tr>\n",
       "<tr>\n",
       "  <th>Age</th>              <td>    0.0126</td> <td>    0.001</td> <td>   17.317</td> <td> 0.000</td> <td>    0.011</td> <td>    0.014</td>\n",
       "</tr>\n",
       "</table>"
      ],
      "text/plain": [
       "<class 'statsmodels.iolib.summary.Summary'>\n",
       "\"\"\"\n",
       "        Logit Marginal Effects       \n",
       "=====================================\n",
       "Dep. Variable:          overall_clas1\n",
       "Method:                          dydx\n",
       "At:                           overall\n",
       "====================================================================================\n",
       "                      dy/dx    std err          z      P>|z|      [0.025      0.975]\n",
       "------------------------------------------------------------------------------------\n",
       "Acceleration         0.0042      0.000     11.301      0.000       0.003       0.005\n",
       "Aggression           0.0023      0.000      8.917      0.000       0.002       0.003\n",
       "Agility              0.0012      0.000      2.961      0.003       0.000       0.002\n",
       "Balance             -0.0011      0.000     -2.940      0.003      -0.002      -0.000\n",
       "Crossing             0.0011      0.000      3.490      0.000       0.000       0.002\n",
       "Dribbling            0.0045      0.000      9.501      0.000       0.004       0.005\n",
       "Finishing           -0.0007      0.000     -2.089      0.037      -0.001   -4.16e-05\n",
       "GK_diving           -0.0003      0.001     -0.398      0.690      -0.002       0.001\n",
       "GK_handling         -0.0009      0.001     -1.075      0.283      -0.003       0.001\n",
       "GK_kicking           0.0006      0.001      0.730      0.465      -0.001       0.002\n",
       "GK_positioning      -0.0001      0.001     -0.142      0.887      -0.002       0.002\n",
       "GK_reflexes      -1.364e-06      0.001     -0.002      0.999      -0.002       0.002\n",
       "Heading_accuracy     0.0095      0.000     28.537      0.000       0.009       0.010\n",
       "Jumping              0.0007      0.000      2.581      0.010       0.000       0.001\n",
       "Penalties            0.0008      0.000      2.446      0.014       0.000       0.001\n",
       "Short_passing        0.0183      0.001     36.432      0.000       0.017       0.019\n",
       "Shot_power           0.0028      0.000      8.527      0.000       0.002       0.003\n",
       "Stamina              0.0010      0.000      3.440      0.001       0.000       0.002\n",
       "Strength             0.0032      0.000      9.072      0.000       0.003       0.004\n",
       "Vision              -0.0015      0.000     -3.928      0.000      -0.002      -0.001\n",
       "Age                  0.0126      0.001     17.317      0.000       0.011       0.014\n",
       "====================================================================================\n",
       "\"\"\""
      ]
     },
     "execution_count": 51,
     "metadata": {},
     "output_type": "execute_result"
    }
   ],
   "source": [
    "logit1.get_margeff().summary()"
   ]
  },
  {
   "cell_type": "code",
   "execution_count": 52,
   "metadata": {},
   "outputs": [],
   "source": [
    "#important features\n",
    "model = sm.OLS(Y3,X3)\n",
    "results = model.fit()"
   ]
  },
  {
   "cell_type": "code",
   "execution_count": 53,
   "metadata": {},
   "outputs": [
    {
     "data": {
      "text/html": [
       "<div>\n",
       "<style scoped>\n",
       "    .dataframe tbody tr th:only-of-type {\n",
       "        vertical-align: middle;\n",
       "    }\n",
       "\n",
       "    .dataframe tbody tr th {\n",
       "        vertical-align: top;\n",
       "    }\n",
       "\n",
       "    .dataframe thead th {\n",
       "        text-align: right;\n",
       "    }\n",
       "</style>\n",
       "<table border=\"1\" class=\"dataframe\">\n",
       "  <thead>\n",
       "    <tr style=\"text-align: right;\">\n",
       "      <th></th>\n",
       "      <th>pvals</th>\n",
       "    </tr>\n",
       "  </thead>\n",
       "  <tbody>\n",
       "    <tr>\n",
       "      <th>Acceleration</th>\n",
       "      <td>7.265572e-08</td>\n",
       "    </tr>\n",
       "    <tr>\n",
       "      <th>Aggression</th>\n",
       "      <td>1.699977e-49</td>\n",
       "    </tr>\n",
       "    <tr>\n",
       "      <th>Agility</th>\n",
       "      <td>8.374557e-01</td>\n",
       "    </tr>\n",
       "    <tr>\n",
       "      <th>Balance</th>\n",
       "      <td>5.457972e-170</td>\n",
       "    </tr>\n",
       "    <tr>\n",
       "      <th>Crossing</th>\n",
       "      <td>5.958056e-46</td>\n",
       "    </tr>\n",
       "  </tbody>\n",
       "</table>\n",
       "</div>"
      ],
      "text/plain": [
       "                      pvals\n",
       "Acceleration   7.265572e-08\n",
       "Aggression     1.699977e-49\n",
       "Agility        8.374557e-01\n",
       "Balance       5.457972e-170\n",
       "Crossing       5.958056e-46"
      ]
     },
     "execution_count": 53,
     "metadata": {},
     "output_type": "execute_result"
    }
   ],
   "source": [
    "pvals = results.pvalues\n",
    "#coeff = results.params\n",
    "#results_df = pd.DataFrame({\"pvals\":pvals, \"coeff\":coeff,})\n",
    "#results_df = results_df[[\"coeff\",\"pvals\"]]\n",
    "results_df = pd.DataFrame({\"pvals\":pvals})\n",
    "results_df = results_df[[\"pvals\"]]\n",
    "results_df.head()"
   ]
  },
  {
   "cell_type": "code",
   "execution_count": 54,
   "metadata": {},
   "outputs": [
    {
     "data": {
      "text/html": [
       "<div>\n",
       "<style scoped>\n",
       "    .dataframe tbody tr th:only-of-type {\n",
       "        vertical-align: middle;\n",
       "    }\n",
       "\n",
       "    .dataframe tbody tr th {\n",
       "        vertical-align: top;\n",
       "    }\n",
       "\n",
       "    .dataframe thead th {\n",
       "        text-align: right;\n",
       "    }\n",
       "</style>\n",
       "<table border=\"1\" class=\"dataframe\">\n",
       "  <thead>\n",
       "    <tr style=\"text-align: right;\">\n",
       "      <th></th>\n",
       "      <th>pvals</th>\n",
       "    </tr>\n",
       "  </thead>\n",
       "  <tbody>\n",
       "    <tr>\n",
       "      <th>Acceleration</th>\n",
       "      <td>7.265572e-08</td>\n",
       "    </tr>\n",
       "    <tr>\n",
       "      <th>Aggression</th>\n",
       "      <td>1.699977e-49</td>\n",
       "    </tr>\n",
       "    <tr>\n",
       "      <th>Balance</th>\n",
       "      <td>5.457972e-170</td>\n",
       "    </tr>\n",
       "    <tr>\n",
       "      <th>Crossing</th>\n",
       "      <td>5.958056e-46</td>\n",
       "    </tr>\n",
       "    <tr>\n",
       "      <th>Dribbling</th>\n",
       "      <td>9.341551e-15</td>\n",
       "    </tr>\n",
       "  </tbody>\n",
       "</table>\n",
       "</div>"
      ],
      "text/plain": [
       "                      pvals\n",
       "Acceleration   7.265572e-08\n",
       "Aggression     1.699977e-49\n",
       "Balance       5.457972e-170\n",
       "Crossing       5.958056e-46\n",
       "Dribbling      9.341551e-15"
      ]
     },
     "execution_count": 54,
     "metadata": {},
     "output_type": "execute_result"
    }
   ],
   "source": [
    "results_1=results_df[results_df.pvals<0.05]\n",
    "results_1.head()"
   ]
  },
  {
   "cell_type": "code",
   "execution_count": 55,
   "metadata": {},
   "outputs": [
    {
     "name": "stdout",
     "output_type": "stream",
     "text": [
      "['Acceleration', 'Aggression', 'Balance', 'Crossing', 'Dribbling', 'Finishing', 'GK_diving', 'GK_handling', 'GK_kicking', 'GK_positioning', 'GK_reflexes', 'Heading_accuracy', 'Penalties', 'Short_passing', 'Shot_power', 'Stamina', 'Strength', 'Age']\n"
     ]
    }
   ],
   "source": [
    "imp_list=(results_1.index.values.tolist())\n",
    "print(imp_list)"
   ]
  },
  {
   "cell_type": "code",
   "execution_count": 52,
   "metadata": {},
   "outputs": [
    {
     "data": {
      "text/html": [
       "<div>\n",
       "<style scoped>\n",
       "    .dataframe tbody tr th:only-of-type {\n",
       "        vertical-align: middle;\n",
       "    }\n",
       "\n",
       "    .dataframe tbody tr th {\n",
       "        vertical-align: top;\n",
       "    }\n",
       "\n",
       "    .dataframe thead th {\n",
       "        text-align: right;\n",
       "    }\n",
       "</style>\n",
       "<table border=\"1\" class=\"dataframe\">\n",
       "  <thead>\n",
       "    <tr style=\"text-align: right;\">\n",
       "      <th></th>\n",
       "      <th>Acceleration</th>\n",
       "      <th>Aggression</th>\n",
       "      <th>Agility</th>\n",
       "      <th>Balance</th>\n",
       "      <th>Crossing</th>\n",
       "      <th>Dribbling</th>\n",
       "      <th>Finishing</th>\n",
       "      <th>GK_diving</th>\n",
       "      <th>GK_handling</th>\n",
       "      <th>GK_kicking</th>\n",
       "      <th>...</th>\n",
       "      <th>Heading_accuracy</th>\n",
       "      <th>Jumping</th>\n",
       "      <th>Penalties</th>\n",
       "      <th>Short_passing</th>\n",
       "      <th>Shot_power</th>\n",
       "      <th>Stamina</th>\n",
       "      <th>Strength</th>\n",
       "      <th>Vision</th>\n",
       "      <th>Age</th>\n",
       "      <th>Overall</th>\n",
       "    </tr>\n",
       "  </thead>\n",
       "  <tbody>\n",
       "    <tr>\n",
       "      <th>0</th>\n",
       "      <td>1.777536</td>\n",
       "      <td>0.237013</td>\n",
       "      <td>1.819261</td>\n",
       "      <td>-0.280427</td>\n",
       "      <td>2.157787</td>\n",
       "      <td>2.406053</td>\n",
       "      <td>2.707366</td>\n",
       "      <td>-1.134021</td>\n",
       "      <td>0.123694</td>\n",
       "      <td>1.355807</td>\n",
       "      <td>...</td>\n",
       "      <td>2.653676</td>\n",
       "      <td>2.499661</td>\n",
       "      <td>2.572488</td>\n",
       "      <td>2.043788</td>\n",
       "      <td>2.561898</td>\n",
       "      <td>2.180542</td>\n",
       "      <td>1.116149</td>\n",
       "      <td>2.283902</td>\n",
       "      <td>1.564276</td>\n",
       "      <td>1</td>\n",
       "    </tr>\n",
       "    <tr>\n",
       "      <th>1</th>\n",
       "      <td>2.030004</td>\n",
       "      <td>-0.785932</td>\n",
       "      <td>1.899263</td>\n",
       "      <td>2.340639</td>\n",
       "      <td>1.595761</td>\n",
       "      <td>2.876630</td>\n",
       "      <td>2.768226</td>\n",
       "      <td>-1.453427</td>\n",
       "      <td>0.123694</td>\n",
       "      <td>1.355807</td>\n",
       "      <td>...</td>\n",
       "      <td>1.192632</td>\n",
       "      <td>0.189159</td>\n",
       "      <td>1.698980</td>\n",
       "      <td>2.537843</td>\n",
       "      <td>1.885685</td>\n",
       "      <td>0.495837</td>\n",
       "      <td>-0.540685</td>\n",
       "      <td>2.666969</td>\n",
       "      <td>1.117907</td>\n",
       "      <td>1</td>\n",
       "    </tr>\n",
       "    <tr>\n",
       "      <th>2</th>\n",
       "      <td>2.198316</td>\n",
       "      <td>-0.240362</td>\n",
       "      <td>2.379272</td>\n",
       "      <td>1.275831</td>\n",
       "      <td>1.455255</td>\n",
       "      <td>2.798201</td>\n",
       "      <td>2.403062</td>\n",
       "      <td>-0.495210</td>\n",
       "      <td>-0.518797</td>\n",
       "      <td>1.355807</td>\n",
       "      <td>...</td>\n",
       "      <td>0.419138</td>\n",
       "      <td>-0.409860</td>\n",
       "      <td>2.254848</td>\n",
       "      <td>1.846166</td>\n",
       "      <td>1.510012</td>\n",
       "      <td>0.939181</td>\n",
       "      <td>-1.014065</td>\n",
       "      <td>1.900835</td>\n",
       "      <td>0.001985</td>\n",
       "      <td>1</td>\n",
       "    </tr>\n",
       "    <tr>\n",
       "      <th>3</th>\n",
       "      <td>1.693380</td>\n",
       "      <td>1.259958</td>\n",
       "      <td>1.579256</td>\n",
       "      <td>-0.526152</td>\n",
       "      <td>1.595761</td>\n",
       "      <td>2.013904</td>\n",
       "      <td>2.707366</td>\n",
       "      <td>5.254093</td>\n",
       "      <td>4.621128</td>\n",
       "      <td>6.338196</td>\n",
       "      <td>...</td>\n",
       "      <td>1.708295</td>\n",
       "      <td>0.274733</td>\n",
       "      <td>2.572488</td>\n",
       "      <td>2.043788</td>\n",
       "      <td>2.035955</td>\n",
       "      <td>1.914536</td>\n",
       "      <td>1.116149</td>\n",
       "      <td>2.207289</td>\n",
       "      <td>1.117907</td>\n",
       "      <td>1</td>\n",
       "    </tr>\n",
       "    <tr>\n",
       "      <th>4</th>\n",
       "      <td>0.935976</td>\n",
       "      <td>1.396351</td>\n",
       "      <td>0.939243</td>\n",
       "      <td>1.112014</td>\n",
       "      <td>0.541964</td>\n",
       "      <td>1.935475</td>\n",
       "      <td>2.524784</td>\n",
       "      <td>1.421225</td>\n",
       "      <td>-1.482532</td>\n",
       "      <td>0.421609</td>\n",
       "      <td>...</td>\n",
       "      <td>2.395845</td>\n",
       "      <td>1.558346</td>\n",
       "      <td>2.254848</td>\n",
       "      <td>2.043788</td>\n",
       "      <td>2.111089</td>\n",
       "      <td>1.027849</td>\n",
       "      <td>1.431736</td>\n",
       "      <td>1.747609</td>\n",
       "      <td>0.671538</td>\n",
       "      <td>1</td>\n",
       "    </tr>\n",
       "  </tbody>\n",
       "</table>\n",
       "<p>5 rows × 22 columns</p>\n",
       "</div>"
      ],
      "text/plain": [
       "   Acceleration  Aggression   Agility   Balance  Crossing  Dribbling  \\\n",
       "0      1.777536    0.237013  1.819261 -0.280427  2.157787   2.406053   \n",
       "1      2.030004   -0.785932  1.899263  2.340639  1.595761   2.876630   \n",
       "2      2.198316   -0.240362  2.379272  1.275831  1.455255   2.798201   \n",
       "3      1.693380    1.259958  1.579256 -0.526152  1.595761   2.013904   \n",
       "4      0.935976    1.396351  0.939243  1.112014  0.541964   1.935475   \n",
       "\n",
       "   Finishing  GK_diving  GK_handling  GK_kicking   ...     Heading_accuracy  \\\n",
       "0   2.707366  -1.134021     0.123694    1.355807   ...             2.653676   \n",
       "1   2.768226  -1.453427     0.123694    1.355807   ...             1.192632   \n",
       "2   2.403062  -0.495210    -0.518797    1.355807   ...             0.419138   \n",
       "3   2.707366   5.254093     4.621128    6.338196   ...             1.708295   \n",
       "4   2.524784   1.421225    -1.482532    0.421609   ...             2.395845   \n",
       "\n",
       "    Jumping  Penalties  Short_passing  Shot_power   Stamina  Strength  \\\n",
       "0  2.499661   2.572488       2.043788    2.561898  2.180542  1.116149   \n",
       "1  0.189159   1.698980       2.537843    1.885685  0.495837 -0.540685   \n",
       "2 -0.409860   2.254848       1.846166    1.510012  0.939181 -1.014065   \n",
       "3  0.274733   2.572488       2.043788    2.035955  1.914536  1.116149   \n",
       "4  1.558346   2.254848       2.043788    2.111089  1.027849  1.431736   \n",
       "\n",
       "     Vision       Age  Overall  \n",
       "0  2.283902  1.564276        1  \n",
       "1  2.666969  1.117907        1  \n",
       "2  1.900835  0.001985        1  \n",
       "3  2.207289  1.117907        1  \n",
       "4  1.747609  0.671538        1  \n",
       "\n",
       "[5 rows x 22 columns]"
      ]
     },
     "execution_count": 52,
     "metadata": {},
     "output_type": "execute_result"
    }
   ],
   "source": [
    "data_final_imp=X.join(overall_clas1)\n",
    "data_final_imp.head()"
   ]
  },
  {
   "cell_type": "code",
   "execution_count": 53,
   "metadata": {},
   "outputs": [
    {
     "name": "stdout",
     "output_type": "stream",
     "text": [
      "Optimization terminated successfully.\n",
      "         Current function value: 0.356868\n",
      "         Iterations 7\n"
     ]
    }
   ],
   "source": [
    "formula=\"overall_clas1~\"+\"+\".join(X.columns)\n",
    "logit_new_imp=Logit.from_formula(formula=formula,data=data_final_imp).fit()\n",
    "marg_eff=pd.read_html(logit_new_imp.get_margeff().summary().tables[1].as_html(),header=0)[0]\n",
    "sig_marg_eff=marg_eff[marg_eff[\"P>|z|\"]<0.05]"
   ]
  },
  {
   "cell_type": "code",
   "execution_count": 59,
   "metadata": {},
   "outputs": [
    {
     "data": {
      "image/png": "[encoded data removed]",
      "text/plain": [
       "<Figure size 720x432 with 1 Axes>"
      ]
     },
     "metadata": {},
     "output_type": "display_data"
    }
   ],
   "source": [
    "plt.figure(figsize=(10,6))\n",
    "plt.bar(sig_marg_eff[\"Unnamed: 0\"],sig_marg_eff[\"dy/dx\"],color=\"darkblue\")\n",
    "plt.xticks(rotation=90)\n",
    "plt.title(\"Feature importances (<p-value=0.05)\")\n",
    "plt.show()"
   ]
  },
  {
   "cell_type": "markdown",
   "metadata": {},
   "source": [
    "## Logistic Regression with not  scaled data from sklearn"
   ]
  },
  {
   "cell_type": "code",
   "execution_count": 56,
   "metadata": {
    "scrolled": true
   },
   "outputs": [
    {
     "name": "stderr",
     "output_type": "stream",
     "text": [
      "/anaconda3/lib/python3.6/site-packages/sklearn/utils/validation.py:578: DataConversionWarning: A column-vector y was passed when a 1d array was expected. Please change the shape of y to (n_samples, ), for example using ravel().\n",
      "  y = column_or_1d(y, warn=True)\n",
      "/anaconda3/lib/python3.6/site-packages/sklearn/utils/validation.py:578: DataConversionWarning: A column-vector y was passed when a 1d array was expected. Please change the shape of y to (n_samples, ), for example using ravel().\n",
      "  y = column_or_1d(y, warn=True)\n",
      "/anaconda3/lib/python3.6/site-packages/sklearn/utils/validation.py:578: DataConversionWarning: A column-vector y was passed when a 1d array was expected. Please change the shape of y to (n_samples, ), for example using ravel().\n",
      "  y = column_or_1d(y, warn=True)\n",
      "/anaconda3/lib/python3.6/site-packages/sklearn/utils/validation.py:578: DataConversionWarning: A column-vector y was passed when a 1d array was expected. Please change the shape of y to (n_samples, ), for example using ravel().\n",
      "  y = column_or_1d(y, warn=True)\n",
      "/anaconda3/lib/python3.6/site-packages/sklearn/utils/validation.py:578: DataConversionWarning: A column-vector y was passed when a 1d array was expected. Please change the shape of y to (n_samples, ), for example using ravel().\n",
      "  y = column_or_1d(y, warn=True)\n",
      "/anaconda3/lib/python3.6/site-packages/sklearn/utils/validation.py:578: DataConversionWarning: A column-vector y was passed when a 1d array was expected. Please change the shape of y to (n_samples, ), for example using ravel().\n",
      "  y = column_or_1d(y, warn=True)\n",
      "/anaconda3/lib/python3.6/site-packages/sklearn/utils/validation.py:578: DataConversionWarning: A column-vector y was passed when a 1d array was expected. Please change the shape of y to (n_samples, ), for example using ravel().\n",
      "  y = column_or_1d(y, warn=True)\n",
      "/anaconda3/lib/python3.6/site-packages/sklearn/utils/validation.py:578: DataConversionWarning: A column-vector y was passed when a 1d array was expected. Please change the shape of y to (n_samples, ), for example using ravel().\n",
      "  y = column_or_1d(y, warn=True)\n",
      "/anaconda3/lib/python3.6/site-packages/sklearn/utils/validation.py:578: DataConversionWarning: A column-vector y was passed when a 1d array was expected. Please change the shape of y to (n_samples, ), for example using ravel().\n",
      "  y = column_or_1d(y, warn=True)\n",
      "/anaconda3/lib/python3.6/site-packages/sklearn/utils/validation.py:578: DataConversionWarning: A column-vector y was passed when a 1d array was expected. Please change the shape of y to (n_samples, ), for example using ravel().\n",
      "  y = column_or_1d(y, warn=True)\n",
      "/anaconda3/lib/python3.6/site-packages/sklearn/utils/validation.py:578: DataConversionWarning: A column-vector y was passed when a 1d array was expected. Please change the shape of y to (n_samples, ), for example using ravel().\n",
      "  y = column_or_1d(y, warn=True)\n",
      "/anaconda3/lib/python3.6/site-packages/sklearn/utils/validation.py:578: DataConversionWarning: A column-vector y was passed when a 1d array was expected. Please change the shape of y to (n_samples, ), for example using ravel().\n",
      "  y = column_or_1d(y, warn=True)\n",
      "/anaconda3/lib/python3.6/site-packages/sklearn/utils/validation.py:578: DataConversionWarning: A column-vector y was passed when a 1d array was expected. Please change the shape of y to (n_samples, ), for example using ravel().\n",
      "  y = column_or_1d(y, warn=True)\n",
      "/anaconda3/lib/python3.6/site-packages/sklearn/utils/validation.py:578: DataConversionWarning: A column-vector y was passed when a 1d array was expected. Please change the shape of y to (n_samples, ), for example using ravel().\n",
      "  y = column_or_1d(y, warn=True)\n",
      "/anaconda3/lib/python3.6/site-packages/sklearn/utils/validation.py:578: DataConversionWarning: A column-vector y was passed when a 1d array was expected. Please change the shape of y to (n_samples, ), for example using ravel().\n",
      "  y = column_or_1d(y, warn=True)\n",
      "/anaconda3/lib/python3.6/site-packages/sklearn/utils/validation.py:578: DataConversionWarning: A column-vector y was passed when a 1d array was expected. Please change the shape of y to (n_samples, ), for example using ravel().\n",
      "  y = column_or_1d(y, warn=True)\n",
      "/anaconda3/lib/python3.6/site-packages/sklearn/utils/validation.py:578: DataConversionWarning: A column-vector y was passed when a 1d array was expected. Please change the shape of y to (n_samples, ), for example using ravel().\n",
      "  y = column_or_1d(y, warn=True)\n",
      "/anaconda3/lib/python3.6/site-packages/sklearn/utils/validation.py:578: DataConversionWarning: A column-vector y was passed when a 1d array was expected. Please change the shape of y to (n_samples, ), for example using ravel().\n",
      "  y = column_or_1d(y, warn=True)\n",
      "/anaconda3/lib/python3.6/site-packages/sklearn/utils/validation.py:578: DataConversionWarning: A column-vector y was passed when a 1d array was expected. Please change the shape of y to (n_samples, ), for example using ravel().\n",
      "  y = column_or_1d(y, warn=True)\n",
      "/anaconda3/lib/python3.6/site-packages/sklearn/utils/validation.py:578: DataConversionWarning: A column-vector y was passed when a 1d array was expected. Please change the shape of y to (n_samples, ), for example using ravel().\n",
      "  y = column_or_1d(y, warn=True)\n",
      "/anaconda3/lib/python3.6/site-packages/sklearn/utils/validation.py:578: DataConversionWarning: A column-vector y was passed when a 1d array was expected. Please change the shape of y to (n_samples, ), for example using ravel().\n",
      "  y = column_or_1d(y, warn=True)\n",
      "/anaconda3/lib/python3.6/site-packages/sklearn/utils/validation.py:578: DataConversionWarning: A column-vector y was passed when a 1d array was expected. Please change the shape of y to (n_samples, ), for example using ravel().\n",
      "  y = column_or_1d(y, warn=True)\n",
      "/anaconda3/lib/python3.6/site-packages/sklearn/utils/validation.py:578: DataConversionWarning: A column-vector y was passed when a 1d array was expected. Please change the shape of y to (n_samples, ), for example using ravel().\n",
      "  y = column_or_1d(y, warn=True)\n",
      "/anaconda3/lib/python3.6/site-packages/sklearn/utils/validation.py:578: DataConversionWarning: A column-vector y was passed when a 1d array was expected. Please change the shape of y to (n_samples, ), for example using ravel().\n",
      "  y = column_or_1d(y, warn=True)\n",
      "/anaconda3/lib/python3.6/site-packages/sklearn/utils/validation.py:578: DataConversionWarning: A column-vector y was passed when a 1d array was expected. Please change the shape of y to (n_samples, ), for example using ravel().\n",
      "  y = column_or_1d(y, warn=True)\n",
      "/anaconda3/lib/python3.6/site-packages/sklearn/utils/validation.py:578: DataConversionWarning: A column-vector y was passed when a 1d array was expected. Please change the shape of y to (n_samples, ), for example using ravel().\n",
      "  y = column_or_1d(y, warn=True)\n",
      "/anaconda3/lib/python3.6/site-packages/sklearn/utils/validation.py:578: DataConversionWarning: A column-vector y was passed when a 1d array was expected. Please change the shape of y to (n_samples, ), for example using ravel().\n",
      "  y = column_or_1d(y, warn=True)\n",
      "/anaconda3/lib/python3.6/site-packages/sklearn/utils/validation.py:578: DataConversionWarning: A column-vector y was passed when a 1d array was expected. Please change the shape of y to (n_samples, ), for example using ravel().\n",
      "  y = column_or_1d(y, warn=True)\n",
      "/anaconda3/lib/python3.6/site-packages/sklearn/utils/validation.py:578: DataConversionWarning: A column-vector y was passed when a 1d array was expected. Please change the shape of y to (n_samples, ), for example using ravel().\n",
      "  y = column_or_1d(y, warn=True)\n",
      "/anaconda3/lib/python3.6/site-packages/sklearn/utils/validation.py:578: DataConversionWarning: A column-vector y was passed when a 1d array was expected. Please change the shape of y to (n_samples, ), for example using ravel().\n",
      "  y = column_or_1d(y, warn=True)\n",
      "/anaconda3/lib/python3.6/site-packages/sklearn/utils/validation.py:578: DataConversionWarning: A column-vector y was passed when a 1d array was expected. Please change the shape of y to (n_samples, ), for example using ravel().\n",
      "  y = column_or_1d(y, warn=True)\n",
      "/anaconda3/lib/python3.6/site-packages/sklearn/utils/validation.py:578: DataConversionWarning: A column-vector y was passed when a 1d array was expected. Please change the shape of y to (n_samples, ), for example using ravel().\n",
      "  y = column_or_1d(y, warn=True)\n"
     ]
    },
    {
     "name": "stderr",
     "output_type": "stream",
     "text": [
      "/anaconda3/lib/python3.6/site-packages/sklearn/utils/validation.py:578: DataConversionWarning: A column-vector y was passed when a 1d array was expected. Please change the shape of y to (n_samples, ), for example using ravel().\n",
      "  y = column_or_1d(y, warn=True)\n",
      "/anaconda3/lib/python3.6/site-packages/sklearn/utils/validation.py:578: DataConversionWarning: A column-vector y was passed when a 1d array was expected. Please change the shape of y to (n_samples, ), for example using ravel().\n",
      "  y = column_or_1d(y, warn=True)\n",
      "/anaconda3/lib/python3.6/site-packages/sklearn/utils/validation.py:578: DataConversionWarning: A column-vector y was passed when a 1d array was expected. Please change the shape of y to (n_samples, ), for example using ravel().\n",
      "  y = column_or_1d(y, warn=True)\n",
      "/anaconda3/lib/python3.6/site-packages/sklearn/utils/validation.py:578: DataConversionWarning: A column-vector y was passed when a 1d array was expected. Please change the shape of y to (n_samples, ), for example using ravel().\n",
      "  y = column_or_1d(y, warn=True)\n",
      "/anaconda3/lib/python3.6/site-packages/sklearn/utils/validation.py:578: DataConversionWarning: A column-vector y was passed when a 1d array was expected. Please change the shape of y to (n_samples, ), for example using ravel().\n",
      "  y = column_or_1d(y, warn=True)\n",
      "/anaconda3/lib/python3.6/site-packages/sklearn/utils/validation.py:578: DataConversionWarning: A column-vector y was passed when a 1d array was expected. Please change the shape of y to (n_samples, ), for example using ravel().\n",
      "  y = column_or_1d(y, warn=True)\n",
      "/anaconda3/lib/python3.6/site-packages/sklearn/utils/validation.py:578: DataConversionWarning: A column-vector y was passed when a 1d array was expected. Please change the shape of y to (n_samples, ), for example using ravel().\n",
      "  y = column_or_1d(y, warn=True)\n",
      "/anaconda3/lib/python3.6/site-packages/sklearn/utils/validation.py:578: DataConversionWarning: A column-vector y was passed when a 1d array was expected. Please change the shape of y to (n_samples, ), for example using ravel().\n",
      "  y = column_or_1d(y, warn=True)\n",
      "/anaconda3/lib/python3.6/site-packages/sklearn/utils/validation.py:578: DataConversionWarning: A column-vector y was passed when a 1d array was expected. Please change the shape of y to (n_samples, ), for example using ravel().\n",
      "  y = column_or_1d(y, warn=True)\n",
      "/anaconda3/lib/python3.6/site-packages/sklearn/utils/validation.py:578: DataConversionWarning: A column-vector y was passed when a 1d array was expected. Please change the shape of y to (n_samples, ), for example using ravel().\n",
      "  y = column_or_1d(y, warn=True)\n",
      "/anaconda3/lib/python3.6/site-packages/sklearn/utils/validation.py:578: DataConversionWarning: A column-vector y was passed when a 1d array was expected. Please change the shape of y to (n_samples, ), for example using ravel().\n",
      "  y = column_or_1d(y, warn=True)\n",
      "/anaconda3/lib/python3.6/site-packages/sklearn/utils/validation.py:578: DataConversionWarning: A column-vector y was passed when a 1d array was expected. Please change the shape of y to (n_samples, ), for example using ravel().\n",
      "  y = column_or_1d(y, warn=True)\n",
      "/anaconda3/lib/python3.6/site-packages/sklearn/utils/validation.py:578: DataConversionWarning: A column-vector y was passed when a 1d array was expected. Please change the shape of y to (n_samples, ), for example using ravel().\n",
      "  y = column_or_1d(y, warn=True)\n",
      "/anaconda3/lib/python3.6/site-packages/sklearn/utils/validation.py:578: DataConversionWarning: A column-vector y was passed when a 1d array was expected. Please change the shape of y to (n_samples, ), for example using ravel().\n",
      "  y = column_or_1d(y, warn=True)\n",
      "/anaconda3/lib/python3.6/site-packages/sklearn/utils/validation.py:578: DataConversionWarning: A column-vector y was passed when a 1d array was expected. Please change the shape of y to (n_samples, ), for example using ravel().\n",
      "  y = column_or_1d(y, warn=True)\n",
      "/anaconda3/lib/python3.6/site-packages/sklearn/utils/validation.py:578: DataConversionWarning: A column-vector y was passed when a 1d array was expected. Please change the shape of y to (n_samples, ), for example using ravel().\n",
      "  y = column_or_1d(y, warn=True)\n",
      "/anaconda3/lib/python3.6/site-packages/sklearn/utils/validation.py:578: DataConversionWarning: A column-vector y was passed when a 1d array was expected. Please change the shape of y to (n_samples, ), for example using ravel().\n",
      "  y = column_or_1d(y, warn=True)\n",
      "/anaconda3/lib/python3.6/site-packages/sklearn/utils/validation.py:578: DataConversionWarning: A column-vector y was passed when a 1d array was expected. Please change the shape of y to (n_samples, ), for example using ravel().\n",
      "  y = column_or_1d(y, warn=True)\n",
      "/anaconda3/lib/python3.6/site-packages/sklearn/utils/validation.py:578: DataConversionWarning: A column-vector y was passed when a 1d array was expected. Please change the shape of y to (n_samples, ), for example using ravel().\n",
      "  y = column_or_1d(y, warn=True)\n",
      "/anaconda3/lib/python3.6/site-packages/sklearn/utils/validation.py:578: DataConversionWarning: A column-vector y was passed when a 1d array was expected. Please change the shape of y to (n_samples, ), for example using ravel().\n",
      "  y = column_or_1d(y, warn=True)\n",
      "/anaconda3/lib/python3.6/site-packages/sklearn/utils/validation.py:578: DataConversionWarning: A column-vector y was passed when a 1d array was expected. Please change the shape of y to (n_samples, ), for example using ravel().\n",
      "  y = column_or_1d(y, warn=True)\n",
      "/anaconda3/lib/python3.6/site-packages/sklearn/utils/validation.py:578: DataConversionWarning: A column-vector y was passed when a 1d array was expected. Please change the shape of y to (n_samples, ), for example using ravel().\n",
      "  y = column_or_1d(y, warn=True)\n",
      "/anaconda3/lib/python3.6/site-packages/sklearn/utils/validation.py:578: DataConversionWarning: A column-vector y was passed when a 1d array was expected. Please change the shape of y to (n_samples, ), for example using ravel().\n",
      "  y = column_or_1d(y, warn=True)\n",
      "/anaconda3/lib/python3.6/site-packages/sklearn/utils/validation.py:578: DataConversionWarning: A column-vector y was passed when a 1d array was expected. Please change the shape of y to (n_samples, ), for example using ravel().\n",
      "  y = column_or_1d(y, warn=True)\n",
      "/anaconda3/lib/python3.6/site-packages/sklearn/utils/validation.py:578: DataConversionWarning: A column-vector y was passed when a 1d array was expected. Please change the shape of y to (n_samples, ), for example using ravel().\n",
      "  y = column_or_1d(y, warn=True)\n",
      "/anaconda3/lib/python3.6/site-packages/sklearn/utils/validation.py:578: DataConversionWarning: A column-vector y was passed when a 1d array was expected. Please change the shape of y to (n_samples, ), for example using ravel().\n",
      "  y = column_or_1d(y, warn=True)\n",
      "/anaconda3/lib/python3.6/site-packages/sklearn/utils/validation.py:578: DataConversionWarning: A column-vector y was passed when a 1d array was expected. Please change the shape of y to (n_samples, ), for example using ravel().\n",
      "  y = column_or_1d(y, warn=True)\n",
      "/anaconda3/lib/python3.6/site-packages/sklearn/utils/validation.py:578: DataConversionWarning: A column-vector y was passed when a 1d array was expected. Please change the shape of y to (n_samples, ), for example using ravel().\n",
      "  y = column_or_1d(y, warn=True)\n",
      "/anaconda3/lib/python3.6/site-packages/sklearn/utils/validation.py:578: DataConversionWarning: A column-vector y was passed when a 1d array was expected. Please change the shape of y to (n_samples, ), for example using ravel().\n",
      "  y = column_or_1d(y, warn=True)\n",
      "/anaconda3/lib/python3.6/site-packages/sklearn/utils/validation.py:578: DataConversionWarning: A column-vector y was passed when a 1d array was expected. Please change the shape of y to (n_samples, ), for example using ravel().\n",
      "  y = column_or_1d(y, warn=True)\n",
      "/anaconda3/lib/python3.6/site-packages/sklearn/utils/validation.py:578: DataConversionWarning: A column-vector y was passed when a 1d array was expected. Please change the shape of y to (n_samples, ), for example using ravel().\n",
      "  y = column_or_1d(y, warn=True)\n",
      "/anaconda3/lib/python3.6/site-packages/sklearn/utils/validation.py:578: DataConversionWarning: A column-vector y was passed when a 1d array was expected. Please change the shape of y to (n_samples, ), for example using ravel().\n",
      "  y = column_or_1d(y, warn=True)\n"
     ]
    },
    {
     "name": "stderr",
     "output_type": "stream",
     "text": [
      "/anaconda3/lib/python3.6/site-packages/sklearn/utils/validation.py:578: DataConversionWarning: A column-vector y was passed when a 1d array was expected. Please change the shape of y to (n_samples, ), for example using ravel().\n",
      "  y = column_or_1d(y, warn=True)\n",
      "/anaconda3/lib/python3.6/site-packages/sklearn/utils/validation.py:578: DataConversionWarning: A column-vector y was passed when a 1d array was expected. Please change the shape of y to (n_samples, ), for example using ravel().\n",
      "  y = column_or_1d(y, warn=True)\n",
      "/anaconda3/lib/python3.6/site-packages/sklearn/utils/validation.py:578: DataConversionWarning: A column-vector y was passed when a 1d array was expected. Please change the shape of y to (n_samples, ), for example using ravel().\n",
      "  y = column_or_1d(y, warn=True)\n",
      "/anaconda3/lib/python3.6/site-packages/sklearn/utils/validation.py:578: DataConversionWarning: A column-vector y was passed when a 1d array was expected. Please change the shape of y to (n_samples, ), for example using ravel().\n",
      "  y = column_or_1d(y, warn=True)\n",
      "/anaconda3/lib/python3.6/site-packages/sklearn/utils/validation.py:578: DataConversionWarning: A column-vector y was passed when a 1d array was expected. Please change the shape of y to (n_samples, ), for example using ravel().\n",
      "  y = column_or_1d(y, warn=True)\n",
      "/anaconda3/lib/python3.6/site-packages/sklearn/utils/validation.py:578: DataConversionWarning: A column-vector y was passed when a 1d array was expected. Please change the shape of y to (n_samples, ), for example using ravel().\n",
      "  y = column_or_1d(y, warn=True)\n",
      "/anaconda3/lib/python3.6/site-packages/sklearn/utils/validation.py:578: DataConversionWarning: A column-vector y was passed when a 1d array was expected. Please change the shape of y to (n_samples, ), for example using ravel().\n",
      "  y = column_or_1d(y, warn=True)\n",
      "/anaconda3/lib/python3.6/site-packages/sklearn/utils/validation.py:578: DataConversionWarning: A column-vector y was passed when a 1d array was expected. Please change the shape of y to (n_samples, ), for example using ravel().\n",
      "  y = column_or_1d(y, warn=True)\n",
      "/anaconda3/lib/python3.6/site-packages/sklearn/utils/validation.py:578: DataConversionWarning: A column-vector y was passed when a 1d array was expected. Please change the shape of y to (n_samples, ), for example using ravel().\n",
      "  y = column_or_1d(y, warn=True)\n",
      "/anaconda3/lib/python3.6/site-packages/sklearn/utils/validation.py:578: DataConversionWarning: A column-vector y was passed when a 1d array was expected. Please change the shape of y to (n_samples, ), for example using ravel().\n",
      "  y = column_or_1d(y, warn=True)\n",
      "/anaconda3/lib/python3.6/site-packages/sklearn/utils/validation.py:578: DataConversionWarning: A column-vector y was passed when a 1d array was expected. Please change the shape of y to (n_samples, ), for example using ravel().\n",
      "  y = column_or_1d(y, warn=True)\n",
      "/anaconda3/lib/python3.6/site-packages/sklearn/utils/validation.py:578: DataConversionWarning: A column-vector y was passed when a 1d array was expected. Please change the shape of y to (n_samples, ), for example using ravel().\n",
      "  y = column_or_1d(y, warn=True)\n",
      "/anaconda3/lib/python3.6/site-packages/sklearn/utils/validation.py:578: DataConversionWarning: A column-vector y was passed when a 1d array was expected. Please change the shape of y to (n_samples, ), for example using ravel().\n",
      "  y = column_or_1d(y, warn=True)\n",
      "/anaconda3/lib/python3.6/site-packages/sklearn/utils/validation.py:578: DataConversionWarning: A column-vector y was passed when a 1d array was expected. Please change the shape of y to (n_samples, ), for example using ravel().\n",
      "  y = column_or_1d(y, warn=True)\n",
      "/anaconda3/lib/python3.6/site-packages/sklearn/utils/validation.py:578: DataConversionWarning: A column-vector y was passed when a 1d array was expected. Please change the shape of y to (n_samples, ), for example using ravel().\n",
      "  y = column_or_1d(y, warn=True)\n",
      "/anaconda3/lib/python3.6/site-packages/sklearn/utils/validation.py:578: DataConversionWarning: A column-vector y was passed when a 1d array was expected. Please change the shape of y to (n_samples, ), for example using ravel().\n",
      "  y = column_or_1d(y, warn=True)\n",
      "/anaconda3/lib/python3.6/site-packages/sklearn/utils/validation.py:578: DataConversionWarning: A column-vector y was passed when a 1d array was expected. Please change the shape of y to (n_samples, ), for example using ravel().\n",
      "  y = column_or_1d(y, warn=True)\n",
      "/anaconda3/lib/python3.6/site-packages/sklearn/utils/validation.py:578: DataConversionWarning: A column-vector y was passed when a 1d array was expected. Please change the shape of y to (n_samples, ), for example using ravel().\n",
      "  y = column_or_1d(y, warn=True)\n",
      "/anaconda3/lib/python3.6/site-packages/sklearn/utils/validation.py:578: DataConversionWarning: A column-vector y was passed when a 1d array was expected. Please change the shape of y to (n_samples, ), for example using ravel().\n",
      "  y = column_or_1d(y, warn=True)\n",
      "/anaconda3/lib/python3.6/site-packages/sklearn/utils/validation.py:578: DataConversionWarning: A column-vector y was passed when a 1d array was expected. Please change the shape of y to (n_samples, ), for example using ravel().\n",
      "  y = column_or_1d(y, warn=True)\n",
      "/anaconda3/lib/python3.6/site-packages/sklearn/utils/validation.py:578: DataConversionWarning: A column-vector y was passed when a 1d array was expected. Please change the shape of y to (n_samples, ), for example using ravel().\n",
      "  y = column_or_1d(y, warn=True)\n",
      "/anaconda3/lib/python3.6/site-packages/sklearn/utils/validation.py:578: DataConversionWarning: A column-vector y was passed when a 1d array was expected. Please change the shape of y to (n_samples, ), for example using ravel().\n",
      "  y = column_or_1d(y, warn=True)\n",
      "/anaconda3/lib/python3.6/site-packages/sklearn/utils/validation.py:578: DataConversionWarning: A column-vector y was passed when a 1d array was expected. Please change the shape of y to (n_samples, ), for example using ravel().\n",
      "  y = column_or_1d(y, warn=True)\n",
      "/anaconda3/lib/python3.6/site-packages/sklearn/utils/validation.py:578: DataConversionWarning: A column-vector y was passed when a 1d array was expected. Please change the shape of y to (n_samples, ), for example using ravel().\n",
      "  y = column_or_1d(y, warn=True)\n",
      "/anaconda3/lib/python3.6/site-packages/sklearn/utils/validation.py:578: DataConversionWarning: A column-vector y was passed when a 1d array was expected. Please change the shape of y to (n_samples, ), for example using ravel().\n",
      "  y = column_or_1d(y, warn=True)\n",
      "/anaconda3/lib/python3.6/site-packages/sklearn/utils/validation.py:578: DataConversionWarning: A column-vector y was passed when a 1d array was expected. Please change the shape of y to (n_samples, ), for example using ravel().\n",
      "  y = column_or_1d(y, warn=True)\n",
      "/anaconda3/lib/python3.6/site-packages/sklearn/utils/validation.py:578: DataConversionWarning: A column-vector y was passed when a 1d array was expected. Please change the shape of y to (n_samples, ), for example using ravel().\n",
      "  y = column_or_1d(y, warn=True)\n",
      "/anaconda3/lib/python3.6/site-packages/sklearn/utils/validation.py:578: DataConversionWarning: A column-vector y was passed when a 1d array was expected. Please change the shape of y to (n_samples, ), for example using ravel().\n",
      "  y = column_or_1d(y, warn=True)\n",
      "/anaconda3/lib/python3.6/site-packages/sklearn/utils/validation.py:578: DataConversionWarning: A column-vector y was passed when a 1d array was expected. Please change the shape of y to (n_samples, ), for example using ravel().\n",
      "  y = column_or_1d(y, warn=True)\n",
      "/anaconda3/lib/python3.6/site-packages/sklearn/utils/validation.py:578: DataConversionWarning: A column-vector y was passed when a 1d array was expected. Please change the shape of y to (n_samples, ), for example using ravel().\n",
      "  y = column_or_1d(y, warn=True)\n",
      "/anaconda3/lib/python3.6/site-packages/sklearn/utils/validation.py:578: DataConversionWarning: A column-vector y was passed when a 1d array was expected. Please change the shape of y to (n_samples, ), for example using ravel().\n",
      "  y = column_or_1d(y, warn=True)\n",
      "/anaconda3/lib/python3.6/site-packages/sklearn/utils/validation.py:578: DataConversionWarning: A column-vector y was passed when a 1d array was expected. Please change the shape of y to (n_samples, ), for example using ravel().\n",
      "  y = column_or_1d(y, warn=True)\n"
     ]
    },
    {
     "name": "stderr",
     "output_type": "stream",
     "text": [
      "/anaconda3/lib/python3.6/site-packages/sklearn/utils/validation.py:578: DataConversionWarning: A column-vector y was passed when a 1d array was expected. Please change the shape of y to (n_samples, ), for example using ravel().\n",
      "  y = column_or_1d(y, warn=True)\n",
      "/anaconda3/lib/python3.6/site-packages/sklearn/utils/validation.py:578: DataConversionWarning: A column-vector y was passed when a 1d array was expected. Please change the shape of y to (n_samples, ), for example using ravel().\n",
      "  y = column_or_1d(y, warn=True)\n",
      "/anaconda3/lib/python3.6/site-packages/sklearn/utils/validation.py:578: DataConversionWarning: A column-vector y was passed when a 1d array was expected. Please change the shape of y to (n_samples, ), for example using ravel().\n",
      "  y = column_or_1d(y, warn=True)\n",
      "/anaconda3/lib/python3.6/site-packages/sklearn/utils/validation.py:578: DataConversionWarning: A column-vector y was passed when a 1d array was expected. Please change the shape of y to (n_samples, ), for example using ravel().\n",
      "  y = column_or_1d(y, warn=True)\n",
      "/anaconda3/lib/python3.6/site-packages/sklearn/utils/validation.py:578: DataConversionWarning: A column-vector y was passed when a 1d array was expected. Please change the shape of y to (n_samples, ), for example using ravel().\n",
      "  y = column_or_1d(y, warn=True)\n"
     ]
    },
    {
     "data": {
      "text/plain": [
       "GridSearchCV(cv=5, error_score='raise',\n",
       "       estimator=LogisticRegression(C=1.0, class_weight=None, dual=False, fit_intercept=True,\n",
       "          intercept_scaling=1, max_iter=100, multi_class='ovr', n_jobs=1,\n",
       "          penalty='l2', random_state=42, solver='liblinear', tol=0.0001,\n",
       "          verbose=0, warm_start=False),\n",
       "       fit_params=None, iid=True, n_jobs=-1,\n",
       "       param_grid={'C': array([1.00000e-04, 5.55564e+00, 1.11112e+01, 1.66667e+01, 2.22223e+01,\n",
       "       2.77778e+01, 3.33334e+01, 3.88889e+01, 4.44445e+01, 5.00000e+01]), 'class_weight': [None, 'balanced']},\n",
       "       pre_dispatch='2*n_jobs', refit=True, return_train_score='warn',\n",
       "       scoring='roc_auc', verbose=0)"
      ]
     },
     "execution_count": 56,
     "metadata": {},
     "output_type": "execute_result"
    }
   ],
   "source": [
    "grid_search4=GridSearchCV(LogisticRegression(random_state=42),\n",
    "                         param_grid={\"C\":np.linspace(0.0001,50,10),\"class_weight\":[None,\"balanced\"]},\n",
    "                         scoring=\"roc_auc\",cv=5,n_jobs=-1)\n",
    "grid_search4.fit(X3,Y3)"
   ]
  },
  {
   "cell_type": "code",
   "execution_count": 57,
   "metadata": {},
   "outputs": [
    {
     "name": "stdout",
     "output_type": "stream",
     "text": [
      "{'C': 50.0, 'class_weight': 'balanced'}\n",
      "Best score: 96.0\n"
     ]
    }
   ],
   "source": [
    "print(grid_search4.best_params_)\n",
    "best=list(grid_search4.best_params_.values())[0]\n",
    "print(\"Best score:\", grid_search4.best_score_.round(2)*100)"
   ]
  },
  {
   "cell_type": "code",
   "execution_count": 58,
   "metadata": {},
   "outputs": [
    {
     "data": {
      "text/plain": [
       "LogisticRegression(C=50.0, class_weight='balanced', dual=False,\n",
       "          fit_intercept=True, intercept_scaling=1, max_iter=100,\n",
       "          multi_class='ovr', n_jobs=1, penalty='l2', random_state=42,\n",
       "          solver='liblinear', tol=0.0001, verbose=0, warm_start=False)"
      ]
     },
     "execution_count": 58,
     "metadata": {},
     "output_type": "execute_result"
    }
   ],
   "source": [
    "logit2=LogisticRegression(C=best,random_state=42,class_weight=\"balanced\")\n",
    "logit2.fit(x2_train,y2_train)"
   ]
  },
  {
   "cell_type": "code",
   "execution_count": 76,
   "metadata": {},
   "outputs": [
    {
     "name": "stdout",
     "output_type": "stream",
     "text": [
      "Accuracy Test: 84.0\n",
      "Recall Test: 84.0\n",
      "ROC_AUC Test: 84.0\n",
      "Classification report Test:              precision    recall  f1-score   support\n",
      "\n",
      "          0       0.84      0.83      0.83      1941\n",
      "          1       0.84      0.84      0.84      1995\n",
      "\n",
      "avg / total       0.84      0.84      0.84      3936\n",
      "\n",
      "Accuracy Train: 84.0\n",
      "Recall Train: 84.0\n",
      "ROC_AUC Train: 84.0\n",
      "classification_report Train:              precision    recall  f1-score   support\n",
      "\n",
      "          0       0.84      0.83      0.84      5972\n",
      "          1       0.83      0.84      0.84      5833\n",
      "\n",
      "avg / total       0.84      0.84      0.84     11805\n",
      "\n"
     ]
    }
   ],
   "source": [
    "print(\"Accuracy Test:\",logit2.score(x2_test,y2_test).round(2)*100)\n",
    "ypred4=logit2.predict(x2_test)\n",
    "print(\"Recall Test:\",recall_score(y2_test,ypred4).round(2)*100)\n",
    "roc_auc4=roc_auc_score(y2_test,ypred4).round(2)*100\n",
    "print(\"ROC_AUC Test:\",roc_auc4)\n",
    "print(\"Classification report Test:\",classification_report(y2_test,ypred4))\n",
    "ypred_tr4=logit2.predict(x2_train)\n",
    "recall_l4=recall_score(y2_train,ypred_tr4)\n",
    "print(\"Accuracy Train:\",logit2.score(x2_train,y2_train).round(2)*100)\n",
    "print(\"Recall Train:\",recall_l4.round(2)*100)\n",
    "roc_auc_tr4=roc_auc_score(y2_train,ypred_tr4).round(2)*100\n",
    "print(\"ROC_AUC Train:\",roc_auc_tr4)\n",
    "print(\"classification_report Train:\",classification_report(y2_train,ypred_tr4))"
   ]
  },
  {
   "cell_type": "markdown",
   "metadata": {},
   "source": [
    "# Logistic regression with Scaled data"
   ]
  },
  {
   "cell_type": "code",
   "execution_count": 60,
   "metadata": {},
   "outputs": [],
   "source": [
    "X_scaled=scale(X3)\n",
    "x3_train, x3_test, y3_train, y3_test = train_test_split(X_scaled,Y3,test_size=0.25,random_state=42)"
   ]
  },
  {
   "cell_type": "code",
   "execution_count": 61,
   "metadata": {
    "scrolled": true
   },
   "outputs": [
    {
     "name": "stderr",
     "output_type": "stream",
     "text": [
      "/anaconda3/lib/python3.6/site-packages/sklearn/utils/validation.py:578: DataConversionWarning: A column-vector y was passed when a 1d array was expected. Please change the shape of y to (n_samples, ), for example using ravel().\n",
      "  y = column_or_1d(y, warn=True)\n",
      "/anaconda3/lib/python3.6/site-packages/sklearn/utils/validation.py:578: DataConversionWarning: A column-vector y was passed when a 1d array was expected. Please change the shape of y to (n_samples, ), for example using ravel().\n",
      "  y = column_or_1d(y, warn=True)\n",
      "/anaconda3/lib/python3.6/site-packages/sklearn/utils/validation.py:578: DataConversionWarning: A column-vector y was passed when a 1d array was expected. Please change the shape of y to (n_samples, ), for example using ravel().\n",
      "  y = column_or_1d(y, warn=True)\n",
      "/anaconda3/lib/python3.6/site-packages/sklearn/utils/validation.py:578: DataConversionWarning: A column-vector y was passed when a 1d array was expected. Please change the shape of y to (n_samples, ), for example using ravel().\n",
      "  y = column_or_1d(y, warn=True)\n",
      "/anaconda3/lib/python3.6/site-packages/sklearn/utils/validation.py:578: DataConversionWarning: A column-vector y was passed when a 1d array was expected. Please change the shape of y to (n_samples, ), for example using ravel().\n",
      "  y = column_or_1d(y, warn=True)\n",
      "/anaconda3/lib/python3.6/site-packages/sklearn/utils/validation.py:578: DataConversionWarning: A column-vector y was passed when a 1d array was expected. Please change the shape of y to (n_samples, ), for example using ravel().\n",
      "  y = column_or_1d(y, warn=True)\n",
      "/anaconda3/lib/python3.6/site-packages/sklearn/utils/validation.py:578: DataConversionWarning: A column-vector y was passed when a 1d array was expected. Please change the shape of y to (n_samples, ), for example using ravel().\n",
      "  y = column_or_1d(y, warn=True)\n",
      "/anaconda3/lib/python3.6/site-packages/sklearn/utils/validation.py:578: DataConversionWarning: A column-vector y was passed when a 1d array was expected. Please change the shape of y to (n_samples, ), for example using ravel().\n",
      "  y = column_or_1d(y, warn=True)\n",
      "/anaconda3/lib/python3.6/site-packages/sklearn/utils/validation.py:578: DataConversionWarning: A column-vector y was passed when a 1d array was expected. Please change the shape of y to (n_samples, ), for example using ravel().\n",
      "  y = column_or_1d(y, warn=True)\n",
      "/anaconda3/lib/python3.6/site-packages/sklearn/utils/validation.py:578: DataConversionWarning: A column-vector y was passed when a 1d array was expected. Please change the shape of y to (n_samples, ), for example using ravel().\n",
      "  y = column_or_1d(y, warn=True)\n",
      "/anaconda3/lib/python3.6/site-packages/sklearn/utils/validation.py:578: DataConversionWarning: A column-vector y was passed when a 1d array was expected. Please change the shape of y to (n_samples, ), for example using ravel().\n",
      "  y = column_or_1d(y, warn=True)\n",
      "/anaconda3/lib/python3.6/site-packages/sklearn/utils/validation.py:578: DataConversionWarning: A column-vector y was passed when a 1d array was expected. Please change the shape of y to (n_samples, ), for example using ravel().\n",
      "  y = column_or_1d(y, warn=True)\n",
      "/anaconda3/lib/python3.6/site-packages/sklearn/utils/validation.py:578: DataConversionWarning: A column-vector y was passed when a 1d array was expected. Please change the shape of y to (n_samples, ), for example using ravel().\n",
      "  y = column_or_1d(y, warn=True)\n",
      "/anaconda3/lib/python3.6/site-packages/sklearn/utils/validation.py:578: DataConversionWarning: A column-vector y was passed when a 1d array was expected. Please change the shape of y to (n_samples, ), for example using ravel().\n",
      "  y = column_or_1d(y, warn=True)\n",
      "/anaconda3/lib/python3.6/site-packages/sklearn/utils/validation.py:578: DataConversionWarning: A column-vector y was passed when a 1d array was expected. Please change the shape of y to (n_samples, ), for example using ravel().\n",
      "  y = column_or_1d(y, warn=True)\n",
      "/anaconda3/lib/python3.6/site-packages/sklearn/utils/validation.py:578: DataConversionWarning: A column-vector y was passed when a 1d array was expected. Please change the shape of y to (n_samples, ), for example using ravel().\n",
      "  y = column_or_1d(y, warn=True)\n",
      "/anaconda3/lib/python3.6/site-packages/sklearn/utils/validation.py:578: DataConversionWarning: A column-vector y was passed when a 1d array was expected. Please change the shape of y to (n_samples, ), for example using ravel().\n",
      "  y = column_or_1d(y, warn=True)\n",
      "/anaconda3/lib/python3.6/site-packages/sklearn/utils/validation.py:578: DataConversionWarning: A column-vector y was passed when a 1d array was expected. Please change the shape of y to (n_samples, ), for example using ravel().\n",
      "  y = column_or_1d(y, warn=True)\n",
      "/anaconda3/lib/python3.6/site-packages/sklearn/utils/validation.py:578: DataConversionWarning: A column-vector y was passed when a 1d array was expected. Please change the shape of y to (n_samples, ), for example using ravel().\n",
      "  y = column_or_1d(y, warn=True)\n",
      "/anaconda3/lib/python3.6/site-packages/sklearn/utils/validation.py:578: DataConversionWarning: A column-vector y was passed when a 1d array was expected. Please change the shape of y to (n_samples, ), for example using ravel().\n",
      "  y = column_or_1d(y, warn=True)\n",
      "/anaconda3/lib/python3.6/site-packages/sklearn/utils/validation.py:578: DataConversionWarning: A column-vector y was passed when a 1d array was expected. Please change the shape of y to (n_samples, ), for example using ravel().\n",
      "  y = column_or_1d(y, warn=True)\n",
      "/anaconda3/lib/python3.6/site-packages/sklearn/utils/validation.py:578: DataConversionWarning: A column-vector y was passed when a 1d array was expected. Please change the shape of y to (n_samples, ), for example using ravel().\n",
      "  y = column_or_1d(y, warn=True)\n",
      "/anaconda3/lib/python3.6/site-packages/sklearn/utils/validation.py:578: DataConversionWarning: A column-vector y was passed when a 1d array was expected. Please change the shape of y to (n_samples, ), for example using ravel().\n",
      "  y = column_or_1d(y, warn=True)\n",
      "/anaconda3/lib/python3.6/site-packages/sklearn/utils/validation.py:578: DataConversionWarning: A column-vector y was passed when a 1d array was expected. Please change the shape of y to (n_samples, ), for example using ravel().\n",
      "  y = column_or_1d(y, warn=True)\n",
      "/anaconda3/lib/python3.6/site-packages/sklearn/utils/validation.py:578: DataConversionWarning: A column-vector y was passed when a 1d array was expected. Please change the shape of y to (n_samples, ), for example using ravel().\n",
      "  y = column_or_1d(y, warn=True)\n",
      "/anaconda3/lib/python3.6/site-packages/sklearn/utils/validation.py:578: DataConversionWarning: A column-vector y was passed when a 1d array was expected. Please change the shape of y to (n_samples, ), for example using ravel().\n",
      "  y = column_or_1d(y, warn=True)\n",
      "/anaconda3/lib/python3.6/site-packages/sklearn/utils/validation.py:578: DataConversionWarning: A column-vector y was passed when a 1d array was expected. Please change the shape of y to (n_samples, ), for example using ravel().\n",
      "  y = column_or_1d(y, warn=True)\n",
      "/anaconda3/lib/python3.6/site-packages/sklearn/utils/validation.py:578: DataConversionWarning: A column-vector y was passed when a 1d array was expected. Please change the shape of y to (n_samples, ), for example using ravel().\n",
      "  y = column_or_1d(y, warn=True)\n",
      "/anaconda3/lib/python3.6/site-packages/sklearn/utils/validation.py:578: DataConversionWarning: A column-vector y was passed when a 1d array was expected. Please change the shape of y to (n_samples, ), for example using ravel().\n",
      "  y = column_or_1d(y, warn=True)\n",
      "/anaconda3/lib/python3.6/site-packages/sklearn/utils/validation.py:578: DataConversionWarning: A column-vector y was passed when a 1d array was expected. Please change the shape of y to (n_samples, ), for example using ravel().\n",
      "  y = column_or_1d(y, warn=True)\n",
      "/anaconda3/lib/python3.6/site-packages/sklearn/utils/validation.py:578: DataConversionWarning: A column-vector y was passed when a 1d array was expected. Please change the shape of y to (n_samples, ), for example using ravel().\n",
      "  y = column_or_1d(y, warn=True)\n",
      "/anaconda3/lib/python3.6/site-packages/sklearn/utils/validation.py:578: DataConversionWarning: A column-vector y was passed when a 1d array was expected. Please change the shape of y to (n_samples, ), for example using ravel().\n",
      "  y = column_or_1d(y, warn=True)\n"
     ]
    },
    {
     "name": "stderr",
     "output_type": "stream",
     "text": [
      "/anaconda3/lib/python3.6/site-packages/sklearn/utils/validation.py:578: DataConversionWarning: A column-vector y was passed when a 1d array was expected. Please change the shape of y to (n_samples, ), for example using ravel().\n",
      "  y = column_or_1d(y, warn=True)\n",
      "/anaconda3/lib/python3.6/site-packages/sklearn/utils/validation.py:578: DataConversionWarning: A column-vector y was passed when a 1d array was expected. Please change the shape of y to (n_samples, ), for example using ravel().\n",
      "  y = column_or_1d(y, warn=True)\n",
      "/anaconda3/lib/python3.6/site-packages/sklearn/utils/validation.py:578: DataConversionWarning: A column-vector y was passed when a 1d array was expected. Please change the shape of y to (n_samples, ), for example using ravel().\n",
      "  y = column_or_1d(y, warn=True)\n",
      "/anaconda3/lib/python3.6/site-packages/sklearn/utils/validation.py:578: DataConversionWarning: A column-vector y was passed when a 1d array was expected. Please change the shape of y to (n_samples, ), for example using ravel().\n",
      "  y = column_or_1d(y, warn=True)\n",
      "/anaconda3/lib/python3.6/site-packages/sklearn/utils/validation.py:578: DataConversionWarning: A column-vector y was passed when a 1d array was expected. Please change the shape of y to (n_samples, ), for example using ravel().\n",
      "  y = column_or_1d(y, warn=True)\n",
      "/anaconda3/lib/python3.6/site-packages/sklearn/utils/validation.py:578: DataConversionWarning: A column-vector y was passed when a 1d array was expected. Please change the shape of y to (n_samples, ), for example using ravel().\n",
      "  y = column_or_1d(y, warn=True)\n",
      "/anaconda3/lib/python3.6/site-packages/sklearn/utils/validation.py:578: DataConversionWarning: A column-vector y was passed when a 1d array was expected. Please change the shape of y to (n_samples, ), for example using ravel().\n",
      "  y = column_or_1d(y, warn=True)\n",
      "/anaconda3/lib/python3.6/site-packages/sklearn/utils/validation.py:578: DataConversionWarning: A column-vector y was passed when a 1d array was expected. Please change the shape of y to (n_samples, ), for example using ravel().\n",
      "  y = column_or_1d(y, warn=True)\n",
      "/anaconda3/lib/python3.6/site-packages/sklearn/utils/validation.py:578: DataConversionWarning: A column-vector y was passed when a 1d array was expected. Please change the shape of y to (n_samples, ), for example using ravel().\n",
      "  y = column_or_1d(y, warn=True)\n",
      "/anaconda3/lib/python3.6/site-packages/sklearn/utils/validation.py:578: DataConversionWarning: A column-vector y was passed when a 1d array was expected. Please change the shape of y to (n_samples, ), for example using ravel().\n",
      "  y = column_or_1d(y, warn=True)\n",
      "/anaconda3/lib/python3.6/site-packages/sklearn/utils/validation.py:578: DataConversionWarning: A column-vector y was passed when a 1d array was expected. Please change the shape of y to (n_samples, ), for example using ravel().\n",
      "  y = column_or_1d(y, warn=True)\n",
      "/anaconda3/lib/python3.6/site-packages/sklearn/utils/validation.py:578: DataConversionWarning: A column-vector y was passed when a 1d array was expected. Please change the shape of y to (n_samples, ), for example using ravel().\n",
      "  y = column_or_1d(y, warn=True)\n",
      "/anaconda3/lib/python3.6/site-packages/sklearn/utils/validation.py:578: DataConversionWarning: A column-vector y was passed when a 1d array was expected. Please change the shape of y to (n_samples, ), for example using ravel().\n",
      "  y = column_or_1d(y, warn=True)\n",
      "/anaconda3/lib/python3.6/site-packages/sklearn/utils/validation.py:578: DataConversionWarning: A column-vector y was passed when a 1d array was expected. Please change the shape of y to (n_samples, ), for example using ravel().\n",
      "  y = column_or_1d(y, warn=True)\n",
      "/anaconda3/lib/python3.6/site-packages/sklearn/utils/validation.py:578: DataConversionWarning: A column-vector y was passed when a 1d array was expected. Please change the shape of y to (n_samples, ), for example using ravel().\n",
      "  y = column_or_1d(y, warn=True)\n",
      "/anaconda3/lib/python3.6/site-packages/sklearn/utils/validation.py:578: DataConversionWarning: A column-vector y was passed when a 1d array was expected. Please change the shape of y to (n_samples, ), for example using ravel().\n",
      "  y = column_or_1d(y, warn=True)\n",
      "/anaconda3/lib/python3.6/site-packages/sklearn/utils/validation.py:578: DataConversionWarning: A column-vector y was passed when a 1d array was expected. Please change the shape of y to (n_samples, ), for example using ravel().\n",
      "  y = column_or_1d(y, warn=True)\n",
      "/anaconda3/lib/python3.6/site-packages/sklearn/utils/validation.py:578: DataConversionWarning: A column-vector y was passed when a 1d array was expected. Please change the shape of y to (n_samples, ), for example using ravel().\n",
      "  y = column_or_1d(y, warn=True)\n",
      "/anaconda3/lib/python3.6/site-packages/sklearn/utils/validation.py:578: DataConversionWarning: A column-vector y was passed when a 1d array was expected. Please change the shape of y to (n_samples, ), for example using ravel().\n",
      "  y = column_or_1d(y, warn=True)\n",
      "/anaconda3/lib/python3.6/site-packages/sklearn/utils/validation.py:578: DataConversionWarning: A column-vector y was passed when a 1d array was expected. Please change the shape of y to (n_samples, ), for example using ravel().\n",
      "  y = column_or_1d(y, warn=True)\n",
      "/anaconda3/lib/python3.6/site-packages/sklearn/utils/validation.py:578: DataConversionWarning: A column-vector y was passed when a 1d array was expected. Please change the shape of y to (n_samples, ), for example using ravel().\n",
      "  y = column_or_1d(y, warn=True)\n",
      "/anaconda3/lib/python3.6/site-packages/sklearn/utils/validation.py:578: DataConversionWarning: A column-vector y was passed when a 1d array was expected. Please change the shape of y to (n_samples, ), for example using ravel().\n",
      "  y = column_or_1d(y, warn=True)\n",
      "/anaconda3/lib/python3.6/site-packages/sklearn/utils/validation.py:578: DataConversionWarning: A column-vector y was passed when a 1d array was expected. Please change the shape of y to (n_samples, ), for example using ravel().\n",
      "  y = column_or_1d(y, warn=True)\n",
      "/anaconda3/lib/python3.6/site-packages/sklearn/utils/validation.py:578: DataConversionWarning: A column-vector y was passed when a 1d array was expected. Please change the shape of y to (n_samples, ), for example using ravel().\n",
      "  y = column_or_1d(y, warn=True)\n",
      "/anaconda3/lib/python3.6/site-packages/sklearn/utils/validation.py:578: DataConversionWarning: A column-vector y was passed when a 1d array was expected. Please change the shape of y to (n_samples, ), for example using ravel().\n",
      "  y = column_or_1d(y, warn=True)\n",
      "/anaconda3/lib/python3.6/site-packages/sklearn/utils/validation.py:578: DataConversionWarning: A column-vector y was passed when a 1d array was expected. Please change the shape of y to (n_samples, ), for example using ravel().\n",
      "  y = column_or_1d(y, warn=True)\n",
      "/anaconda3/lib/python3.6/site-packages/sklearn/utils/validation.py:578: DataConversionWarning: A column-vector y was passed when a 1d array was expected. Please change the shape of y to (n_samples, ), for example using ravel().\n",
      "  y = column_or_1d(y, warn=True)\n",
      "/anaconda3/lib/python3.6/site-packages/sklearn/utils/validation.py:578: DataConversionWarning: A column-vector y was passed when a 1d array was expected. Please change the shape of y to (n_samples, ), for example using ravel().\n",
      "  y = column_or_1d(y, warn=True)\n",
      "/anaconda3/lib/python3.6/site-packages/sklearn/utils/validation.py:578: DataConversionWarning: A column-vector y was passed when a 1d array was expected. Please change the shape of y to (n_samples, ), for example using ravel().\n",
      "  y = column_or_1d(y, warn=True)\n",
      "/anaconda3/lib/python3.6/site-packages/sklearn/utils/validation.py:578: DataConversionWarning: A column-vector y was passed when a 1d array was expected. Please change the shape of y to (n_samples, ), for example using ravel().\n",
      "  y = column_or_1d(y, warn=True)\n",
      "/anaconda3/lib/python3.6/site-packages/sklearn/utils/validation.py:578: DataConversionWarning: A column-vector y was passed when a 1d array was expected. Please change the shape of y to (n_samples, ), for example using ravel().\n",
      "  y = column_or_1d(y, warn=True)\n",
      "/anaconda3/lib/python3.6/site-packages/sklearn/utils/validation.py:578: DataConversionWarning: A column-vector y was passed when a 1d array was expected. Please change the shape of y to (n_samples, ), for example using ravel().\n",
      "  y = column_or_1d(y, warn=True)\n"
     ]
    },
    {
     "name": "stderr",
     "output_type": "stream",
     "text": [
      "/anaconda3/lib/python3.6/site-packages/sklearn/utils/validation.py:578: DataConversionWarning: A column-vector y was passed when a 1d array was expected. Please change the shape of y to (n_samples, ), for example using ravel().\n",
      "  y = column_or_1d(y, warn=True)\n",
      "/anaconda3/lib/python3.6/site-packages/sklearn/utils/validation.py:578: DataConversionWarning: A column-vector y was passed when a 1d array was expected. Please change the shape of y to (n_samples, ), for example using ravel().\n",
      "  y = column_or_1d(y, warn=True)\n",
      "/anaconda3/lib/python3.6/site-packages/sklearn/utils/validation.py:578: DataConversionWarning: A column-vector y was passed when a 1d array was expected. Please change the shape of y to (n_samples, ), for example using ravel().\n",
      "  y = column_or_1d(y, warn=True)\n",
      "/anaconda3/lib/python3.6/site-packages/sklearn/utils/validation.py:578: DataConversionWarning: A column-vector y was passed when a 1d array was expected. Please change the shape of y to (n_samples, ), for example using ravel().\n",
      "  y = column_or_1d(y, warn=True)\n",
      "/anaconda3/lib/python3.6/site-packages/sklearn/utils/validation.py:578: DataConversionWarning: A column-vector y was passed when a 1d array was expected. Please change the shape of y to (n_samples, ), for example using ravel().\n",
      "  y = column_or_1d(y, warn=True)\n",
      "/anaconda3/lib/python3.6/site-packages/sklearn/utils/validation.py:578: DataConversionWarning: A column-vector y was passed when a 1d array was expected. Please change the shape of y to (n_samples, ), for example using ravel().\n",
      "  y = column_or_1d(y, warn=True)\n",
      "/anaconda3/lib/python3.6/site-packages/sklearn/utils/validation.py:578: DataConversionWarning: A column-vector y was passed when a 1d array was expected. Please change the shape of y to (n_samples, ), for example using ravel().\n",
      "  y = column_or_1d(y, warn=True)\n",
      "/anaconda3/lib/python3.6/site-packages/sklearn/utils/validation.py:578: DataConversionWarning: A column-vector y was passed when a 1d array was expected. Please change the shape of y to (n_samples, ), for example using ravel().\n",
      "  y = column_or_1d(y, warn=True)\n",
      "/anaconda3/lib/python3.6/site-packages/sklearn/utils/validation.py:578: DataConversionWarning: A column-vector y was passed when a 1d array was expected. Please change the shape of y to (n_samples, ), for example using ravel().\n",
      "  y = column_or_1d(y, warn=True)\n",
      "/anaconda3/lib/python3.6/site-packages/sklearn/utils/validation.py:578: DataConversionWarning: A column-vector y was passed when a 1d array was expected. Please change the shape of y to (n_samples, ), for example using ravel().\n",
      "  y = column_or_1d(y, warn=True)\n",
      "/anaconda3/lib/python3.6/site-packages/sklearn/utils/validation.py:578: DataConversionWarning: A column-vector y was passed when a 1d array was expected. Please change the shape of y to (n_samples, ), for example using ravel().\n",
      "  y = column_or_1d(y, warn=True)\n",
      "/anaconda3/lib/python3.6/site-packages/sklearn/utils/validation.py:578: DataConversionWarning: A column-vector y was passed when a 1d array was expected. Please change the shape of y to (n_samples, ), for example using ravel().\n",
      "  y = column_or_1d(y, warn=True)\n",
      "/anaconda3/lib/python3.6/site-packages/sklearn/utils/validation.py:578: DataConversionWarning: A column-vector y was passed when a 1d array was expected. Please change the shape of y to (n_samples, ), for example using ravel().\n",
      "  y = column_or_1d(y, warn=True)\n",
      "/anaconda3/lib/python3.6/site-packages/sklearn/utils/validation.py:578: DataConversionWarning: A column-vector y was passed when a 1d array was expected. Please change the shape of y to (n_samples, ), for example using ravel().\n",
      "  y = column_or_1d(y, warn=True)\n",
      "/anaconda3/lib/python3.6/site-packages/sklearn/utils/validation.py:578: DataConversionWarning: A column-vector y was passed when a 1d array was expected. Please change the shape of y to (n_samples, ), for example using ravel().\n",
      "  y = column_or_1d(y, warn=True)\n",
      "/anaconda3/lib/python3.6/site-packages/sklearn/utils/validation.py:578: DataConversionWarning: A column-vector y was passed when a 1d array was expected. Please change the shape of y to (n_samples, ), for example using ravel().\n",
      "  y = column_or_1d(y, warn=True)\n",
      "/anaconda3/lib/python3.6/site-packages/sklearn/utils/validation.py:578: DataConversionWarning: A column-vector y was passed when a 1d array was expected. Please change the shape of y to (n_samples, ), for example using ravel().\n",
      "  y = column_or_1d(y, warn=True)\n",
      "/anaconda3/lib/python3.6/site-packages/sklearn/utils/validation.py:578: DataConversionWarning: A column-vector y was passed when a 1d array was expected. Please change the shape of y to (n_samples, ), for example using ravel().\n",
      "  y = column_or_1d(y, warn=True)\n",
      "/anaconda3/lib/python3.6/site-packages/sklearn/utils/validation.py:578: DataConversionWarning: A column-vector y was passed when a 1d array was expected. Please change the shape of y to (n_samples, ), for example using ravel().\n",
      "  y = column_or_1d(y, warn=True)\n",
      "/anaconda3/lib/python3.6/site-packages/sklearn/utils/validation.py:578: DataConversionWarning: A column-vector y was passed when a 1d array was expected. Please change the shape of y to (n_samples, ), for example using ravel().\n",
      "  y = column_or_1d(y, warn=True)\n",
      "/anaconda3/lib/python3.6/site-packages/sklearn/utils/validation.py:578: DataConversionWarning: A column-vector y was passed when a 1d array was expected. Please change the shape of y to (n_samples, ), for example using ravel().\n",
      "  y = column_or_1d(y, warn=True)\n",
      "/anaconda3/lib/python3.6/site-packages/sklearn/utils/validation.py:578: DataConversionWarning: A column-vector y was passed when a 1d array was expected. Please change the shape of y to (n_samples, ), for example using ravel().\n",
      "  y = column_or_1d(y, warn=True)\n",
      "/anaconda3/lib/python3.6/site-packages/sklearn/utils/validation.py:578: DataConversionWarning: A column-vector y was passed when a 1d array was expected. Please change the shape of y to (n_samples, ), for example using ravel().\n",
      "  y = column_or_1d(y, warn=True)\n",
      "/anaconda3/lib/python3.6/site-packages/sklearn/utils/validation.py:578: DataConversionWarning: A column-vector y was passed when a 1d array was expected. Please change the shape of y to (n_samples, ), for example using ravel().\n",
      "  y = column_or_1d(y, warn=True)\n",
      "/anaconda3/lib/python3.6/site-packages/sklearn/utils/validation.py:578: DataConversionWarning: A column-vector y was passed when a 1d array was expected. Please change the shape of y to (n_samples, ), for example using ravel().\n",
      "  y = column_or_1d(y, warn=True)\n",
      "/anaconda3/lib/python3.6/site-packages/sklearn/utils/validation.py:578: DataConversionWarning: A column-vector y was passed when a 1d array was expected. Please change the shape of y to (n_samples, ), for example using ravel().\n",
      "  y = column_or_1d(y, warn=True)\n",
      "/anaconda3/lib/python3.6/site-packages/sklearn/utils/validation.py:578: DataConversionWarning: A column-vector y was passed when a 1d array was expected. Please change the shape of y to (n_samples, ), for example using ravel().\n",
      "  y = column_or_1d(y, warn=True)\n",
      "/anaconda3/lib/python3.6/site-packages/sklearn/utils/validation.py:578: DataConversionWarning: A column-vector y was passed when a 1d array was expected. Please change the shape of y to (n_samples, ), for example using ravel().\n",
      "  y = column_or_1d(y, warn=True)\n",
      "/anaconda3/lib/python3.6/site-packages/sklearn/utils/validation.py:578: DataConversionWarning: A column-vector y was passed when a 1d array was expected. Please change the shape of y to (n_samples, ), for example using ravel().\n",
      "  y = column_or_1d(y, warn=True)\n",
      "/anaconda3/lib/python3.6/site-packages/sklearn/utils/validation.py:578: DataConversionWarning: A column-vector y was passed when a 1d array was expected. Please change the shape of y to (n_samples, ), for example using ravel().\n",
      "  y = column_or_1d(y, warn=True)\n",
      "/anaconda3/lib/python3.6/site-packages/sklearn/utils/validation.py:578: DataConversionWarning: A column-vector y was passed when a 1d array was expected. Please change the shape of y to (n_samples, ), for example using ravel().\n",
      "  y = column_or_1d(y, warn=True)\n",
      "/anaconda3/lib/python3.6/site-packages/sklearn/utils/validation.py:578: DataConversionWarning: A column-vector y was passed when a 1d array was expected. Please change the shape of y to (n_samples, ), for example using ravel().\n",
      "  y = column_or_1d(y, warn=True)\n"
     ]
    },
    {
     "name": "stderr",
     "output_type": "stream",
     "text": [
      "/anaconda3/lib/python3.6/site-packages/sklearn/utils/validation.py:578: DataConversionWarning: A column-vector y was passed when a 1d array was expected. Please change the shape of y to (n_samples, ), for example using ravel().\n",
      "  y = column_or_1d(y, warn=True)\n",
      "/anaconda3/lib/python3.6/site-packages/sklearn/utils/validation.py:578: DataConversionWarning: A column-vector y was passed when a 1d array was expected. Please change the shape of y to (n_samples, ), for example using ravel().\n",
      "  y = column_or_1d(y, warn=True)\n",
      "/anaconda3/lib/python3.6/site-packages/sklearn/utils/validation.py:578: DataConversionWarning: A column-vector y was passed when a 1d array was expected. Please change the shape of y to (n_samples, ), for example using ravel().\n",
      "  y = column_or_1d(y, warn=True)\n",
      "/anaconda3/lib/python3.6/site-packages/sklearn/utils/validation.py:578: DataConversionWarning: A column-vector y was passed when a 1d array was expected. Please change the shape of y to (n_samples, ), for example using ravel().\n",
      "  y = column_or_1d(y, warn=True)\n",
      "/anaconda3/lib/python3.6/site-packages/sklearn/utils/validation.py:578: DataConversionWarning: A column-vector y was passed when a 1d array was expected. Please change the shape of y to (n_samples, ), for example using ravel().\n",
      "  y = column_or_1d(y, warn=True)\n"
     ]
    },
    {
     "data": {
      "text/plain": [
       "GridSearchCV(cv=5, error_score='raise',\n",
       "       estimator=LogisticRegression(C=1.0, class_weight=None, dual=False, fit_intercept=True,\n",
       "          intercept_scaling=1, max_iter=100, multi_class='ovr', n_jobs=1,\n",
       "          penalty='l2', random_state=42, solver='liblinear', tol=0.0001,\n",
       "          verbose=0, warm_start=False),\n",
       "       fit_params=None, iid=True, n_jobs=-1,\n",
       "       param_grid={'C': array([1.00000e-04, 5.55564e+00, 1.11112e+01, 1.66667e+01, 2.22223e+01,\n",
       "       2.77778e+01, 3.33334e+01, 3.88889e+01, 4.44445e+01, 5.00000e+01]), 'class_weight': [None, 'balanced']},\n",
       "       pre_dispatch='2*n_jobs', refit=True, return_train_score='warn',\n",
       "       scoring='roc_auc', verbose=0)"
      ]
     },
     "execution_count": 61,
     "metadata": {},
     "output_type": "execute_result"
    }
   ],
   "source": [
    "grid_search5=GridSearchCV(LogisticRegression(random_state=42),\n",
    "                         param_grid={\"C\":np.linspace(0.0001,50,10),\"class_weight\":[None,\"balanced\"]},\n",
    "                         scoring=\"roc_auc\",cv=5,n_jobs=-1)\n",
    "grid_search5.fit(X_scaled,Y3)"
   ]
  },
  {
   "cell_type": "code",
   "execution_count": 62,
   "metadata": {},
   "outputs": [
    {
     "name": "stdout",
     "output_type": "stream",
     "text": [
      "{'C': 11.111188888888888, 'class_weight': None}\n",
      "Best score: 96.0\n"
     ]
    }
   ],
   "source": [
    "print(grid_search5.best_params_)\n",
    "best=list(grid_search5.best_params_.values())[0]\n",
    "print(\"Best score:\", grid_search5.best_score_.round(2)*100)"
   ]
  },
  {
   "cell_type": "code",
   "execution_count": 63,
   "metadata": {},
   "outputs": [
    {
     "name": "stderr",
     "output_type": "stream",
     "text": [
      "/anaconda3/lib/python3.6/site-packages/sklearn/utils/validation.py:578: DataConversionWarning: A column-vector y was passed when a 1d array was expected. Please change the shape of y to (n_samples, ), for example using ravel().\n",
      "  y = column_or_1d(y, warn=True)\n"
     ]
    },
    {
     "data": {
      "text/plain": [
       "LogisticRegression(C=11.111188888888888, class_weight='balanced', dual=False,\n",
       "          fit_intercept=True, intercept_scaling=1, max_iter=100,\n",
       "          multi_class='ovr', n_jobs=1, penalty='l2', random_state=42,\n",
       "          solver='liblinear', tol=0.0001, verbose=0, warm_start=False)"
      ]
     },
     "execution_count": 63,
     "metadata": {},
     "output_type": "execute_result"
    }
   ],
   "source": [
    "logit3=LogisticRegression(C=best,random_state=42,class_weight=\"balanced\")\n",
    "logit3.fit(x3_train,y3_train)"
   ]
  },
  {
   "cell_type": "code",
   "execution_count": 75,
   "metadata": {},
   "outputs": [
    {
     "name": "stdout",
     "output_type": "stream",
     "text": [
      "Accuracy Test: 84.0\n",
      "Recall Test: 84.0\n",
      "ROC_AUC Test: 84.0\n",
      "Classification report Test:              precision    recall  f1-score   support\n",
      "\n",
      "          0       0.84      0.83      0.83      1941\n",
      "          1       0.84      0.84      0.84      1995\n",
      "\n",
      "avg / total       0.84      0.84      0.84      3936\n",
      "\n",
      "Accuracy Train: 84.0\n",
      "Recall Train: 84.0\n",
      "ROC_AUC Train: 84.0\n",
      "classification_report Train:              precision    recall  f1-score   support\n",
      "\n",
      "          0       0.84      0.83      0.84      5972\n",
      "          1       0.83      0.84      0.84      5833\n",
      "\n",
      "avg / total       0.84      0.84      0.84     11805\n",
      "\n"
     ]
    }
   ],
   "source": [
    "print(\"Accuracy Test:\",logit3.score(x3_test,y3_test).round(2)*100)\n",
    "ypred7=logit3.predict(x3_test)\n",
    "print(\"Recall Test:\",recall_score(y3_test,ypred7).round(2)*100)\n",
    "roc_auc5=roc_auc_score(y3_test,ypred7).round(2)*100\n",
    "print(\"ROC_AUC Test:\",roc_auc5)\n",
    "print(\"Classification report Test:\",classification_report(y3_test,ypred7))\n",
    "ypred_tr7=logit3.predict(x3_train)\n",
    "recall_l7=recall_score(y3_train,ypred_tr7)\n",
    "print(\"Accuracy Train:\",logit3.score(x3_train,y3_train).round(2)*100)\n",
    "print(\"Recall Train:\",recall_l7.round(2)*100)\n",
    "roc_auc_tr7=roc_auc_score(y3_train,ypred_tr7).round(2)*100\n",
    "print(\"ROC_AUC Train:\",roc_auc_tr7)\n",
    "print(\"classification_report Train:\",classification_report(y3_train,ypred_tr7))"
   ]
  },
  {
   "cell_type": "markdown",
   "metadata": {},
   "source": [
    "# Gradient Boosting"
   ]
  },
  {
   "cell_type": "markdown",
   "metadata": {},
   "source": [
    "GB=GradientBoostingClassifier(random_state=42)\n",
    "GB.fit(x2_train,y2_train)"
   ]
  },
  {
   "cell_type": "code",
   "execution_count": 74,
   "metadata": {},
   "outputs": [
    {
     "name": "stdout",
     "output_type": "stream",
     "text": [
      "Accuracy Test: 91.0\n",
      "Recall Test: 91.0\n",
      "ROC_AUC Test: 91.0\n",
      "Classification report Test:              precision    recall  f1-score   support\n",
      "\n",
      "          0       0.91      0.92      0.91      1941\n",
      "          1       0.92      0.91      0.91      1995\n",
      "\n",
      "avg / total       0.91      0.91      0.91      3936\n",
      "\n",
      "Accuracy Train: 92.0\n",
      "Recall Train: 92.0\n",
      "ROC_AUC Train: 92.0\n",
      "classification_report Train:              precision    recall  f1-score   support\n",
      "\n",
      "          0       0.92      0.93      0.92      5972\n",
      "          1       0.92      0.92      0.92      5833\n",
      "\n",
      "avg / total       0.92      0.92      0.92     11805\n",
      "\n"
     ]
    }
   ],
   "source": [
    "ypred5=GB.predict(x2_test)\n",
    "recall_GB=recall_score(y2_test,ypred5)\n",
    "print(\"Accuracy Test:\",GB.score(x2_test,y2_test).round(2)*100)\n",
    "print(\"Recall Test:\",recall_GB.round(2)*100)\n",
    "roc_auc5=roc_auc_score(y2_test,ypred5).round(2)*100\n",
    "print(\"ROC_AUC Test:\",roc_auc5)\n",
    "print(\"Classification report Test:\",classification_report(y2_test,ypred5))\n",
    "ypred_tr5=GB.predict(x2_train)\n",
    "recall_tGB=recall_score(y2_train,ypred_tr5)\n",
    "print(\"Accuracy Train:\",GB.score(x2_train,y2_train).round(2)*100)\n",
    "print(\"Recall Train:\",recall_tGB.round(2)*100)\n",
    "roc_auc_tr5=roc_auc_score(y2_train,ypred_tr5).round(2)*100\n",
    "print(\"ROC_AUC Train:\",roc_auc_tr5)\n",
    "print(\"classification_report Train:\",classification_report(y2_train,ypred_tr5))"
   ]
  },
  {
   "cell_type": "code",
   "execution_count": null,
   "metadata": {},
   "outputs": [],
   "source": []
  }
 ],
 "metadata": {
  "kernelspec": {
   "display_name": "Python 3",
   "language": "python",
   "name": "python3"
  },
  "language_info": {
   "codemirror_mode": {
    "name": "ipython",
    "version": 3
   },
   "file_extension": ".py",
   "mimetype": "text/x-python",
   "name": "python",
   "nbconvert_exporter": "python",
   "pygments_lexer": "ipython3",
   "version": "3.6.5"
  }
 },
 "nbformat": 4,
 "nbformat_minor": 2
}
