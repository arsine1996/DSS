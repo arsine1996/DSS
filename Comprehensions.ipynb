{
 "cells": [
  {
   "cell_type": "markdown",
   "metadata": {
    "colab_type": "text",
    "id": "BLaaPI7DvtWJ"
   },
   "source": [
    "# List comprehensions & Sets"
   ]
  },
  {
   "cell_type": "markdown",
   "metadata": {
    "colab_type": "text",
    "id": "ysI7jQpHhjn9"
   },
   "source": [
    "## Sets\n",
    "\n",
    "Sets are collections of unique elements in a list. Sets in Python behave in the same way as Sets in mathematics: one can calculate intersection, union, difference etc."
   ]
  },
  {
   "cell_type": "code",
   "execution_count": 1,
   "metadata": {
    "colab": {},
    "colab_type": "code",
    "id": "e9G4GBxheVwu",
    "outputId": "fcf762c5-5c5a-4b53-ced2-b22cc37563df"
   },
   "outputs": [
    {
     "name": "stdout",
     "output_type": "stream",
     "text": [
      "{32, 1, 4, 5, 56}\n"
     ]
    }
   ],
   "source": [
    "A = set([1,56,4,32,5,4])\n",
    "print(A)"
   ]
  },
  {
   "cell_type": "code",
   "execution_count": 2,
   "metadata": {
    "colab": {},
    "colab_type": "code",
    "id": "bfIGK9zleVww",
    "outputId": "a9ea240a-1da5-4128-9d1d-01baf32fa816"
   },
   "outputs": [
    {
     "name": "stdout",
     "output_type": "stream",
     "text": [
      "{0, 5, 8, 109, 56}\n"
     ]
    }
   ],
   "source": [
    "B = set([0,56,8,5,109])\n",
    "print(B)"
   ]
  },
  {
   "cell_type": "code",
   "execution_count": 3,
   "metadata": {
    "colab": {},
    "colab_type": "code",
    "id": "_C7BxP3AeVwy",
    "outputId": "6dc75597-42b4-474d-ddfc-73ec1154e8da"
   },
   "outputs": [
    {
     "data": {
      "text/plain": [
       "{0, 1, 4, 5, 8, 32, 56, 109}"
      ]
     },
     "execution_count": 3,
     "metadata": {},
     "output_type": "execute_result"
    }
   ],
   "source": [
    "A.union(B) # union of sets: unique set of all values in both sets"
   ]
  },
  {
   "cell_type": "code",
   "execution_count": 4,
   "metadata": {
    "colab": {},
    "colab_type": "code",
    "id": "thX9GFeSiDcQ"
   },
   "outputs": [
    {
     "data": {
      "text/plain": [
       "{5, 56}"
      ]
     },
     "execution_count": 4,
     "metadata": {},
     "output_type": "execute_result"
    }
   ],
   "source": [
    "A.intersection(B) #intersection of sets: unique values existing in both sets"
   ]
  },
  {
   "cell_type": "code",
   "execution_count": 5,
   "metadata": {
    "colab": {},
    "colab_type": "code",
    "id": "ak1siW6xeVwz",
    "outputId": "8ab53b42-de28-4962-b523-0e08fde4a8ce"
   },
   "outputs": [
    {
     "data": {
      "text/plain": [
       "{1, 4, 32}"
      ]
     },
     "execution_count": 5,
     "metadata": {},
     "output_type": "execute_result"
    }
   ],
   "source": [
    "A.difference(B) # values only in set A and not in B"
   ]
  },
  {
   "cell_type": "code",
   "execution_count": 6,
   "metadata": {
    "colab": {},
    "colab_type": "code",
    "id": "kp1N1s3geVw1",
    "outputId": "374ec49d-602a-4167-addc-9a1eef3d030b"
   },
   "outputs": [
    {
     "data": {
      "text/plain": [
       "{0, 8, 109}"
      ]
     },
     "execution_count": 6,
     "metadata": {},
     "output_type": "execute_result"
    }
   ],
   "source": [
    "B.difference(A) # values only in set B and not in A"
   ]
  },
  {
   "cell_type": "markdown",
   "metadata": {
    "colab_type": "text",
    "id": "1DF8Wpt-hBMX"
   },
   "source": [
    "## Comprehensions (lists and dictionaries)\n",
    "\n",
    "for and while loops are used to automate processes in Python. Yet they may not be user friendly as a result of long code. Additionaly, they can be slow. Whenever one needs to have a for loop which will yield a list/dictionary in the end, list/dictionary comprehensions may be used instead. They are faster and they allow usage of loops and conditionals (if/else) inside just one line of code."
   ]
  },
  {
   "cell_type": "code",
   "execution_count": 7,
   "metadata": {
    "colab": {},
    "colab_type": "code",
    "id": "nle-fwmheVwH",
    "outputId": "19212a15-4869-4a83-fb57-3a155e4a89cf"
   },
   "outputs": [
    {
     "name": "stdout",
     "output_type": "stream",
     "text": [
      "[1, 2, 3, 4, 5, 6, 7, 8, 9, 10]\n"
     ]
    }
   ],
   "source": [
    "#list of integers from 1 to 10 created using for loop\n",
    "int_list = []\n",
    "for i in range(1,11):\n",
    "    int_list.append(i)\n",
    "print(int_list)"
   ]
  },
  {
   "cell_type": "code",
   "execution_count": 8,
   "metadata": {
    "colab": {},
    "colab_type": "code",
    "id": "TKx5nX_feVwK",
    "outputId": "c4789b8b-6244-43f3-8cfd-7f17d763266f"
   },
   "outputs": [
    {
     "data": {
      "text/plain": [
       "[1, 2, 3, 4, 5, 6, 7, 8, 9, 10]"
      ]
     },
     "execution_count": 8,
     "metadata": {},
     "output_type": "execute_result"
    }
   ],
   "source": [
    "#list of integers from 1 to 10 created using list comprehension\n",
    "[i for i in range(1,11)]"
   ]
  },
  {
   "cell_type": "code",
   "execution_count": 9,
   "metadata": {
    "colab": {},
    "colab_type": "code",
    "id": "NX565UF5eVwM",
    "outputId": "a481c909-c14e-4745-b2db-628da47375a5"
   },
   "outputs": [
    {
     "name": "stdout",
     "output_type": "stream",
     "text": [
      "[1, 4, 9, 16, 25, 36, 49, 64, 81, 100]\n"
     ]
    }
   ],
   "source": [
    "#list of squares of integers from 1 to 10 created using for loop\n",
    "sqr_list = []\n",
    "for i in range(1,11):\n",
    "    sqr_list.append(i*i)\n",
    "print(sqr_list)"
   ]
  },
  {
   "cell_type": "code",
   "execution_count": 10,
   "metadata": {
    "colab": {},
    "colab_type": "code",
    "id": "DUKWm4P1eVwN"
   },
   "outputs": [],
   "source": [
    "#list of squares of integers from 1 to 10 created (and saved) using list comprehension\n",
    "my_square_list = [i*i for i in range(3,15)]"
   ]
  },
  {
   "cell_type": "code",
   "execution_count": 11,
   "metadata": {
    "colab": {},
    "colab_type": "code",
    "id": "ey9ptaLieVwQ",
    "outputId": "1f14265f-677b-4599-bdac-223517de9958"
   },
   "outputs": [
    {
     "name": "stdout",
     "output_type": "stream",
     "text": [
      "[1, 9, 25, 49, 81]\n"
     ]
    }
   ],
   "source": [
    "#list of squares of odd integers from 1 to 10 created using for loop\n",
    "odd_sqr_list = []\n",
    "for j in range(1,11):\n",
    "    if j%2!=0:\n",
    "        odd_sqr_list.append(j**2)\n",
    "print(odd_sqr_list)"
   ]
  },
  {
   "cell_type": "code",
   "execution_count": 12,
   "metadata": {
    "colab": {},
    "colab_type": "code",
    "id": "RrbDdFUIeVwS",
    "outputId": "9fa4000f-f816-4ccc-f2f8-242f2aa97f57"
   },
   "outputs": [
    {
     "data": {
      "text/plain": [
       "[9, 25, 49, 81, 121, 169]"
      ]
     },
     "execution_count": 12,
     "metadata": {},
     "output_type": "execute_result"
    }
   ],
   "source": [
    "#list of squares of odd integers from 1 to 10 created using list comprehension\n",
    "[j**2 for j in range(3,15) if j%2!=0]"
   ]
  },
  {
   "cell_type": "code",
   "execution_count": 13,
   "metadata": {
    "colab": {},
    "colab_type": "code",
    "id": "HQHEdpBFeVwU"
   },
   "outputs": [],
   "source": [
    "#a sample string to be used in future\n",
    "#for simplicity assume all names starting with J are males and K - females\n",
    "names = [\"James\",\"Jimmy\",\"Katherine\",\"John\",\"Karen\",\"Kate\",\"Jivan\",'Kim']"
   ]
  },
  {
   "cell_type": "code",
   "execution_count": 14,
   "metadata": {
    "colab": {},
    "colab_type": "code",
    "id": "VlBQqeeDeVwk",
    "outputId": "bd337140-926b-40a4-c440-05e42a972701"
   },
   "outputs": [
    {
     "name": "stdout",
     "output_type": "stream",
     "text": [
      "['JAMES', 'JIMMY', 'KATHERINE', 'JOHN', 'KAREN', 'KATE', 'JIVAN', 'KIM']\n"
     ]
    }
   ],
   "source": [
    "#for loop to create a list of uppercase names\n",
    "names_upper = []\n",
    "for j in names:\n",
    "    names_upper.append(j.upper())\n",
    "print(names_upper)"
   ]
  },
  {
   "cell_type": "code",
   "execution_count": 15,
   "metadata": {
    "colab": {},
    "colab_type": "code",
    "id": "Swl0At3HeVwm",
    "outputId": "2bf40b7d-dd6a-4b04-b670-58518640a37b"
   },
   "outputs": [
    {
     "data": {
      "text/plain": [
       "['JAMES', 'JIMMY', 'KATHERINE', 'JOHN', 'KAREN', 'KATE', 'JIVAN', 'KIM']"
      ]
     },
     "execution_count": 15,
     "metadata": {},
     "output_type": "execute_result"
    }
   ],
   "source": [
    "#list comprehension to create a list of uppercase names\n",
    "[j.upper() for j in names]"
   ]
  },
  {
   "cell_type": "code",
   "execution_count": 16,
   "metadata": {
    "colab": {},
    "colab_type": "code",
    "id": "RPUnZZuEeVwn",
    "outputId": "dbbb8998-df1c-4b09-9984-7bb040df5b30"
   },
   "outputs": [
    {
     "name": "stdout",
     "output_type": "stream",
     "text": [
      "['KATHERINE', 'KAREN', 'KATE', 'KIM']\n"
     ]
    }
   ],
   "source": [
    "#for loop to create a list of uppercase female names\n",
    "woman_names_upper = []\n",
    "for i in names:\n",
    "    if i[0]==\"K\":\n",
    "        woman_names_upper.append(i.upper())\n",
    "print(woman_names_upper)"
   ]
  },
  {
   "cell_type": "code",
   "execution_count": 17,
   "metadata": {
    "colab": {},
    "colab_type": "code",
    "id": "7ybiZ-pseVwo",
    "outputId": "23b1da3f-5aa0-400a-e429-14646819a43d"
   },
   "outputs": [
    {
     "data": {
      "text/plain": [
       "['KATHERINE', 'KAREN', 'KATE', 'KIM']"
      ]
     },
     "execution_count": 17,
     "metadata": {},
     "output_type": "execute_result"
    }
   ],
   "source": [
    "#list comrehension to create a list of uppercase female names\n",
    "[i.upper() for i in names if i[0]==\"K\"]"
   ]
  },
  {
   "cell_type": "code",
   "execution_count": 18,
   "metadata": {
    "colab": {},
    "colab_type": "code",
    "id": "mVRnlsVaeVwq",
    "outputId": "b5ce8e86-2937-44cf-b1b0-ef4fbf157db8"
   },
   "outputs": [
    {
     "data": {
      "text/plain": [
       "{1: 1, 2: 4, 3: 9, 4: 16, 5: 25, 6: 36, 7: 49, 8: 64, 9: 81, 10: 100}"
      ]
     },
     "execution_count": 18,
     "metadata": {},
     "output_type": "execute_result"
    }
   ],
   "source": [
    "#dictionary comrehension for calculating squares of integers between 1 and 10\n",
    "{i:i**2 for i in range(1,11)}"
   ]
  },
  {
   "cell_type": "code",
   "execution_count": 19,
   "metadata": {
    "colab": {},
    "colab_type": "code",
    "id": "YA9FiVe3eVwr",
    "outputId": "4b48e980-fa1c-44ba-d29d-2e23cd0e1bf1"
   },
   "outputs": [
    {
     "data": {
      "text/plain": [
       "{1: 1, 3: 9, 5: 25, 7: 49, 9: 81}"
      ]
     },
     "execution_count": 19,
     "metadata": {},
     "output_type": "execute_result"
    }
   ],
   "source": [
    "#dictionary comrehension for calculating squares of odd integers between 1 and 10\n",
    "{i:i**2 for i in range(1,11) if i%2!=0}"
   ]
  },
  {
   "cell_type": "code",
   "execution_count": 20,
   "metadata": {
    "colab": {},
    "colab_type": "code",
    "id": "aW07CRweeVwt",
    "outputId": "03984048-7993-4576-a4b7-68f21b1033fb"
   },
   "outputs": [
    {
     "data": {
      "text/plain": [
       "{'Katherine': 'KATHERINE', 'Karen': 'KAREN', 'Kate': 'KATE', 'Kim': 'KIM'}"
      ]
     },
     "execution_count": 20,
     "metadata": {},
     "output_type": "execute_result"
    }
   ],
   "source": [
    "#dictionary comrehension for making female names uppercase\n",
    "{i:i.upper() for i in names if i[0]==\"K\"}"
   ]
  },
  {
   "cell_type": "code",
   "execution_count": 0,
   "metadata": {
    "colab": {},
    "colab_type": "code",
    "id": "XCs5_QXKeVw2"
   },
   "outputs": [],
   "source": []
  }
 ],
 "metadata": {
  "colab": {
   "collapsed_sections": [],
   "name": "DSS.ipynb",
   "provenance": [],
   "version": "0.3.2"
  },
  "kernelspec": {
   "display_name": "Python 3",
   "language": "python",
   "name": "python3"
  },
  "language_info": {
   "codemirror_mode": {
    "name": "ipython",
    "version": 3
   },
   "file_extension": ".py",
   "mimetype": "text/x-python",
   "name": "python",
   "nbconvert_exporter": "python",
   "pygments_lexer": "ipython3",
   "version": "3.7.1"
  }
 },
 "nbformat": 4,
 "nbformat_minor": 1
}
