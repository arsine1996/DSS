{
 "cells": [
  {
   "cell_type": "markdown",
   "metadata": {
    "colab_type": "text",
    "id": "u50ILL9YgjNz"
   },
   "source": [
    "# Control Flow\n",
    "\n",
    "In any programming language there are 3 constructs that help to control the flow:\n",
    "- **if/else statement** - tests conditions and executes relevant actions based on the test result being True or False\n",
    "- **for loop** - repeats an action for predefined number of times\n",
    "- **while loop** - repeats an action until a condition is not met"
   ]
  },
  {
   "cell_type": "markdown",
   "metadata": {
    "colab_type": "text",
    "id": "XvGSMSxfgjN7"
   },
   "source": [
    "## if/else\n",
    "\n",
    "If/else statement has the following structure:\n",
    "<br>\n",
    "if condition is met:\n",
    "<br>\n",
    "&nbsp;&nbsp;&nbsp;&nbsp;do something\n",
    "<br>\n",
    "elif another condition is met:\n",
    "<br>\n",
    "&nbsp;&nbsp;&nbsp;&nbsp;do something else\n",
    "<br>\n",
    "else:\n",
    "<br>\n",
    "&nbsp;&nbsp;&nbsp;&nbsp;do something different"
   ]
  },
  {
   "cell_type": "code",
   "execution_count": 1,
   "metadata": {
    "colab": {
     "base_uri": "https://localhost:8080/",
     "height": 34
    },
    "colab_type": "code",
    "executionInfo": {
     "elapsed": 690,
     "status": "ok",
     "timestamp": 1564927857440,
     "user": {
      "displayName": "Hrant Davtyan",
      "photoUrl": "https://lh6.googleusercontent.com/-T6WrkViEJRM/AAAAAAAAAAI/AAAAAAAABHg/byZlLc77qQg/s64/photo.jpg",
      "userId": "07559164183165896752"
     },
     "user_tz": -240
    },
    "id": "ffo1oOJwgjN9",
    "outputId": "4d8ef795-cc2b-4edb-c9d9-9dc6fda4c05c"
   },
   "outputs": [
    {
     "name": "stdout",
     "output_type": "stream",
     "text": [
      "1 is positive\n"
     ]
    }
   ],
   "source": [
    "a=1\n",
    "if a > 0:\n",
    "    print(str(a)+\" is positive\")\n",
    "elif a==0:\n",
    "    print(str(a)+\" is 0\")\n",
    "else:\n",
    "    print(str(a)+\" is negative\")"
   ]
  },
  {
   "cell_type": "markdown",
   "metadata": {
    "colab_type": "text",
    "id": "egJF1UsdgjPO"
   },
   "source": [
    "## For loop\n",
    "\n",
    "Python’s for statement iterates over the items of any sequence (list, string or other iterable objects) in the order that they appear in the sequence."
   ]
  },
  {
   "cell_type": "code",
   "execution_count": 2,
   "metadata": {
    "colab": {},
    "colab_type": "code",
    "id": "8DXAnQ0ugjPP"
   },
   "outputs": [],
   "source": [
    "objects = [\"star\", \"man\", \"simple\"]"
   ]
  },
  {
   "cell_type": "code",
   "execution_count": 3,
   "metadata": {
    "colab": {
     "base_uri": "https://localhost:8080/",
     "height": 68
    },
    "colab_type": "code",
    "executionInfo": {
     "elapsed": 550,
     "status": "ok",
     "timestamp": 1564927983198,
     "user": {
      "displayName": "Hrant Davtyan",
      "photoUrl": "https://lh6.googleusercontent.com/-T6WrkViEJRM/AAAAAAAAAAI/AAAAAAAABHg/byZlLc77qQg/s64/photo.jpg",
      "userId": "07559164183165896752"
     },
     "user_tz": -240
    },
    "id": "SuPO9LOFgjPT",
    "outputId": "f31f8930-a944-4239-8888-5ae7b83e9512"
   },
   "outputs": [
    {
     "name": "stdout",
     "output_type": "stream",
     "text": [
      "superstar\n",
      "superman\n",
      "supersimple\n"
     ]
    }
   ],
   "source": [
    "for i in objects: \n",
    "    print(\"super\" + i)"
   ]
  },
  {
   "cell_type": "code",
   "execution_count": 4,
   "metadata": {
    "colab": {
     "base_uri": "https://localhost:8080/",
     "height": 34
    },
    "colab_type": "code",
    "executionInfo": {
     "elapsed": 534,
     "status": "ok",
     "timestamp": 1564928015229,
     "user": {
      "displayName": "Hrant Davtyan",
      "photoUrl": "https://lh6.googleusercontent.com/-T6WrkViEJRM/AAAAAAAAAAI/AAAAAAAABHg/byZlLc77qQg/s64/photo.jpg",
      "userId": "07559164183165896752"
     },
     "user_tz": -240
    },
    "id": "H8e3d0XfgjPW",
    "outputId": "e4c082ba-7c6a-41e6-fba2-b135180c7dfc"
   },
   "outputs": [
    {
     "name": "stdout",
     "output_type": "stream",
     "text": [
      "['STAR', 'MAN', 'SIMPLE']\n"
     ]
    }
   ],
   "source": [
    "objects_up = []\n",
    "for i in objects:\n",
    "    objects_up.append(i.upper()) # making upper case each object\n",
    "print(objects_up)"
   ]
  },
  {
   "cell_type": "code",
   "execution_count": 5,
   "metadata": {
    "colab": {
     "base_uri": "https://localhost:8080/",
     "height": 68
    },
    "colab_type": "code",
    "executionInfo": {
     "elapsed": 539,
     "status": "ok",
     "timestamp": 1564928054271,
     "user": {
      "displayName": "Hrant Davtyan",
      "photoUrl": "https://lh6.googleusercontent.com/-T6WrkViEJRM/AAAAAAAAAAI/AAAAAAAABHg/byZlLc77qQg/s64/photo.jpg",
      "userId": "07559164183165896752"
     },
     "user_tz": -240
    },
    "id": "BnB18R-CgjPe",
    "outputId": "ea624518-95ec-4b6f-f54f-1f4db326d3ea"
   },
   "outputs": [
    {
     "name": "stdout",
     "output_type": "stream",
     "text": [
      "superstar\n",
      "superman\n",
      "supersimple\n"
     ]
    }
   ],
   "source": [
    "for i in range(len(objects)): \n",
    "    print(\"super\" + objects[i])"
   ]
  },
  {
   "cell_type": "markdown",
   "metadata": {
    "colab_type": "text",
    "id": "VUJ98PFVgjQz"
   },
   "source": [
    "## While loop"
   ]
  },
  {
   "cell_type": "markdown",
   "metadata": {
    "colab_type": "text",
    "id": "Jw41tYjUgjQz"
   },
   "source": [
    "While loop is used when one does not know beforehand how many times an action needs to be repeated. It can repeat an action infinetly many times if not built correctly. While loop *usually* has 3 blocks: starting point, the condition and an increment."
   ]
  },
  {
   "cell_type": "code",
   "execution_count": 6,
   "metadata": {
    "colab": {
     "base_uri": "https://localhost:8080/",
     "height": 119
    },
    "colab_type": "code",
    "executionInfo": {
     "elapsed": 680,
     "status": "ok",
     "timestamp": 1564928277881,
     "user": {
      "displayName": "Hrant Davtyan",
      "photoUrl": "https://lh6.googleusercontent.com/-T6WrkViEJRM/AAAAAAAAAAI/AAAAAAAABHg/byZlLc77qQg/s64/photo.jpg",
      "userId": "07559164183165896752"
     },
     "user_tz": -240
    },
    "id": "hhLDV3aMgjQ0",
    "outputId": "75af7abd-167c-4350-b149-5a9f92d6910b"
   },
   "outputs": [
    {
     "name": "stdout",
     "output_type": "stream",
     "text": [
      "1\n",
      "2\n",
      "3\n",
      "4\n",
      "5\n",
      "Finished\n"
     ]
    }
   ],
   "source": [
    "i = 1\n",
    "while i<=5:\n",
    "    print(i)\n",
    "    i = i + 1\n",
    "print(\"Finished\")"
   ]
  },
  {
   "cell_type": "markdown",
   "metadata": {
    "colab_type": "text",
    "id": "IHqsn_nZ_ram"
   },
   "source": [
    "## Functions\n",
    "\n",
    "Many functions exist (built) in Python, yet some do not. If one wants to use a piece of code many times, usually s/he is encouraged to develop a function to use it in the future as well."
   ]
  },
  {
   "cell_type": "code",
   "execution_count": 7,
   "metadata": {
    "colab": {},
    "colab_type": "code",
    "id": "zvJ5jzLP_rnL"
   },
   "outputs": [],
   "source": [
    "def sqrt(num):\n",
    "  if num>=0:\n",
    "    return num**0.5\n",
    "  else:\n",
    "    print(\"sqrt is not available for negatives\")"
   ]
  },
  {
   "cell_type": "code",
   "execution_count": 8,
   "metadata": {
    "colab": {
     "base_uri": "https://localhost:8080/",
     "height": 34
    },
    "colab_type": "code",
    "executionInfo": {
     "elapsed": 552,
     "status": "ok",
     "timestamp": 1564928390932,
     "user": {
      "displayName": "Hrant Davtyan",
      "photoUrl": "https://lh6.googleusercontent.com/-T6WrkViEJRM/AAAAAAAAAAI/AAAAAAAABHg/byZlLc77qQg/s64/photo.jpg",
      "userId": "07559164183165896752"
     },
     "user_tz": -240
    },
    "id": "vOM6Cm7bACgj",
    "outputId": "1c80c628-d768-4c5a-dd94-8444d67cf782"
   },
   "outputs": [
    {
     "data": {
      "text/plain": [
       "5.0"
      ]
     },
     "execution_count": 8,
     "metadata": {},
     "output_type": "execute_result"
    }
   ],
   "source": [
    "sqrt(25)"
   ]
  },
  {
   "cell_type": "code",
   "execution_count": 9,
   "metadata": {
    "colab": {
     "base_uri": "https://localhost:8080/",
     "height": 34
    },
    "colab_type": "code",
    "executionInfo": {
     "elapsed": 673,
     "status": "ok",
     "timestamp": 1564928395119,
     "user": {
      "displayName": "Hrant Davtyan",
      "photoUrl": "https://lh6.googleusercontent.com/-T6WrkViEJRM/AAAAAAAAAAI/AAAAAAAABHg/byZlLc77qQg/s64/photo.jpg",
      "userId": "07559164183165896752"
     },
     "user_tz": -240
    },
    "id": "ZruttZ2JADR3",
    "outputId": "4f5b3d04-91a8-4626-a121-e89f69fc3739"
   },
   "outputs": [
    {
     "name": "stdout",
     "output_type": "stream",
     "text": [
      "sqrt is not available for negatives\n"
     ]
    }
   ],
   "source": [
    "sqrt(-5)"
   ]
  },
  {
   "cell_type": "code",
   "execution_count": 0,
   "metadata": {
    "colab": {},
    "colab_type": "code",
    "id": "TVUCSnmsAERo"
   },
   "outputs": [],
   "source": []
  }
 ],
 "metadata": {
  "colab": {
   "collapsed_sections": [],
   "name": "Control_flow.ipynb",
   "provenance": [],
   "version": "0.3.2"
  },
  "kernelspec": {
   "display_name": "Python 3",
   "language": "python",
   "name": "python3"
  },
  "language_info": {
   "codemirror_mode": {
    "name": "ipython",
    "version": 3
   },
   "file_extension": ".py",
   "mimetype": "text/x-python",
   "name": "python",
   "nbconvert_exporter": "python",
   "pygments_lexer": "ipython3",
   "version": "3.7.1"
  }
 },
 "nbformat": 4,
 "nbformat_minor": 1
}
