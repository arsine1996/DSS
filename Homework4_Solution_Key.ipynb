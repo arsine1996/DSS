{
 "cells": [
  {
   "cell_type": "markdown",
   "metadata": {},
   "source": [
    "# Homework 4"
   ]
  },
  {
   "cell_type": "markdown",
   "metadata": {},
   "source": [
    "## Problem 1 - Superify 1 (2 points)\n",
    "For this problem, create a list of 5 strings (e.g. a list consisting of words like men, women, cool etc.).\n",
    "Create a for loop that will iterate over the elements of the list. If the current element has more than 4\n",
    "characters, then print that element after adding the prefix super and a space: e.g. super women. For\n",
    "all other cases (less than or equal to 4 characters) print that element adding the prefix super without\n",
    "any space: e.g. supercool."
   ]
  },
  {
   "cell_type": "code",
   "execution_count": 18,
   "metadata": {},
   "outputs": [],
   "source": [
    "my_list=[\"men\",\"women\",\"cool\",\"action\",\"star\"]"
   ]
  },
  {
   "cell_type": "code",
   "execution_count": 2,
   "metadata": {},
   "outputs": [
    {
     "name": "stdout",
     "output_type": "stream",
     "text": [
      "supermen\n",
      "super women\n",
      "supercool\n",
      "super action\n",
      "superstar\n"
     ]
    }
   ],
   "source": [
    "for i in my_list:\n",
    "    if len(i)>4:\n",
    "        print('super'+' '+ i)\n",
    "    else:\n",
    "        print('super'+ i)"
   ]
  },
  {
   "cell_type": "markdown",
   "metadata": {},
   "source": [
    "## Problem 2 - Superify 2 (2 points)\n",
    "Solve problem 1 with a while loop."
   ]
  },
  {
   "cell_type": "code",
   "execution_count": 7,
   "metadata": {},
   "outputs": [
    {
     "name": "stdout",
     "output_type": "stream",
     "text": [
      "supermen\n",
      "super women\n",
      "supercool\n",
      "super action\n",
      "superstar\n"
     ]
    }
   ],
   "source": [
    "i=0\n",
    "while i<len(my_list):\n",
    "    if len(my_list[i])>4:\n",
    "        print('super'+' '+ my_list[i])\n",
    "    else:\n",
    "        print('super'+ my_list[i])\n",
    "    i=i+1"
   ]
  },
  {
   "cell_type": "markdown",
   "metadata": {},
   "source": [
    "## Problem 3 - Superify 3 (2 points)\n",
    "Solve problem 1 using dictionary comprehensions which will have the input string (e.g. woman) as\n",
    "key and the output string (e.g. superwoman) as the value."
   ]
  },
  {
   "cell_type": "code",
   "execution_count": 13,
   "metadata": {},
   "outputs": [
    {
     "data": {
      "text/plain": [
       "{'men': 'supermen',\n",
       " 'women': 'super women',\n",
       " 'cool': 'supercool',\n",
       " 'action': 'super action',\n",
       " 'star': 'superstar'}"
      ]
     },
     "execution_count": 13,
     "metadata": {},
     "output_type": "execute_result"
    }
   ],
   "source": [
    "{i:'super'+' '+ i if len(i)>4 else 'super'+ i for i in my_list}"
   ]
  },
  {
   "cell_type": "markdown",
   "metadata": {},
   "source": [
    "## Problem 4 - Listpop (2 points)\n",
    "While append() is a function used to add an element to the list, pop() is a function (again available\n",
    "only for lists) that is used to delete an element. For example, if we have a list my_list = ['a','b','c','d'],\n",
    "then my_list.pop(2) will delete the 2nd (in Python terminology) element of the list: 'c'. Similarly,\n",
    "my_list.pop(-1) will delete the very last element of it: 'd'. The remaining list after those two operations\n",
    "will be my_list = ['a','b'] Create a while loop, which will delete elements from the string list in Problem\n",
    "1, as long as the list is not empty (i.e. the while loop must stop once the list of strings becomes\n",
    "\n",
    "empty). Note: make sure not to create an infinite loop."
   ]
  },
  {
   "cell_type": "code",
   "execution_count": 19,
   "metadata": {},
   "outputs": [
    {
     "data": {
      "text/plain": [
       "['men', 'women', 'cool', 'action', 'star']"
      ]
     },
     "execution_count": 19,
     "metadata": {},
     "output_type": "execute_result"
    }
   ],
   "source": [
    "my_list"
   ]
  },
  {
   "cell_type": "code",
   "execution_count": 17,
   "metadata": {},
   "outputs": [
    {
     "name": "stdout",
     "output_type": "stream",
     "text": [
      "['men', 'women', 'cool', 'action']\n",
      "['men', 'women', 'cool']\n",
      "['men', 'women']\n",
      "['men']\n",
      "[]\n"
     ]
    }
   ],
   "source": [
    "i=0\n",
    "while i<len(my_list):\n",
    "    my_list.pop(-1)\n",
    "    print(my_list)"
   ]
  },
  {
   "cell_type": "markdown",
   "metadata": {},
   "source": [
    "## Problem 5 - Numlength (2 points)\n",
    "Create a list of positive integers with different digits (some one digit, some two digits, some three\n",
    "etc.). For each element in this list check whether that integer has one, two or three (or four, if you\n",
    "have it in your list) digits. The one digit elements to be written into a new list called one_digit, two\n",
    "digit elements into a list called two_digits and so on."
   ]
  },
  {
   "cell_type": "code",
   "execution_count": 21,
   "metadata": {},
   "outputs": [],
   "source": [
    "list_int=[1,3730,78,125,13,7873,19,567,90,4,12]"
   ]
  },
  {
   "cell_type": "code",
   "execution_count": 25,
   "metadata": {},
   "outputs": [
    {
     "name": "stdout",
     "output_type": "stream",
     "text": [
      "one_digit: [1, 4]\n",
      "two_digits: [78, 13, 19, 90, 12]\n",
      "three_digits: [125, 567]\n",
      "four_digits: [3730, 7873]\n"
     ]
    }
   ],
   "source": [
    "one_digit=[]\n",
    "two_digits=[]\n",
    "three_digits=[]\n",
    "four_digits=[]\n",
    "\n",
    "for i in list_int:\n",
    "    if len(str(i))==1:\n",
    "        one_digit.append(i)\n",
    "    elif len(str(i))==2:\n",
    "        two_digits.append(i)\n",
    "    elif len(str(i))==3:\n",
    "        three_digits.append(i)    \n",
    "    else:\n",
    "        four_digits.append(i)\n",
    "print('one_digit:',one_digit)\n",
    "print('two_digits:',two_digits)\n",
    "print('three_digits:',three_digits)\n",
    "print('four_digits:',four_digits)\n",
    "        "
   ]
  },
  {
   "cell_type": "code",
   "execution_count": null,
   "metadata": {},
   "outputs": [],
   "source": []
  }
 ],
 "metadata": {
  "kernelspec": {
   "display_name": "Python 3",
   "language": "python",
   "name": "python3"
  },
  "language_info": {
   "codemirror_mode": {
    "name": "ipython",
    "version": 3
   },
   "file_extension": ".py",
   "mimetype": "text/x-python",
   "name": "python",
   "nbconvert_exporter": "python",
   "pygments_lexer": "ipython3",
   "version": "3.7.1"
  }
 },
 "nbformat": 4,
 "nbformat_minor": 2
}
