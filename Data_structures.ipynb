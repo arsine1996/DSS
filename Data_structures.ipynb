{
 "cells": [
  {
   "cell_type": "markdown",
   "metadata": {
    "colab_type": "text",
    "id": "4MpmDKSUgPQF"
   },
   "source": [
    "# Data Structures\n",
    "\n",
    "Data structures are \"larger\" objects which hold data inside. There are 4 data structures in Python:\n",
    "- **list** - is defined using function **list()** or square brackets: **[ ]**. Can hold absolutely any data inside (int, float, str, bool, another list etc.). Elements in the list can be accessed using their index inside the square brackets (like in case of strings, indexation starts from 0).\n",
    "- **set** - is defined using function **set()** or curly brackets: **{ }**. Can hold absolutely any data inside, yet only unique values (no repetitions). To access the elements in a set, it needs to be converted to a list.\n",
    "- **tuple** - is defined using function **tuple()** or open brackets: **( )**. Can hold absolutely any data inside, yet is not mutable (e.g. cannot add or remove data). Elements can be accessed similarly as in case of lists.\n",
    "- **dict** - is defined using function **dict()** or curly brackets: **{ }**. Can hold absolutely any data inside using key:value pairs.Do not mix it with tuple, as tuple has only values and no keys. Keys in dictionary should be unique. Elements in a dictionary do not keep any order, so one cannot access them using index. Instead, they are accessed using keys inside square brackets.\n",
    "\n",
    "Each of the data structures has it's own methods. Those methods helps to add or remove an element (if the data structure is mutable), count number of elemenets, find an element etc."
   ]
  },
  {
   "cell_type": "markdown",
   "metadata": {
    "colab_type": "text",
    "id": "ibt9BFq1gMIp"
   },
   "source": [
    "# List\n",
    "The list class is the most general, representing a sequence of arbitrary objects. Lists are zero-indexed. They are perhaps the most used data structure in Python, as they have many valuable behaviors. Methods for lists are many, among all:\n",
    "- **append()** - adds an element to the very end of the list\n",
    "- **extend()** - adds an element to the very end of the list after iterating over the element (i.e. partition then add)\n",
    "- **pop()** - removes an element using index\n",
    "- **remove()** - removes an element using value\n",
    "- other methods which can be accessed by inserting dot and pressing TAB after the list object name"
   ]
  },
  {
   "cell_type": "code",
   "execution_count": 6,
   "metadata": {
    "colab": {},
    "colab_type": "code",
    "id": "z7SOj2U-gMIt"
   },
   "outputs": [],
   "source": [
    "empty_list = [] # empty list\n",
    "#empty_list = list() # same thing in a different wat\n",
    "name_list = ['Jack', 'John', 'Jimmy', 'Jivan', 'James', 'Joseph'] # list of strings\n",
    "int_list = [1, 2, 3, 4, 5] # list of integers\n",
    "mixed_list = [1, 'dog', 3.5] # list of different types of elements"
   ]
  },
  {
   "cell_type": "code",
   "execution_count": 7,
   "metadata": {
    "colab": {
     "base_uri": "https://localhost:8080/",
     "height": 153
    },
    "colab_type": "code",
    "executionInfo": {
     "elapsed": 540,
     "status": "ok",
     "timestamp": 1564912169291,
     "user": {
      "displayName": "Hrant Davtyan",
      "photoUrl": "https://lh6.googleusercontent.com/-T6WrkViEJRM/AAAAAAAAAAI/AAAAAAAABHg/byZlLc77qQg/s64/photo.jpg",
      "userId": "07559164183165896752"
     },
     "user_tz": -240
    },
    "id": "Hv2KvaNYBm00",
    "outputId": "a57b2a46-9179-4623-d776-4f9f3a83b639"
   },
   "outputs": [
    {
     "name": "stdout",
     "output_type": "stream",
     "text": [
      "Jack\n",
      "Joseph\n",
      "James\n",
      "['Jack', 'John', 'Jimmy']\n",
      "['Jack', 'John', 'Jimmy']\n",
      "['Jivan', 'James', 'Joseph']\n",
      "['Jack', 'Jimmy', 'James']\n",
      "['Joseph', 'James', 'Jivan', 'Jimmy', 'John', 'Jack']\n"
     ]
    }
   ],
   "source": [
    "print(name_list[0]) #first element\n",
    "print(name_list[-1]) #last element\n",
    "print(name_list[4]) #5th element (in Pythonic its 4th)\n",
    "print(name_list[0:3]) #first 3 elements\n",
    "print(name_list[:3]) #first 3 elements\n",
    "print(name_list[-3:]) #last 3 elements\n",
    "print(name_list[::2]) #first of each next 2 elements (odd numbered elemenets)\n",
    "print(name_list[::-1]) #reverse list"
   ]
  },
  {
   "cell_type": "code",
   "execution_count": 8,
   "metadata": {
    "colab": {},
    "colab_type": "code",
    "id": "vBQoeTceCOdn"
   },
   "outputs": [],
   "source": [
    "name_list.append(\"Jona\") #add Jona to names\n",
    "name_list.pop(0) #removes first element using its index\n",
    "name_list.remove(\"Jimmy\") #removes an element using value"
   ]
  },
  {
   "cell_type": "markdown",
   "metadata": {
    "colab_type": "text",
    "id": "rLOfgXv2gMKR"
   },
   "source": [
    "# Tuple"
   ]
  },
  {
   "cell_type": "markdown",
   "metadata": {
    "colab_type": "text",
    "id": "D-F6SdDPgMKS"
   },
   "source": [
    "Tuple is the list which is not mutable. One cannot add an element or remove from a tuple."
   ]
  },
  {
   "cell_type": "code",
   "execution_count": 9,
   "metadata": {
    "colab": {
     "base_uri": "https://localhost:8080/",
     "height": 181
    },
    "colab_type": "code",
    "executionInfo": {
     "elapsed": 556,
     "status": "error",
     "timestamp": 1564927227685,
     "user": {
      "displayName": "Hrant Davtyan",
      "photoUrl": "https://lh6.googleusercontent.com/-T6WrkViEJRM/AAAAAAAAAAI/AAAAAAAABHg/byZlLc77qQg/s64/photo.jpg",
      "userId": "07559164183165896752"
     },
     "user_tz": -240
    },
    "id": "vZ2H6vSVgMKT",
    "outputId": "74243ca8-fa66-4c2b-ff21-0445e3fd7206"
   },
   "outputs": [
    {
     "ename": "AttributeError",
     "evalue": "'tuple' object has no attribute 'remove'",
     "output_type": "error",
     "traceback": [
      "\u001b[0;31m---------------------------------------------------------------------------\u001b[0m",
      "\u001b[0;31mAttributeError\u001b[0m                            Traceback (most recent call last)",
      "\u001b[0;32m<ipython-input-9-bff8e85664c3>\u001b[0m in \u001b[0;36m<module>\u001b[0;34m\u001b[0m\n\u001b[1;32m      1\u001b[0m \u001b[0mname_tuple\u001b[0m \u001b[0;34m=\u001b[0m \u001b[0mtuple\u001b[0m\u001b[0;34m(\u001b[0m\u001b[0mname_list\u001b[0m\u001b[0;34m)\u001b[0m\u001b[0;34m\u001b[0m\u001b[0;34m\u001b[0m\u001b[0m\n\u001b[0;32m----> 2\u001b[0;31m \u001b[0mname_tuple\u001b[0m\u001b[0;34m.\u001b[0m\u001b[0mremove\u001b[0m\u001b[0;34m(\u001b[0m\u001b[0;34m\"Jack\"\u001b[0m\u001b[0;34m)\u001b[0m\u001b[0;34m\u001b[0m\u001b[0;34m\u001b[0m\u001b[0m\n\u001b[0m",
      "\u001b[0;31mAttributeError\u001b[0m: 'tuple' object has no attribute 'remove'"
     ]
    }
   ],
   "source": [
    "name_tuple = tuple(name_list)\n",
    "name_tuple.remove(\"Jack\")"
   ]
  },
  {
   "cell_type": "markdown",
   "metadata": {
    "colab_type": "text",
    "id": "VjEJJnDg7yu3"
   },
   "source": [
    "## Set\n",
    "\n",
    "Set is a collection of unique elements. Basically, set is the list where no duplicates can exist."
   ]
  },
  {
   "cell_type": "code",
   "execution_count": 10,
   "metadata": {
    "colab": {
     "base_uri": "https://localhost:8080/",
     "height": 51
    },
    "colab_type": "code",
    "executionInfo": {
     "elapsed": 676,
     "status": "ok",
     "timestamp": 1564927332150,
     "user": {
      "displayName": "Hrant Davtyan",
      "photoUrl": "https://lh6.googleusercontent.com/-T6WrkViEJRM/AAAAAAAAAAI/AAAAAAAABHg/byZlLc77qQg/s64/photo.jpg",
      "userId": "07559164183165896752"
     },
     "user_tz": -240
    },
    "id": "x95SI-2Z7zKK",
    "outputId": "547e52d7-cf82-4a21-c408-b9edeacbb662"
   },
   "outputs": [
    {
     "name": "stdout",
     "output_type": "stream",
     "text": [
      "[1, 2, 3, 4, 5, 1, 2, 3, 4, 5]\n",
      "{1, 2, 3, 4, 5}\n"
     ]
    }
   ],
   "source": [
    "some_list = [1,2,3,4,5,1,2,3,4,5]\n",
    "print(some_list)\n",
    "some_set = set(some_list)\n",
    "print(some_set)"
   ]
  },
  {
   "cell_type": "markdown",
   "metadata": {
    "colab_type": "text",
    "collapsed": true,
    "id": "KIv-9c8WgMK0"
   },
   "source": [
    "## Dictionary\n",
    "\n",
    "Each key is separated from its value by a colon (:), the items are separated by commas, and the whole thing is enclosed in curly braces. Keys are unique within a dictionary, while values may not. The values of a dictionary can be of any type, but the keys must be of an immutable data type such as strings, numbers, or tuples."
   ]
  },
  {
   "cell_type": "code",
   "execution_count": 11,
   "metadata": {
    "colab": {
     "base_uri": "https://localhost:8080/",
     "height": 34
    },
    "colab_type": "code",
    "executionInfo": {
     "elapsed": 547,
     "status": "ok",
     "timestamp": 1564927386074,
     "user": {
      "displayName": "Hrant Davtyan",
      "photoUrl": "https://lh6.googleusercontent.com/-T6WrkViEJRM/AAAAAAAAAAI/AAAAAAAABHg/byZlLc77qQg/s64/photo.jpg",
      "userId": "07559164183165896752"
     },
     "user_tz": -240
    },
    "id": "nFLHfvR2gMK1",
    "outputId": "481b91c8-83a7-4c4b-b338-ffb227ce2a87"
   },
   "outputs": [
    {
     "name": "stdout",
     "output_type": "stream",
     "text": [
      "{'r': 'Red', 'g': 'Green', 'b': 'Blue'}\n"
     ]
    }
   ],
   "source": [
    "color_dict = {'r': 'Red', 'g': 'Green', 'b': 'Blue'}\n",
    "print(color_dict)"
   ]
  },
  {
   "cell_type": "code",
   "execution_count": 12,
   "metadata": {
    "colab": {},
    "colab_type": "code",
    "id": "QBQ4-TwMgMK4",
    "outputId": "ae68a7af-63f3-4ec0-e44e-bf8167b078de"
   },
   "outputs": [
    {
     "data": {
      "text/plain": [
       "'Red'"
      ]
     },
     "execution_count": 12,
     "metadata": {},
     "output_type": "execute_result"
    }
   ],
   "source": [
    "color_dict['r']"
   ]
  },
  {
   "cell_type": "code",
   "execution_count": 13,
   "metadata": {
    "colab": {
     "base_uri": "https://localhost:8080/",
     "height": 34
    },
    "colab_type": "code",
    "executionInfo": {
     "elapsed": 524,
     "status": "ok",
     "timestamp": 1564927436905,
     "user": {
      "displayName": "Hrant Davtyan",
      "photoUrl": "https://lh6.googleusercontent.com/-T6WrkViEJRM/AAAAAAAAAAI/AAAAAAAABHg/byZlLc77qQg/s64/photo.jpg",
      "userId": "07559164183165896752"
     },
     "user_tz": -240
    },
    "id": "Ai6fuwHvgMK-",
    "outputId": "2ce4017c-e829-444d-8605-e8db0598ad04"
   },
   "outputs": [
    {
     "name": "stdout",
     "output_type": "stream",
     "text": [
      "{'r': 'Red', 'g': 'Green', 'b': 'Blue', 'y': 'Yellow'}\n"
     ]
    }
   ],
   "source": [
    "#adding values to the dict\n",
    "color_dict[\"y\"] = \"Yellow\"\n",
    "print(color_dict)"
   ]
  },
  {
   "cell_type": "code",
   "execution_count": 14,
   "metadata": {
    "colab": {
     "base_uri": "https://localhost:8080/",
     "height": 34
    },
    "colab_type": "code",
    "executionInfo": {
     "elapsed": 630,
     "status": "ok",
     "timestamp": 1564927475812,
     "user": {
      "displayName": "Hrant Davtyan",
      "photoUrl": "https://lh6.googleusercontent.com/-T6WrkViEJRM/AAAAAAAAAAI/AAAAAAAABHg/byZlLc77qQg/s64/photo.jpg",
      "userId": "07559164183165896752"
     },
     "user_tz": -240
    },
    "id": "WgZz5bpYgMLD",
    "outputId": "cc64d490-d3d0-4c02-ed56-eb8ae405227e"
   },
   "outputs": [
    {
     "data": {
      "text/plain": [
       "dict_keys(['r', 'g', 'b', 'y'])"
      ]
     },
     "execution_count": 14,
     "metadata": {},
     "output_type": "execute_result"
    }
   ],
   "source": [
    "#get all keys\n",
    "color_dict.keys()"
   ]
  },
  {
   "cell_type": "code",
   "execution_count": 15,
   "metadata": {
    "colab": {
     "base_uri": "https://localhost:8080/",
     "height": 34
    },
    "colab_type": "code",
    "executionInfo": {
     "elapsed": 568,
     "status": "ok",
     "timestamp": 1564927489103,
     "user": {
      "displayName": "Hrant Davtyan",
      "photoUrl": "https://lh6.googleusercontent.com/-T6WrkViEJRM/AAAAAAAAAAI/AAAAAAAABHg/byZlLc77qQg/s64/photo.jpg",
      "userId": "07559164183165896752"
     },
     "user_tz": -240
    },
    "id": "gO4z3tDM8lLv",
    "outputId": "56f593dd-a378-4c79-bbc7-9b60e60f4eb6"
   },
   "outputs": [
    {
     "data": {
      "text/plain": [
       "dict_values(['Red', 'Green', 'Blue', 'Yellow'])"
      ]
     },
     "execution_count": 15,
     "metadata": {},
     "output_type": "execute_result"
    }
   ],
   "source": [
    "#get all values\n",
    "color_dict.values()"
   ]
  },
  {
   "cell_type": "code",
   "execution_count": null,
   "metadata": {},
   "outputs": [],
   "source": []
  }
 ],
 "metadata": {
  "colab": {
   "collapsed_sections": [],
   "name": "Data_structures.ipynb",
   "provenance": [],
   "version": "0.3.2"
  },
  "kernelspec": {
   "display_name": "Python 3",
   "language": "python",
   "name": "python3"
  },
  "language_info": {
   "codemirror_mode": {
    "name": "ipython",
    "version": 3
   },
   "file_extension": ".py",
   "mimetype": "text/x-python",
   "name": "python",
   "nbconvert_exporter": "python",
   "pygments_lexer": "ipython3",
   "version": "3.7.1"
  }
 },
 "nbformat": 4,
 "nbformat_minor": 1
}
