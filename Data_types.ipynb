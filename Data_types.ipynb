{
 "cells": [
  {
   "cell_type": "markdown",
   "metadata": {
    "colab_type": "text",
    "id": "i02hygtMFkRL"
   },
   "source": [
    "# Data types\n",
    "\n",
    "The basic data types in Python (objects that can store data) are:\n",
    "- int - stores an integer number,\n",
    "- float - stores a floating point number (a number with decimals),\n",
    "- str - stores a textual string (is always written inside quotes),\n",
    "- bool - stores boolean (logcal) values (True or False).\n",
    "\n",
    "Other data types (such as complex numbers) also exist but are out of hte scope of this lecture.\n",
    "\n",
    "<br>\n",
    "\n",
    "To create an onject (a variable) in Python **=** sign is used for assignment.\n",
    "- When used, the value on the right will be assigned to the object on the left.\n",
    "- Python allows multiple assignments on the same line as well: a,b = 1,2 (a will become 1and b will become 2)\n",
    "- **type()** is a built in function which can check the type of an object (int, str etc.).\n",
    "- The data types can also be used as functions to convert the type of a varaible (e.g. int(5.7) will produce 5, by extracting an integer from a floating point number).\n",
    "- **print()** function can be used to print the content (value) of an object. If not used, the value of an object will still be shown. Yet, if print() is not used, only the last one of multiple objects will be shown.\n",
    "- **#** (hashtag) sign is used to write comments in Python. Whenever used, anything on the right hand side will become a comment and will not be executed as code.\n",
    "- Each data type in Python has its own operations. For example, substruction operations is avialable for int but not for str."
   ]
  },
  {
   "cell_type": "markdown",
   "metadata": {
    "colab_type": "text",
    "id": "VWz56KlSFkRT"
   },
   "source": [
    "## Overview"
   ]
  },
  {
   "cell_type": "code",
   "execution_count": 1,
   "metadata": {
    "colab": {},
    "colab_type": "code",
    "id": "G6F2oBkSFkRY",
    "outputId": "16d40d7e-6a82-42dd-c314-904d3fe71d58"
   },
   "outputs": [
    {
     "data": {
      "text/plain": [
       "1"
      ]
     },
     "execution_count": 1,
     "metadata": {},
     "output_type": "execute_result"
    }
   ],
   "source": [
    "# 1 is an object in Python\n",
    "1"
   ]
  },
  {
   "cell_type": "code",
   "execution_count": 2,
   "metadata": {
    "colab": {},
    "colab_type": "code",
    "id": "FXF4F8f5FkRj",
    "outputId": "8528b44e-4768-4d0a-9d65-bbe0d3998096"
   },
   "outputs": [
    {
     "data": {
      "text/plain": [
       "int"
      ]
     },
     "execution_count": 2,
     "metadata": {},
     "output_type": "execute_result"
    }
   ],
   "source": [
    "# 1 is part of buid-in class \"int\"\n",
    "type(1)"
   ]
  },
  {
   "cell_type": "code",
   "execution_count": 3,
   "metadata": {
    "colab": {
     "base_uri": "https://localhost:8080/",
     "height": 34
    },
    "colab_type": "code",
    "executionInfo": {
     "elapsed": 816,
     "status": "ok",
     "timestamp": 1564896800991,
     "user": {
      "displayName": "Hrant Davtyan",
      "photoUrl": "https://lh6.googleusercontent.com/-T6WrkViEJRM/AAAAAAAAAAI/AAAAAAAABHg/byZlLc77qQg/s64/photo.jpg",
      "userId": "07559164183165896752"
     },
     "user_tz": -240
    },
    "id": "iR6pCAK0HhQi",
    "outputId": "14a46414-b527-4658-c1cd-fa834828a2e7"
   },
   "outputs": [
    {
     "data": {
      "text/plain": [
       "2"
      ]
     },
     "execution_count": 3,
     "metadata": {},
     "output_type": "execute_result"
    }
   ],
   "source": [
    "# only 2 will be shown (the last one)\n",
    "1\n",
    "2"
   ]
  },
  {
   "cell_type": "code",
   "execution_count": 4,
   "metadata": {
    "colab": {},
    "colab_type": "code",
    "id": "YRwRncKaHnSn"
   },
   "outputs": [
    {
     "name": "stdout",
     "output_type": "stream",
     "text": [
      "1\n",
      "2\n"
     ]
    }
   ],
   "source": [
    "# as print was used, both 1 and 2 will be shown\n",
    "print(1)\n",
    "print(2)"
   ]
  },
  {
   "cell_type": "code",
   "execution_count": 5,
   "metadata": {
    "colab": {},
    "colab_type": "code",
    "id": "5LosO5ZlFkRr"
   },
   "outputs": [
    {
     "name": "stdout",
     "output_type": "stream",
     "text": [
      "1\n"
     ]
    }
   ],
   "source": [
    "# assigning 1 value to an object called \"a\"\n",
    "# printing the value\n",
    "a = 1\n",
    "print(a)"
   ]
  },
  {
   "cell_type": "code",
   "execution_count": 8,
   "metadata": {
    "colab": {},
    "colab_type": "code",
    "id": "4OHq-HH8FkR4",
    "outputId": "ec59142c-9168-489b-8f21-de1e718f0a62"
   },
   "outputs": [
    {
     "data": {
      "text/plain": [
       "int"
      ]
     },
     "execution_count": 8,
     "metadata": {},
     "output_type": "execute_result"
    }
   ],
   "source": [
    "# Type of \"a\" is int\n",
    "type(a)"
   ]
  },
  {
   "cell_type": "code",
   "execution_count": 9,
   "metadata": {
    "colab": {},
    "colab_type": "code",
    "id": "Pu_eLQEEFkR-"
   },
   "outputs": [
    {
     "name": "stdout",
     "output_type": "stream",
     "text": [
      "1\n",
      "2\n",
      "3\n"
     ]
    }
   ],
   "source": [
    "# multiple assignments on the same line\n",
    "a, b, c = 1, 2, 3\n",
    "print(a)\n",
    "print(b)\n",
    "print(c)"
   ]
  },
  {
   "cell_type": "markdown",
   "metadata": {
    "colab_type": "text",
    "id": "IGW0mSpSFkSQ"
   },
   "source": [
    "## Integers\n",
    "\n",
    "Integers (int) are the integer numbers in mathematics and can complete the following operations: summation (+), substruction (-), division (/), multiplication (****), exponentiation (*****), modulus (%)."
   ]
  },
  {
   "cell_type": "code",
   "execution_count": 10,
   "metadata": {
    "colab": {},
    "colab_type": "code",
    "id": "QcQNufGQFkSR",
    "outputId": "2e94005e-9e2e-41e6-eb45-b055fb0c4d64"
   },
   "outputs": [
    {
     "name": "stdout",
     "output_type": "stream",
     "text": [
      "7\n",
      "3\n",
      "10\n",
      "2.5\n",
      "25\n",
      "1\n"
     ]
    }
   ],
   "source": [
    "print(5+2) #summation\n",
    "print(5-2) #substruction\n",
    "print(5*2) #multiplication\n",
    "print(5/2) #division\n",
    "print(5**2) #exponentiation\n",
    "print(5%2) #modulus (gives the residual after division)"
   ]
  },
  {
   "cell_type": "markdown",
   "metadata": {
    "colab_type": "text",
    "id": "dR7t3_4lFkST"
   },
   "source": [
    "## Float\n",
    "\n",
    "Floats (float) are the floating point (decimal) numbers. For example, 2.5. The operations applied on floating point numbers are the same as on integers. One may convert float to an int and viceversa using same name functions. When int is converted to float, just a \".0\" will be added to visually indicate it is a floating point number. Yet, when float is converted to int, only integer part will be left (i.e. no rounding up operation will be conducted). For example, int(5.9) will result in 5 (not 6)."
   ]
  },
  {
   "cell_type": "code",
   "execution_count": 11,
   "metadata": {
    "colab": {},
    "colab_type": "code",
    "id": "-ZsMsiqKFkSU",
    "outputId": "a01fc43b-575d-4131-804a-6da2b667021c"
   },
   "outputs": [
    {
     "data": {
      "text/plain": [
       "int"
      ]
     },
     "execution_count": 11,
     "metadata": {},
     "output_type": "execute_result"
    }
   ],
   "source": [
    "var_int = 5\n",
    "type(var_int)"
   ]
  },
  {
   "cell_type": "code",
   "execution_count": 12,
   "metadata": {
    "colab": {},
    "colab_type": "code",
    "id": "1-s8o2hRZX64"
   },
   "outputs": [
    {
     "data": {
      "text/plain": [
       "float"
      ]
     },
     "execution_count": 12,
     "metadata": {},
     "output_type": "execute_result"
    }
   ],
   "source": [
    "var_float = 5.9\n",
    "type(var_float)"
   ]
  },
  {
   "cell_type": "code",
   "execution_count": 13,
   "metadata": {
    "colab": {},
    "colab_type": "code",
    "id": "p03dtwdQFkSZ"
   },
   "outputs": [
    {
     "data": {
      "text/plain": [
       "5.0"
      ]
     },
     "execution_count": 13,
     "metadata": {},
     "output_type": "execute_result"
    }
   ],
   "source": [
    "float(var_int)"
   ]
  },
  {
   "cell_type": "markdown",
   "metadata": {
    "colab_type": "text",
    "id": "m8dMAAxDFkSb"
   },
   "source": [
    "## Built-in functions for basic numerical (mathematical) operations\n",
    "Some built-in functions used in math are abs(), max(), min(), pow(), round(). There is no explicit function to calculate square root, but one can use pow() or \"**\" operation to do that."
   ]
  },
  {
   "cell_type": "code",
   "execution_count": 14,
   "metadata": {
    "colab": {},
    "colab_type": "code",
    "id": "LYjzjvFRFkSe",
    "outputId": "1b8f7065-d675-4c0a-e617-e16e8bcb9643"
   },
   "outputs": [
    {
     "name": "stdout",
     "output_type": "stream",
     "text": [
      "abs 5\n",
      "max 9\n",
      "min -5\n",
      "pow 8\n",
      "round 6.778\n"
     ]
    }
   ],
   "source": [
    "print('abs', abs(-5)) #calculating absolute value\n",
    "print('max', max(3, -5, 9)) #calculating max value\n",
    "print('min', min(4, -4, -5, 0)) #calculating min value\n",
    "print('pow', pow(2, 3)) #taking power up\n",
    "print('round', round(6.7777777, 3)) #rounding up to 3 decimals"
   ]
  },
  {
   "cell_type": "markdown",
   "metadata": {
    "colab_type": "text",
    "id": "PLY2XYhcbCk8"
   },
   "source": [
    "## Strings\n",
    "\n",
    "Strings (str) are the textual objects. They are always written inside signle or double quotes. Strings are \"stronger\" type than numerical data types, as any numeric value can be also stored as string (e.g. \"5\" is a string), yet NOT any string can be stored as an integer or a float (e.g. \"text\" cannot anyhow be converted to a numeric value, yet 10 can be converted to string with quotes: \"10\").\n",
    "\n",
    "- The strings in Python can be summed up with each other. Summation of strings yield to their concationation.\n",
    "- Strings can also be multiplied with integers which will yield the repition of strings.\n",
    "- Elements (characters) from a string can be selected using square brackets. As the enumeration in Python starts from 0, the very first character can be selecte dusing [0]. The last character can be selected using [-1].\n"
   ]
  },
  {
   "cell_type": "code",
   "execution_count": 15,
   "metadata": {
    "colab": {
     "base_uri": "https://localhost:8080/",
     "height": 34
    },
    "colab_type": "code",
    "executionInfo": {
     "elapsed": 631,
     "status": "ok",
     "timestamp": 1564902578051,
     "user": {
      "displayName": "Hrant Davtyan",
      "photoUrl": "https://lh6.googleusercontent.com/-T6WrkViEJRM/AAAAAAAAAAI/AAAAAAAABHg/byZlLc77qQg/s64/photo.jpg",
      "userId": "07559164183165896752"
     },
     "user_tz": -240
    },
    "id": "YbJIqbGjbDMT",
    "outputId": "8e575421-81a7-4f81-bc14-d571ee96706f"
   },
   "outputs": [
    {
     "data": {
      "text/plain": [
       "str"
      ]
     },
     "execution_count": 15,
     "metadata": {},
     "output_type": "execute_result"
    }
   ],
   "source": [
    "name = \"Hrant\"\n",
    "type(name)"
   ]
  },
  {
   "cell_type": "code",
   "execution_count": 16,
   "metadata": {
    "colab": {},
    "colab_type": "code",
    "id": "9vui2c2qdmqE"
   },
   "outputs": [
    {
     "data": {
      "text/plain": [
       "str"
      ]
     },
     "execution_count": 16,
     "metadata": {},
     "output_type": "execute_result"
    }
   ],
   "source": [
    "var_str = \"7\"\n",
    "type(var_str)"
   ]
  },
  {
   "cell_type": "code",
   "execution_count": 17,
   "metadata": {
    "colab": {},
    "colab_type": "code",
    "id": "ATEMBT_3dmmO"
   },
   "outputs": [
    {
     "data": {
      "text/plain": [
       "7"
      ]
     },
     "execution_count": 17,
     "metadata": {},
     "output_type": "execute_result"
    }
   ],
   "source": [
    "# converted a string (with numerical value) to an integer\n",
    "int(var_str)"
   ]
  },
  {
   "cell_type": "code",
   "execution_count": 18,
   "metadata": {
    "colab": {
     "base_uri": "https://localhost:8080/",
     "height": 164
    },
    "colab_type": "code",
    "executionInfo": {
     "elapsed": 583,
     "status": "error",
     "timestamp": 1564902639235,
     "user": {
      "displayName": "Hrant Davtyan",
      "photoUrl": "https://lh6.googleusercontent.com/-T6WrkViEJRM/AAAAAAAAAAI/AAAAAAAABHg/byZlLc77qQg/s64/photo.jpg",
      "userId": "07559164183165896752"
     },
     "user_tz": -240
    },
    "id": "MJyzvfhjdmif",
    "outputId": "b660b57c-69e2-41c1-ecff-c156e55e3b93"
   },
   "outputs": [
    {
     "ename": "ValueError",
     "evalue": "invalid literal for int() with base 10: 'Hrant'",
     "output_type": "error",
     "traceback": [
      "\u001b[0;31m---------------------------------------------------------------------------\u001b[0m",
      "\u001b[0;31mValueError\u001b[0m                                Traceback (most recent call last)",
      "\u001b[0;32m<ipython-input-18-9e855eda749f>\u001b[0m in \u001b[0;36m<module>\u001b[0;34m\u001b[0m\n\u001b[1;32m      1\u001b[0m \u001b[0;31m# trying to convert textual value to an integer yields an error\u001b[0m\u001b[0;34m\u001b[0m\u001b[0;34m\u001b[0m\u001b[0;34m\u001b[0m\u001b[0m\n\u001b[0;32m----> 2\u001b[0;31m \u001b[0mint\u001b[0m\u001b[0;34m(\u001b[0m\u001b[0mname\u001b[0m\u001b[0;34m)\u001b[0m\u001b[0;34m\u001b[0m\u001b[0;34m\u001b[0m\u001b[0m\n\u001b[0m",
      "\u001b[0;31mValueError\u001b[0m: invalid literal for int() with base 10: 'Hrant'"
     ]
    }
   ],
   "source": [
    "# trying to convert textual value to an integer yields an error\n",
    "int(name)"
   ]
  },
  {
   "cell_type": "code",
   "execution_count": 19,
   "metadata": {
    "colab": {},
    "colab_type": "code",
    "id": "9Ug3fRxPd127"
   },
   "outputs": [
    {
     "data": {
      "text/plain": [
       "'H'"
      ]
     },
     "execution_count": 19,
     "metadata": {},
     "output_type": "execute_result"
    }
   ],
   "source": [
    "name[0]"
   ]
  },
  {
   "cell_type": "code",
   "execution_count": 20,
   "metadata": {
    "colab": {},
    "colab_type": "code",
    "id": "Ld4J0yDAd2aV"
   },
   "outputs": [
    {
     "data": {
      "text/plain": [
       "'r'"
      ]
     },
     "execution_count": 20,
     "metadata": {},
     "output_type": "execute_result"
    }
   ],
   "source": [
    "name[1]"
   ]
  },
  {
   "cell_type": "code",
   "execution_count": 21,
   "metadata": {
    "colab": {},
    "colab_type": "code",
    "id": "u1BiR2OAd2dx"
   },
   "outputs": [
    {
     "data": {
      "text/plain": [
       "'t'"
      ]
     },
     "execution_count": 21,
     "metadata": {},
     "output_type": "execute_result"
    }
   ],
   "source": [
    "name[-1]"
   ]
  },
  {
   "cell_type": "code",
   "execution_count": 22,
   "metadata": {
    "colab": {},
    "colab_type": "code",
    "id": "9aoyzpm2d7m3"
   },
   "outputs": [
    {
     "data": {
      "text/plain": [
       "'Hra'"
      ]
     },
     "execution_count": 22,
     "metadata": {},
     "output_type": "execute_result"
    }
   ],
   "source": [
    "name[0:3]"
   ]
  },
  {
   "cell_type": "code",
   "execution_count": 23,
   "metadata": {
    "colab": {},
    "colab_type": "code",
    "id": "QCtI5aOVd9M0"
   },
   "outputs": [
    {
     "data": {
      "text/plain": [
       "'Hra'"
      ]
     },
     "execution_count": 23,
     "metadata": {},
     "output_type": "execute_result"
    }
   ],
   "source": [
    "name[:3]"
   ]
  },
  {
   "cell_type": "code",
   "execution_count": 24,
   "metadata": {
    "colab": {},
    "colab_type": "code",
    "id": "Mj8LNW6TeAc_"
   },
   "outputs": [
    {
     "data": {
      "text/plain": [
       "'nt'"
      ]
     },
     "execution_count": 24,
     "metadata": {},
     "output_type": "execute_result"
    }
   ],
   "source": [
    "name[3:]"
   ]
  },
  {
   "cell_type": "code",
   "execution_count": 50,
   "metadata": {
    "colab": {
     "base_uri": "https://localhost:8080/",
     "height": 34
    },
    "colab_type": "code",
    "executionInfo": {
     "elapsed": 1144,
     "status": "ok",
     "timestamp": 1564902701217,
     "user": {
      "displayName": "Hrant Davtyan",
      "photoUrl": "https://lh6.googleusercontent.com/-T6WrkViEJRM/AAAAAAAAAAI/AAAAAAAABHg/byZlLc77qQg/s64/photo.jpg",
      "userId": "07559164183165896752"
     },
     "user_tz": -240
    },
    "id": "RY2B5h85eCRZ",
    "outputId": "f514a562-770a-4934-cc95-dbbc96c223bd"
   },
   "outputs": [
    {
     "data": {
      "text/plain": [
       "'Hat'"
      ]
     },
     "execution_count": 50,
     "metadata": {},
     "output_type": "execute_result"
    }
   ],
   "source": [
    "#select 1 of each 2 character (step = 2)\n",
    "name[::2]"
   ]
  },
  {
   "cell_type": "code",
   "execution_count": 26,
   "metadata": {
    "colab": {
     "base_uri": "https://localhost:8080/",
     "height": 34
    },
    "colab_type": "code",
    "executionInfo": {
     "elapsed": 620,
     "status": "ok",
     "timestamp": 1564902753041,
     "user": {
      "displayName": "Hrant Davtyan",
      "photoUrl": "https://lh6.googleusercontent.com/-T6WrkViEJRM/AAAAAAAAAAI/AAAAAAAABHg/byZlLc77qQg/s64/photo.jpg",
      "userId": "07559164183165896752"
     },
     "user_tz": -240
    },
    "id": "NzTp9F4beNn1",
    "outputId": "f8e3de42-fbab-4a32-c5b4-f74baa3edfd7"
   },
   "outputs": [
    {
     "data": {
      "text/plain": [
       "'tnarH'"
      ]
     },
     "execution_count": 26,
     "metadata": {},
     "output_type": "execute_result"
    }
   ],
   "source": [
    "# reverse the string\n",
    "name[::-1]"
   ]
  },
  {
   "cell_type": "code",
   "execution_count": 27,
   "metadata": {
    "colab": {
     "base_uri": "https://localhost:8080/",
     "height": 34
    },
    "colab_type": "code",
    "executionInfo": {
     "elapsed": 729,
     "status": "ok",
     "timestamp": 1564902801919,
     "user": {
      "displayName": "Hrant Davtyan",
      "photoUrl": "https://lh6.googleusercontent.com/-T6WrkViEJRM/AAAAAAAAAAI/AAAAAAAABHg/byZlLc77qQg/s64/photo.jpg",
      "userId": "07559164183165896752"
     },
     "user_tz": -240
    },
    "id": "o00o2s92eSY8",
    "outputId": "25fbacfb-8d5a-4bcb-fd08-b0df6c2df432"
   },
   "outputs": [
    {
     "data": {
      "text/plain": [
       "'HrantHrant'"
      ]
     },
     "execution_count": 27,
     "metadata": {},
     "output_type": "execute_result"
    }
   ],
   "source": [
    "name+name"
   ]
  },
  {
   "cell_type": "code",
   "execution_count": 28,
   "metadata": {
    "colab": {
     "base_uri": "https://localhost:8080/",
     "height": 34
    },
    "colab_type": "code",
    "executionInfo": {
     "elapsed": 646,
     "status": "ok",
     "timestamp": 1564902810697,
     "user": {
      "displayName": "Hrant Davtyan",
      "photoUrl": "https://lh6.googleusercontent.com/-T6WrkViEJRM/AAAAAAAAAAI/AAAAAAAABHg/byZlLc77qQg/s64/photo.jpg",
      "userId": "07559164183165896752"
     },
     "user_tz": -240
    },
    "id": "G4bRZ6ZOec7k",
    "outputId": "91ee82ff-1c47-4edb-8615-2f9f6d0ef2e6"
   },
   "outputs": [
    {
     "data": {
      "text/plain": [
       "'Hrant Hrant'"
      ]
     },
     "execution_count": 28,
     "metadata": {},
     "output_type": "execute_result"
    }
   ],
   "source": [
    "name + \" \" + name"
   ]
  },
  {
   "cell_type": "code",
   "execution_count": 29,
   "metadata": {
    "colab": {
     "base_uri": "https://localhost:8080/",
     "height": 34
    },
    "colab_type": "code",
    "executionInfo": {
     "elapsed": 626,
     "status": "ok",
     "timestamp": 1564902817029,
     "user": {
      "displayName": "Hrant Davtyan",
      "photoUrl": "https://lh6.googleusercontent.com/-T6WrkViEJRM/AAAAAAAAAAI/AAAAAAAABHg/byZlLc77qQg/s64/photo.jpg",
      "userId": "07559164183165896752"
     },
     "user_tz": -240
    },
    "id": "kysYSNUDeeuI",
    "outputId": "2de46b44-6c60-4790-85c2-3e110920f320"
   },
   "outputs": [
    {
     "data": {
      "text/plain": [
       "'HrantHrantHrantHrantHrant'"
      ]
     },
     "execution_count": 29,
     "metadata": {},
     "output_type": "execute_result"
    }
   ],
   "source": [
    "name*5"
   ]
  },
  {
   "cell_type": "markdown",
   "metadata": {
    "colab_type": "text",
    "id": "Q8G57j6chY_S"
   },
   "source": [
    "## Boolean\n",
    "\n",
    "Boolean (bool) objects attain only two values: True or False. False is encoded as 0 and True is encoded as 1 in Python. Booleans are usually the result of comparison or logical operations. Those operations are:\n",
    "\n",
    "- **==** - equivalence. Yields True if the value on the left equals to the value on the right, and False otherwise.  \n",
    "- **!=** - not equivalent. Yields True if value on the left is not equal to the value on the right. \n",
    "- **in** - test whether the value on the left can be found inside the object on the right\n",
    "- **not** - negation operation, can be used with **in**\n",
    "- **and** - and operator to combine two or more conditions. Both should be satified to yield True.\n",
    "  - **&** sign should be used instead of **and** when arrays (vectors) are tested for conditions.\n",
    "- **or** - or operator to combine two or more conditions. Yields True even if one of the conditions is satisfied.\n",
    "  - **|** sign should be used instead of **or** when arrays (vectors) are tested for conditions.\n",
    "- **<** - less than\n",
    "- **<=** - less than or equal to\n",
    "- **>** - greater than\n",
    "- **>=** - greater than or equal to  "
   ]
  },
  {
   "cell_type": "code",
   "execution_count": 30,
   "metadata": {
    "colab": {
     "base_uri": "https://localhost:8080/",
     "height": 34
    },
    "colab_type": "code",
    "executionInfo": {
     "elapsed": 554,
     "status": "ok",
     "timestamp": 1564905611316,
     "user": {
      "displayName": "Hrant Davtyan",
      "photoUrl": "https://lh6.googleusercontent.com/-T6WrkViEJRM/AAAAAAAAAAI/AAAAAAAABHg/byZlLc77qQg/s64/photo.jpg",
      "userId": "07559164183165896752"
     },
     "user_tz": -240
    },
    "id": "Z42bRFLNhZ0c",
    "outputId": "12bf8ca8-d4e7-4eec-cda8-a2bd76b04ff9"
   },
   "outputs": [
    {
     "data": {
      "text/plain": [
       "True"
      ]
     },
     "execution_count": 30,
     "metadata": {},
     "output_type": "execute_result"
    }
   ],
   "source": [
    "\"Hrant\"==\"Hrant\""
   ]
  },
  {
   "cell_type": "code",
   "execution_count": 31,
   "metadata": {
    "colab": {
     "base_uri": "https://localhost:8080/",
     "height": 34
    },
    "colab_type": "code",
    "executionInfo": {
     "elapsed": 635,
     "status": "ok",
     "timestamp": 1564905626151,
     "user": {
      "displayName": "Hrant Davtyan",
      "photoUrl": "https://lh6.googleusercontent.com/-T6WrkViEJRM/AAAAAAAAAAI/AAAAAAAABHg/byZlLc77qQg/s64/photo.jpg",
      "userId": "07559164183165896752"
     },
     "user_tz": -240
    },
    "id": "khoR67FBpK2h",
    "outputId": "744423d3-db67-4ae4-dd7b-e4c7e938636d"
   },
   "outputs": [
    {
     "data": {
      "text/plain": [
       "False"
      ]
     },
     "execution_count": 31,
     "metadata": {},
     "output_type": "execute_result"
    }
   ],
   "source": [
    "\"Hrant\" == \"hrant\""
   ]
  },
  {
   "cell_type": "code",
   "execution_count": 32,
   "metadata": {
    "colab": {},
    "colab_type": "code",
    "id": "OMvvr56KpKyp"
   },
   "outputs": [
    {
     "data": {
      "text/plain": [
       "True"
      ]
     },
     "execution_count": 32,
     "metadata": {},
     "output_type": "execute_result"
    }
   ],
   "source": [
    "\"Hrant\" != \"hrant\""
   ]
  },
  {
   "cell_type": "code",
   "execution_count": 33,
   "metadata": {
    "colab": {
     "base_uri": "https://localhost:8080/",
     "height": 34
    },
    "colab_type": "code",
    "executionInfo": {
     "elapsed": 638,
     "status": "ok",
     "timestamp": 1564905642172,
     "user": {
      "displayName": "Hrant Davtyan",
      "photoUrl": "https://lh6.googleusercontent.com/-T6WrkViEJRM/AAAAAAAAAAI/AAAAAAAABHg/byZlLc77qQg/s64/photo.jpg",
      "userId": "07559164183165896752"
     },
     "user_tz": -240
    },
    "id": "dAq6-8uOpKud",
    "outputId": "da02bed4-92a8-41ff-e493-66f43a94be7f"
   },
   "outputs": [
    {
     "data": {
      "text/plain": [
       "True"
      ]
     },
     "execution_count": 33,
     "metadata": {},
     "output_type": "execute_result"
    }
   ],
   "source": [
    "\"H\" in \"Hrant\""
   ]
  },
  {
   "cell_type": "code",
   "execution_count": 34,
   "metadata": {
    "colab": {
     "base_uri": "https://localhost:8080/",
     "height": 34
    },
    "colab_type": "code",
    "executionInfo": {
     "elapsed": 558,
     "status": "ok",
     "timestamp": 1564905653516,
     "user": {
      "displayName": "Hrant Davtyan",
      "photoUrl": "https://lh6.googleusercontent.com/-T6WrkViEJRM/AAAAAAAAAAI/AAAAAAAABHg/byZlLc77qQg/s64/photo.jpg",
      "userId": "07559164183165896752"
     },
     "user_tz": -240
    },
    "id": "TfG5BnRzpKog",
    "outputId": "98f827ca-e370-4184-9425-f6dea139af44"
   },
   "outputs": [
    {
     "data": {
      "text/plain": [
       "True"
      ]
     },
     "execution_count": 34,
     "metadata": {},
     "output_type": "execute_result"
    }
   ],
   "source": [
    "\"h\" not in \"Hrant\""
   ]
  },
  {
   "cell_type": "code",
   "execution_count": 35,
   "metadata": {
    "colab": {
     "base_uri": "https://localhost:8080/",
     "height": 34
    },
    "colab_type": "code",
    "executionInfo": {
     "elapsed": 664,
     "status": "ok",
     "timestamp": 1564905677956,
     "user": {
      "displayName": "Hrant Davtyan",
      "photoUrl": "https://lh6.googleusercontent.com/-T6WrkViEJRM/AAAAAAAAAAI/AAAAAAAABHg/byZlLc77qQg/s64/photo.jpg",
      "userId": "07559164183165896752"
     },
     "user_tz": -240
    },
    "id": "n_A4G2P1pU8q",
    "outputId": "5505a382-d4ad-4368-bc5c-638333022a2d"
   },
   "outputs": [
    {
     "data": {
      "text/plain": [
       "False"
      ]
     },
     "execution_count": 35,
     "metadata": {},
     "output_type": "execute_result"
    }
   ],
   "source": [
    "(\"H\" in \"Hrant\") and (\"h\" in \"Hrant\")"
   ]
  },
  {
   "cell_type": "code",
   "execution_count": 36,
   "metadata": {
    "colab": {
     "base_uri": "https://localhost:8080/",
     "height": 34
    },
    "colab_type": "code",
    "executionInfo": {
     "elapsed": 729,
     "status": "ok",
     "timestamp": 1564905751630,
     "user": {
      "displayName": "Hrant Davtyan",
      "photoUrl": "https://lh6.googleusercontent.com/-T6WrkViEJRM/AAAAAAAAAAI/AAAAAAAABHg/byZlLc77qQg/s64/photo.jpg",
      "userId": "07559164183165896752"
     },
     "user_tz": -240
    },
    "id": "q6Ac3gcepnYi",
    "outputId": "5d8a6b5b-6fc1-4412-d031-51021d3340bc"
   },
   "outputs": [
    {
     "data": {
      "text/plain": [
       "False"
      ]
     },
     "execution_count": 36,
     "metadata": {},
     "output_type": "execute_result"
    }
   ],
   "source": [
    "(\"H\" in \"Hrant\") & (\"h\" in \"Hrant\")"
   ]
  },
  {
   "cell_type": "code",
   "execution_count": 37,
   "metadata": {
    "colab": {
     "base_uri": "https://localhost:8080/",
     "height": 34
    },
    "colab_type": "code",
    "executionInfo": {
     "elapsed": 603,
     "status": "ok",
     "timestamp": 1564905690863,
     "user": {
      "displayName": "Hrant Davtyan",
      "photoUrl": "https://lh6.googleusercontent.com/-T6WrkViEJRM/AAAAAAAAAAI/AAAAAAAABHg/byZlLc77qQg/s64/photo.jpg",
      "userId": "07559164183165896752"
     },
     "user_tz": -240
    },
    "id": "SRDctorwpU5P",
    "outputId": "377c7111-6371-4e70-98d8-b4e261350853"
   },
   "outputs": [
    {
     "data": {
      "text/plain": [
       "True"
      ]
     },
     "execution_count": 37,
     "metadata": {},
     "output_type": "execute_result"
    }
   ],
   "source": [
    "(\"H\" in \"Hrant\") or (\"h\" in \"Hrant\")"
   ]
  },
  {
   "cell_type": "code",
   "execution_count": 38,
   "metadata": {
    "colab": {
     "base_uri": "https://localhost:8080/",
     "height": 34
    },
    "colab_type": "code",
    "executionInfo": {
     "elapsed": 645,
     "status": "ok",
     "timestamp": 1564905727164,
     "user": {
      "displayName": "Hrant Davtyan",
      "photoUrl": "https://lh6.googleusercontent.com/-T6WrkViEJRM/AAAAAAAAAAI/AAAAAAAABHg/byZlLc77qQg/s64/photo.jpg",
      "userId": "07559164183165896752"
     },
     "user_tz": -240
    },
    "id": "ctLW9XSPpkyF",
    "outputId": "bbeadd9a-a14b-4a59-8693-9c296f4df371"
   },
   "outputs": [
    {
     "data": {
      "text/plain": [
       "True"
      ]
     },
     "execution_count": 38,
     "metadata": {},
     "output_type": "execute_result"
    }
   ],
   "source": [
    "(\"H\" in \"Hrant\") | (\"h\" in \"Hrant\")"
   ]
  },
  {
   "cell_type": "code",
   "execution_count": 39,
   "metadata": {
    "colab": {},
    "colab_type": "code",
    "id": "yBv_f6e7pUzY"
   },
   "outputs": [
    {
     "data": {
      "text/plain": [
       "False"
      ]
     },
     "execution_count": 39,
     "metadata": {},
     "output_type": "execute_result"
    }
   ],
   "source": [
    "5>5"
   ]
  },
  {
   "cell_type": "code",
   "execution_count": 40,
   "metadata": {
    "colab": {
     "base_uri": "https://localhost:8080/",
     "height": 34
    },
    "colab_type": "code",
    "executionInfo": {
     "elapsed": 521,
     "status": "ok",
     "timestamp": 1564905706041,
     "user": {
      "displayName": "Hrant Davtyan",
      "photoUrl": "https://lh6.googleusercontent.com/-T6WrkViEJRM/AAAAAAAAAAI/AAAAAAAABHg/byZlLc77qQg/s64/photo.jpg",
      "userId": "07559164183165896752"
     },
     "user_tz": -240
    },
    "id": "HbXHrvuDpgBL",
    "outputId": "54366da2-493b-4995-be2f-21419b0feb8e"
   },
   "outputs": [
    {
     "data": {
      "text/plain": [
       "True"
      ]
     },
     "execution_count": 40,
     "metadata": {},
     "output_type": "execute_result"
    }
   ],
   "source": [
    "5>=5"
   ]
  },
  {
   "cell_type": "code",
   "execution_count": 41,
   "metadata": {
    "colab": {},
    "colab_type": "code",
    "id": "F69MmGk3phrc"
   },
   "outputs": [
    {
     "data": {
      "text/plain": [
       "True"
      ]
     },
     "execution_count": 41,
     "metadata": {},
     "output_type": "execute_result"
    }
   ],
   "source": [
    "5<6"
   ]
  },
  {
   "cell_type": "code",
   "execution_count": 42,
   "metadata": {
    "colab": {},
    "colab_type": "code",
    "id": "qMPUvvFWphl4"
   },
   "outputs": [
    {
     "data": {
      "text/plain": [
       "True"
      ]
     },
     "execution_count": 42,
     "metadata": {},
     "output_type": "execute_result"
    }
   ],
   "source": [
    "5<=6"
   ]
  },
  {
   "cell_type": "markdown",
   "metadata": {
    "colab_type": "text",
    "id": "u0V7prRRiEI3"
   },
   "source": [
    "# String methods\n",
    "\n",
    "Each object type has its own operations. Similarly each object has its own functionalities that are available only for that object. Those functions are called methods and are available after insteading a dot following object's name. Several of string methods are:\n",
    "- upper() - makes the string uppercase\n",
    "- lower() - makes the string lowercase\n",
    "- find() - finds a given charater in a string. Returns its index or -1 if not found\n",
    "- split() - splits the sting based on a given character\n",
    "- count() - counts the numer of occurancies of a given character\n",
    "- many other methods which can be accessed after inserting the dot and pressing TAB "
   ]
  },
  {
   "cell_type": "code",
   "execution_count": 43,
   "metadata": {
    "colab": {},
    "colab_type": "code",
    "id": "NHlZAyFXfFf5"
   },
   "outputs": [],
   "source": [
    "my_str = \"Davtyan\""
   ]
  },
  {
   "cell_type": "code",
   "execution_count": 44,
   "metadata": {
    "colab": {
     "base_uri": "https://localhost:8080/",
     "height": 34
    },
    "colab_type": "code",
    "executionInfo": {
     "elapsed": 585,
     "status": "ok",
     "timestamp": 1564905998177,
     "user": {
      "displayName": "Hrant Davtyan",
      "photoUrl": "https://lh6.googleusercontent.com/-T6WrkViEJRM/AAAAAAAAAAI/AAAAAAAABHg/byZlLc77qQg/s64/photo.jpg",
      "userId": "07559164183165896752"
     },
     "user_tz": -240
    },
    "id": "m1riO2_Kqm35",
    "outputId": "0724a834-5351-4e30-d0ea-430e9015cdbf"
   },
   "outputs": [
    {
     "data": {
      "text/plain": [
       "'DAVTYAN'"
      ]
     },
     "execution_count": 44,
     "metadata": {},
     "output_type": "execute_result"
    }
   ],
   "source": [
    "my_str.upper()"
   ]
  },
  {
   "cell_type": "code",
   "execution_count": 45,
   "metadata": {
    "colab": {
     "base_uri": "https://localhost:8080/",
     "height": 34
    },
    "colab_type": "code",
    "executionInfo": {
     "elapsed": 632,
     "status": "ok",
     "timestamp": 1564906001905,
     "user": {
      "displayName": "Hrant Davtyan",
      "photoUrl": "https://lh6.googleusercontent.com/-T6WrkViEJRM/AAAAAAAAAAI/AAAAAAAABHg/byZlLc77qQg/s64/photo.jpg",
      "userId": "07559164183165896752"
     },
     "user_tz": -240
    },
    "id": "wP2hM9meqoRo",
    "outputId": "446cc54c-213d-4d24-e6bf-cb4b3d228718"
   },
   "outputs": [
    {
     "data": {
      "text/plain": [
       "'davtyan'"
      ]
     },
     "execution_count": 45,
     "metadata": {},
     "output_type": "execute_result"
    }
   ],
   "source": [
    "my_str.lower()"
   ]
  },
  {
   "cell_type": "code",
   "execution_count": 46,
   "metadata": {
    "colab": {
     "base_uri": "https://localhost:8080/",
     "height": 34
    },
    "colab_type": "code",
    "executionInfo": {
     "elapsed": 603,
     "status": "ok",
     "timestamp": 1564906007749,
     "user": {
      "displayName": "Hrant Davtyan",
      "photoUrl": "https://lh6.googleusercontent.com/-T6WrkViEJRM/AAAAAAAAAAI/AAAAAAAABHg/byZlLc77qQg/s64/photo.jpg",
      "userId": "07559164183165896752"
     },
     "user_tz": -240
    },
    "id": "70uZ3QCUqpLM",
    "outputId": "fde6dab1-cf3d-41bf-b72c-8e5201e30e7d"
   },
   "outputs": [
    {
     "data": {
      "text/plain": [
       "4"
      ]
     },
     "execution_count": 46,
     "metadata": {},
     "output_type": "execute_result"
    }
   ],
   "source": [
    "my_str.find(\"y\")"
   ]
  },
  {
   "cell_type": "code",
   "execution_count": 47,
   "metadata": {
    "colab": {
     "base_uri": "https://localhost:8080/",
     "height": 34
    },
    "colab_type": "code",
    "executionInfo": {
     "elapsed": 635,
     "status": "ok",
     "timestamp": 1564906014334,
     "user": {
      "displayName": "Hrant Davtyan",
      "photoUrl": "https://lh6.googleusercontent.com/-T6WrkViEJRM/AAAAAAAAAAI/AAAAAAAABHg/byZlLc77qQg/s64/photo.jpg",
      "userId": "07559164183165896752"
     },
     "user_tz": -240
    },
    "id": "Msq8BgNTqqnD",
    "outputId": "9b6677dc-33b3-4467-99d9-12967db70f62"
   },
   "outputs": [
    {
     "data": {
      "text/plain": [
       "-1"
      ]
     },
     "execution_count": 47,
     "metadata": {},
     "output_type": "execute_result"
    }
   ],
   "source": [
    "my_str.find(\"o\")"
   ]
  },
  {
   "cell_type": "code",
   "execution_count": 48,
   "metadata": {
    "colab": {
     "base_uri": "https://localhost:8080/",
     "height": 34
    },
    "colab_type": "code",
    "executionInfo": {
     "elapsed": 538,
     "status": "ok",
     "timestamp": 1564906047511,
     "user": {
      "displayName": "Hrant Davtyan",
      "photoUrl": "https://lh6.googleusercontent.com/-T6WrkViEJRM/AAAAAAAAAAI/AAAAAAAABHg/byZlLc77qQg/s64/photo.jpg",
      "userId": "07559164183165896752"
     },
     "user_tz": -240
    },
    "id": "xmKOaZxVqsNZ",
    "outputId": "74f9b8b8-e499-40d2-94ae-bd0a0dbd21b1"
   },
   "outputs": [
    {
     "data": {
      "text/plain": [
       "['D', 'vty', 'n']"
      ]
     },
     "execution_count": 48,
     "metadata": {},
     "output_type": "execute_result"
    }
   ],
   "source": [
    "my_str.split(\"a\")"
   ]
  },
  {
   "cell_type": "code",
   "execution_count": 49,
   "metadata": {
    "colab": {
     "base_uri": "https://localhost:8080/",
     "height": 34
    },
    "colab_type": "code",
    "executionInfo": {
     "elapsed": 501,
     "status": "ok",
     "timestamp": 1564906061005,
     "user": {
      "displayName": "Hrant Davtyan",
      "photoUrl": "https://lh6.googleusercontent.com/-T6WrkViEJRM/AAAAAAAAAAI/AAAAAAAABHg/byZlLc77qQg/s64/photo.jpg",
      "userId": "07559164183165896752"
     },
     "user_tz": -240
    },
    "id": "ZVUEUsW3q0VO",
    "outputId": "c8b3445d-4a65-42ad-f91f-5769528387de"
   },
   "outputs": [
    {
     "data": {
      "text/plain": [
       "2"
      ]
     },
     "execution_count": 49,
     "metadata": {},
     "output_type": "execute_result"
    }
   ],
   "source": [
    "my_str.count(\"a\")"
   ]
  },
  {
   "cell_type": "code",
   "execution_count": 0,
   "metadata": {
    "colab": {},
    "colab_type": "code",
    "id": "QvBy2sKprDx5"
   },
   "outputs": [],
   "source": []
  }
 ],
 "metadata": {
  "colab": {
   "collapsed_sections": [],
   "name": "Data_types.ipynb",
   "provenance": [],
   "version": "0.3.2"
  },
  "kernelspec": {
   "display_name": "Python 3",
   "language": "python",
   "name": "python3"
  },
  "language_info": {
   "codemirror_mode": {
    "name": "ipython",
    "version": 3
   },
   "file_extension": ".py",
   "mimetype": "text/x-python",
   "name": "python",
   "nbconvert_exporter": "python",
   "pygments_lexer": "ipython3",
   "version": "3.7.1"
  }
 },
 "nbformat": 4,
 "nbformat_minor": 1
}
